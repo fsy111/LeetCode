{
 "cells": [
  {
   "cell_type": "markdown",
   "metadata": {},
   "source": [
    "# 120. Triangle\n",
    "## Description\n",
    "Given a triangle, find the minimum path sum from top to bottom. Each step you may move to adjacent numbers on the row below.\n",
    "\n",
    "For example, given the following triangle\n",
    "\n",
    "[\n",
    "     [2],\n",
    "    [3,4],\n",
    "   [6,5,7],\n",
    "  [4,1,8,3]\n",
    "]\n",
    "The minimum path sum from top to bottom is 11 (i.e., 2 + 3 + 5 + 1 = 11).\n",
    "\n",
    "### Note:\n",
    "Bonus point if you are able to do this using only O(n) extra space, where n is the total number of rows in the triangle."
   ]
  }
 ],
 "metadata": {
  "kernelspec": {
   "display_name": "Python 3",
   "language": "python",
   "name": "python3"
  },
  "language_info": {
   "codemirror_mode": {
    "name": "ipython",
    "version": 3
   },
   "file_extension": ".py",
   "mimetype": "text/x-python",
   "name": "python",
   "nbconvert_exporter": "python",
   "pygments_lexer": "ipython3",
   "version": "3.6.3"
  }
 },
 "nbformat": 4,
 "nbformat_minor": 2
}
