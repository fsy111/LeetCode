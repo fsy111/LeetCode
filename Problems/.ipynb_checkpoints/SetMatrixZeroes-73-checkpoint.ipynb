{
 "cells": [
  {
   "cell_type": "markdown",
   "metadata": {},
   "source": [
    "# 73. Set Matrix Zeroes\n",
    "## Description\n",
    "Given an m x n matrix. If an element is 0, set its entire row and column to 0. Do it in-place.\n",
    "\n",
    "### Follow up:\n",
    "- A straight forward solution using $O(mn)$ space is probably a bad idea.\n",
    "- A simple improvement uses $O(m + n)$ space, but still not the best solution.\n",
    "- Could you devise a constant space solution?\n",
    "\n",
    "### Example 1:\n",
    "```\n",
    "Input: matrix = [[1,1,1],[1,0,1],[1,1,1]]\n",
    "Output: [[1,0,1],[0,0,0],[1,0,1]]\n",
    "```\n",
    "\n",
    "### Example 2:\n",
    "```\n",
    "Input: matrix = [[0,1,2,0],[3,4,5,2],[1,3,1,5]]\n",
    "Output: [[0,0,0,0],[0,4,5,0],[0,3,1,0]]\n",
    "```\n",
    "\n",
    "### Constraints:\n",
    "```\n",
    "m == matrix.length\n",
    "n == matrix[0].length\n",
    "1 <= m, n <= 200\n",
    "-10^9 <= matrix[i][j] <= 10^9\n",
    "```"
   ]
  },
  {
   "cell_type": "code",
   "execution_count": null,
   "metadata": {},
   "outputs": [],
   "source": []
  }
 ],
 "metadata": {
  "kernelspec": {
   "display_name": "Python 3",
   "language": "python",
   "name": "python3"
  },
  "language_info": {
   "codemirror_mode": {
    "name": "ipython",
    "version": 3
   },
   "file_extension": ".py",
   "mimetype": "text/x-python",
   "name": "python",
   "nbconvert_exporter": "python",
   "pygments_lexer": "ipython3",
   "version": "3.6.3"
  }
 },
 "nbformat": 4,
 "nbformat_minor": 2
}
