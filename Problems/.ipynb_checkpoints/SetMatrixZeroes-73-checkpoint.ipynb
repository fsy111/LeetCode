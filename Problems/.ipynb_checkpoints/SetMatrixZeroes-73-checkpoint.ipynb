{
 "cells": [
  {
   "cell_type": "markdown",
   "metadata": {},
   "source": [
    "# 73. Set Matrix Zeroes\n",
    "## Description\n",
    "Given an m x n matrix. If an element is 0, set its entire row and column to 0. Do it in-place.\n",
    "\n",
    "### Follow up:\n",
    "- A straight forward solution using $O(mn)$ space is probably a bad idea.\n",
    "- A simple improvement uses $O(m + n)$ space, but still not the best solution.\n",
    "- Could you devise a constant space solution?\n",
    "\n",
    "### Example 1:\n",
    "```\n",
    "Input: matrix = [[1,1,1],[1,0,1],[1,1,1]]\n",
    "Output: [[1,0,1],[0,0,0],[1,0,1]]\n",
    "```\n",
    "\n",
    "### Example 2:\n",
    "```\n",
    "Input: matrix = [[0,1,2,0],[3,4,5,2],[1,3,1,5]]\n",
    "Output: [[0,0,0,0],[0,4,5,0],[0,3,1,0]]\n",
    "```\n",
    "\n",
    "### Constraints:\n",
    "```\n",
    "m == matrix.length\n",
    "n == matrix[0].length\n",
    "1 <= m, n <= 200\n",
    "-10^9 <= matrix[i][j] <= 10^9\n",
    "```"
   ]
  },
  {
   "cell_type": "code",
   "execution_count": null,
   "metadata": {},
   "outputs": [],
   "source": [
    "class Solution:\n",
    "    def setZeroes(self, matrix: List[List[int]]) -> None:\n",
    "        \"\"\"\n",
    "        Do not return anything, modify matrix in-place instead.\n",
    "        \"\"\"\n",
    "        if not matrix: return\n",
    "        mrow = len(matrix)\n",
    "        ncol = len(matrix[0])\n",
    "        c1 = False\n",
    "\n",
    "        for i in range(mrow):\n",
    "            if matrix[i][0] == 0:\n",
    "                c1 = True\n",
    "            for j in range(1, ncol):\n",
    "                if matrix[i][j] == 0:\n",
    "                    matrix[i][0] = 0\n",
    "                    matrix[0][j] = 0\n",
    "                \n",
    "        for i in range(1, mrow):\n",
    "            for j in range(1, ncol):\n",
    "                if (matrix[i][0] == 0) or (matrix[0][j]==0):\n",
    "                    matrix[i][j] = 0\n",
    "                    \n",
    "        if matrix[0][0] == 0: \n",
    "            for j in range(ncol):\n",
    "                matrix[0][j] = 0\n",
    "                \n",
    "        if c1: \n",
    "            for i in range(mrow):\n",
    "                matrix[i][0] = 0"
   ]
  },
  {
   "cell_type": "markdown",
   "metadata": {},
   "source": [
    "## Submission result\n",
    "Time Submitted | Status | Runtime | Memory | Language\n",
    "---------- | ---------- | --------- | --------- | -----------\n",
    "08/22/2020 16:19 | Accepted | 136 ms | 14.3 MB | python3\n",
    "\n",
    "- Runtime: 136 ms, faster than 84.78% of Python3 online submissions for Set Matrix Zeroes.\n",
    "- Memory Usage: 14.3 MB, less than 70.80% of Python3 online submissions for Set Matrix Zeroes."
   ]
  }
 ],
 "metadata": {
  "kernelspec": {
   "display_name": "Python 3",
   "language": "python",
   "name": "python3"
  },
  "language_info": {
   "codemirror_mode": {
    "name": "ipython",
    "version": 3
   },
   "file_extension": ".py",
   "mimetype": "text/x-python",
   "name": "python",
   "nbconvert_exporter": "python",
   "pygments_lexer": "ipython3",
   "version": "3.6.3"
  }
 },
 "nbformat": 4,
 "nbformat_minor": 2
}
