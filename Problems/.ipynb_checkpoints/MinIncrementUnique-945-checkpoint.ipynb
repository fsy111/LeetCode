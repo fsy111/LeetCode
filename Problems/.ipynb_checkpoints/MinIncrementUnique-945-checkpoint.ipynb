{
 "cells": [
  {
   "cell_type": "markdown",
   "metadata": {},
   "source": [
    "# 945. Minimum Increment to Make Array Unique\n",
    "## Description\n",
    "Given an array of integers `A`, a move consists of choosing any `A[i]`, and incrementing it by 1.\n",
    "\n",
    "Return the least number of moves to make every value in `A` unique.\n",
    "\n",
    "### Example 1:\n",
    "```\n",
    "Input: [1,2,2]\n",
    "Output: 1\n",
    "```\n",
    "#### Explanation:  \n",
    "After 1 move, the array could be `[1, 2, 3]`.\n",
    "\n",
    "### Example 2:\n",
    "```\n",
    "Input: [3,2,1,2,1,7]\n",
    "Output: 6\n",
    "```\n",
    "#### Explanation:  \n",
    "After 6 moves, the array could be `[3, 4, 1, 2, 5, 7]`.\n",
    "It can be shown with 5 or less moves that it is impossible for the array to have all unique values.\n",
    " \n",
    "### Note:\n",
    "- `0 <= len(A) <= 40000`\n",
    "- `0 <= A[i] < 40000`"
   ]
  },
  {
   "cell_type": "code",
   "execution_count": null,
   "metadata": {},
   "outputs": [],
   "source": [
    "class Solution:\n",
    "    def minIncrementForUnique(self, A: List[int]) -> int:\n",
    "        A.sort()\n",
    "        ans = 0\n",
    "        for i in range(1, len(A)):\n",
    "            m = max(A[i-1] + 1 - A[i], 0)\n",
    "            ans += m \n",
    "            A[i] += m\n",
    "        \n",
    "        return ans "
   ]
  },
  {
   "cell_type": "markdown",
   "metadata": {},
   "source": [
    "## Submission result\n",
    "Time Submitted | Status | Runtime | Memory | Language\n",
    "---------- | ---------- | --------- | --------- | -----------\n",
    "08/23/2020 00:26 | Accepted | 364 ms | 19 MB | python3\n",
    "\n",
    "- Runtime: 364 ms, faster than 70.45% of Python3 online submissions for Minimum Increment to Make Array Unique.\n",
    "- Memory Usage: 19 MB, less than 87.69% of Python3 online submissions for Minimum Increment to Make Array Unique."
   ]
  },
  {
   "cell_type": "code",
   "execution_count": null,
   "metadata": {},
   "outputs": [],
   "source": [
    "# A solution from LeetCode, use counting\n",
    "class Solution:\n",
    "    def minIncrementForUnique(self, A: List[int]) -> int:\n",
    "        count = collections.Counter(A)\n",
    "        taken = []\n",
    "\n",
    "        ans = 0\n",
    "        for x in range(100000):\n",
    "            if count[x] >= 2:\n",
    "                taken.extend([x] * (count[x] - 1))\n",
    "            elif taken and count[x] == 0:\n",
    "                ans += x - taken.pop()\n",
    "        return ans"
   ]
  }
 ],
 "metadata": {
  "kernelspec": {
   "display_name": "Python 3",
   "language": "python",
   "name": "python3"
  },
  "language_info": {
   "codemirror_mode": {
    "name": "ipython",
    "version": 3
   },
   "file_extension": ".py",
   "mimetype": "text/x-python",
   "name": "python",
   "nbconvert_exporter": "python",
   "pygments_lexer": "ipython3",
   "version": "3.6.3"
  }
 },
 "nbformat": 4,
 "nbformat_minor": 2
}
