{
 "cells": [
  {
   "cell_type": "markdown",
   "metadata": {},
   "source": [
    "# 581. Shortest Unsorted Continuous Subarray\n",
    "## Description\n",
    "Given an integer array, you need to find one continuous subarray that if you only sort this subarray in ascending order, then the whole array will be sorted in ascending order, too.\n",
    "\n",
    "You need to find the shortest such subarray and output its length.\n",
    "\n",
    "### Example 1:\n",
    "```\n",
    "Input: [2, 6, 4, 8, 10, 9, 15]\n",
    "Output: 5\n",
    "```\n",
    "#### Explanation: \n",
    "You need to sort `[6, 4, 8, 10, 9]` in ascending order to make the whole array sorted in ascending order.\n",
    "\n",
    "### Note:\n",
    "- Then length of the input array is in range `[1, 10,000]`.\n",
    "- The input array may contain duplicates, so ascending order here means `<=`."
   ]
  },
  {
   "cell_type": "code",
   "execution_count": null,
   "metadata": {},
   "outputs": [],
   "source": [
    "### STACK\n",
    "class Solution:\n",
    "    def findUnsortedSubarray(self, nums: List[int]) -> int:\n",
    "        n = len(nums)\n",
    "        \n",
    "        # Find the left boundary of wrong position\n",
    "        # pop top element from the stack until current number <= stack top\n",
    "        # then the stack length is the correct position of current element.\n",
    "        stack = [0]\n",
    "        left = 10000\n",
    "        for i in range(1,n):\n",
    "            while stack and (nums[i] < nums[stack[-1]]):\n",
    "                left = min(left, stack.pop())\n",
    "            stack.append(i)\n",
    "        \n",
    "        # Find the right boundary of wrong position\n",
    "        stack = [n-1]\n",
    "        right = 0\n",
    "        for i in range(n-2, -1, -1):\n",
    "            while stack and (nums[i] > nums[stack[-1]]):\n",
    "                right = max(right, stack.pop())\n",
    "            stack.append(i)\n",
    "        \n",
    "        return max(right-left+1, 0)\n",
    "        "
   ]
  },
  {
   "cell_type": "markdown",
   "metadata": {},
   "source": [
    "## Submission result\n",
    "Time Submitted | Status | Runtime | Memory | Language\n",
    "---------- | ---------- | --------- | --------- | -----------\n",
    "08/22/2020 23:24 | Accepted | 292 ms | 14.9 MB | python3\n",
    "\n",
    "- Runtime: 292 ms, faster than 36.17% of Python3 online submissions for Shortest Unsorted Continuous Subarray.\n",
    "- Memory Usage: 14.9 MB, less than 91.35% of Python3 online submissions for Shortest Unsorted Continuous Subarray."
   ]
  },
  {
   "cell_type": "code",
   "execution_count": null,
   "metadata": {},
   "outputs": [],
   "source": [
    "class Solution:\n",
    "    def findUnsortedSubarray(self, nums: List[int]) -> int:\n",
    "        n = len(nums)\n",
    "        flag = False\n",
    "        minimum = inf\n",
    "        for i in range(1,n):\n",
    "            if nums[i] < nums[i-1]:\n",
    "                flag = True    ## unsorted subarray has started\n",
    "            if flag:\n",
    "                minimum = min(nums[i], minimum)\n",
    "        \n",
    "        flag = False\n",
    "        maximum = -inf\n",
    "        for i in range(n-2, -1, -1):\n",
    "            if nums[i] > nums[i+1]:\n",
    "                flag = True\n",
    "            if flag:\n",
    "                maximum = max(nums[i], maximum)\n",
    "        if maximum < minimum: return 0\n",
    "        \n",
    "        for i in range(n):\n",
    "            if nums[i] > minimum:\n",
    "                left = i\n",
    "                break\n",
    "        \n",
    "        for i in range(n-1, -1, -1):\n",
    "            if nums[i] < maximum:\n",
    "                right = i\n",
    "                break\n",
    "        \n",
    "        return right-left+1"
   ]
  },
  {
   "cell_type": "markdown",
   "metadata": {},
   "source": [
    "## Submission result\n",
    "Time Submitted | Status | Runtime | Memory | Language\n",
    "---------- | ---------- | --------- | --------- | -----------\n",
    "08/22/2020 23:48 | Accepted | 264 ms | 14.9 MB | python3\n",
    "\n",
    "- Runtime: 264 ms, faster than 49.08% of Python3 online submissions for Shortest Unsorted Continuous Subarray.\n",
    "- Memory Usage: 14.9 MB, less than 90.09% of Python3 online submissions for Shortest Unsorted Continuous Subarray."
   ]
  }
 ],
 "metadata": {
  "kernelspec": {
   "display_name": "Python 3",
   "language": "python",
   "name": "python3"
  },
  "language_info": {
   "codemirror_mode": {
    "name": "ipython",
    "version": 3
   },
   "file_extension": ".py",
   "mimetype": "text/x-python",
   "name": "python",
   "nbconvert_exporter": "python",
   "pygments_lexer": "ipython3",
   "version": "3.6.3"
  }
 },
 "nbformat": 4,
 "nbformat_minor": 2
}
