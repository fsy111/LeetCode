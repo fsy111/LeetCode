{
 "cells": [
  {
   "cell_type": "markdown",
   "metadata": {},
   "source": [
    "# 202. Happy Number\n",
    "## Description\n",
    "Write an algorithm to determine if a number $n$ is \"happy\".\n",
    "\n",
    "A happy number is a number defined by the following process: Starting with any positive integer, replace the number by the sum of the squares of its digits, and repeat the process until the number equals $1$ (where it will stay), or it loops endlessly in a cycle which does not include $1$. Those numbers for which this process ends in $1$ are happy numbers.\n",
    "\n",
    "Return `True` if $n$ is a happy number, and `False` if not.\n",
    "\n",
    "### Example: \n",
    "``` python\n",
    "Input: 19\n",
    "Output: True\n",
    "```\n",
    "#### Explanation: \n",
    "$1^2 + 9^2 = 82$\n",
    "$8^2 + 2^2 = 68$\n",
    "$6^2 + 8^2 = 100$\n",
    "$1^2 + 0^2 + 0^2 = 1$"
   ]
  },
  {
   "cell_type": "code",
   "execution_count": null,
   "metadata": {},
   "outputs": [],
   "source": [
    "class Solution:\n",
    "    def isHappy(self, n: int) -> bool:\n",
    "        \n",
    "        def DigitSquare(n: int) -> int:\n",
    "            s = 0\n",
    "            while n != 0:\n",
    "                n, r = divmod(n, 10)\n",
    "                s += r * r\n",
    "            return s\n",
    "        \n",
    "        fast, slow = n, n\n",
    "        while fast != 1:\n",
    "            fast = DigitSquare(DigitSquare(fast))\n",
    "            slow = DigitSquare(slow)\n",
    "            if fast == slow: return False\n",
    "        return True        \n",
    "                "
   ]
  },
  {
   "cell_type": "markdown",
   "metadata": {},
   "source": [
    "## Submission result\n",
    "Time Submitted | Status | Runtime | Memory | Language\n",
    "---------- | ---------- | --------- | --------- | -----------\n",
    "08/16/2020 19:37 | Accepted | 20 ms | 13.9 MB | python3\n",
    "\n",
    "- Runtime: 20 ms, faster than 99.92% of Python3 online submissions for Happy Number.\n",
    "- Memory Usage: 13.9 MB, less than 30.59% of Python3 online submissions for Happy Number."
   ]
  }
 ],
 "metadata": {
  "kernelspec": {
   "display_name": "Python 3",
   "language": "python",
   "name": "python3"
  },
  "language_info": {
   "codemirror_mode": {
    "name": "ipython",
    "version": 3
   },
   "file_extension": ".py",
   "mimetype": "text/x-python",
   "name": "python",
   "nbconvert_exporter": "python",
   "pygments_lexer": "ipython3",
   "version": "3.6.3"
  }
 },
 "nbformat": 4,
 "nbformat_minor": 2
}
