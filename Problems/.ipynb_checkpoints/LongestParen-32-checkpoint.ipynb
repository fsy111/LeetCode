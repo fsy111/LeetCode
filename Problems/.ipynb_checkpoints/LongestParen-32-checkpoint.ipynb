{
 "cells": [
  {
   "cell_type": "markdown",
   "metadata": {},
   "source": [
    "# 32. Longest Valid Parentheses\n",
    "## Description\n",
    "Given a string containing just the characters `'('` and `')'`, find the length of the longest valid (well-formed) parentheses substring.\n",
    "\n",
    "### Example 1:\n",
    "```\n",
    "Input: \"(()\"\n",
    "Output: 2\n",
    "```\n",
    "#### Explanation: \n",
    "The longest valid parentheses substring is `\"()\"`.\n",
    "\n",
    "### Example 2:\n",
    "```\n",
    "Input: \")()())\"\n",
    "Output: 4\n",
    "```\n",
    "#### Explanation: \n",
    "The longest valid parentheses substring is `\"()()\"`."
   ]
  },
  {
   "cell_type": "markdown",
   "metadata": {},
   "source": [
    "## Dynamic Programming"
   ]
  },
  {
   "cell_type": "code",
   "execution_count": null,
   "metadata": {},
   "outputs": [],
   "source": [
    "class Solution:\n",
    "    def longestValidParentheses(self, s: str) -> int:\n",
    "        n = len(s)\n",
    "        dp = [0] * (n+1)\n",
    "        for i in range(1,n):\n",
    "            if s[i] == ')':\n",
    "                if s[i-1] == '(':\n",
    "                    dp[i+1] = dp[i-1] + 2\n",
    "                else:\n",
    "                    if dp[i] < i and s[ (i-1) - dp[i] ] == '(':\n",
    "                        dp[ i+1 ] = dp[ i - 1 - dp[i] ] + dp[i] + 2\n",
    "        return max(dp)"
   ]
  },
  {
   "cell_type": "markdown",
   "metadata": {},
   "source": [
    "## Submission result\n",
    "Time Submitted | Status | Runtime | Memory | Language\n",
    "---------- | ---------- | --------- | --------- | -----------\n",
    "08/25/2020 18:05 | Accepted | 48 ms | 13.9 MB | python3\n",
    "\n",
    "- Runtime: 48 ms, faster than 68.88% of Python3 online submissions for Longest Valid Parentheses.\n",
    "- Memory Usage: 13.9 MB, less than 79.99% of Python3 online submissions for Longest Valid Parentheses."
   ]
  },
  {
   "cell_type": "markdown",
   "metadata": {},
   "source": [
    "## Stack\n",
    "- Initial the stack by `stack[top] = -1`.\n",
    "- If current element `s[i] == (`, then push index `i` into the stack.\n",
    "- If current element `s[i] == )`, then pop the top element from the stack. If now the stack is empty, then push the current `)` in the stack (which means the valid subarray has finished). Otherwise update the length of current subarray by `i - stack[top]`. "
   ]
  },
  {
   "cell_type": "code",
   "execution_count": null,
   "metadata": {},
   "outputs": [],
   "source": [
    "class Solution:\n",
    "    def longestValidParentheses(self, s: str) -> int:\n",
    "        n = len(s)\n",
    "        stack = [-1]\n",
    "        longest, length = 0, 0\n",
    "        for i in range(n):\n",
    "            if s[i] == ')':\n",
    "                stack.pop()\n",
    "                if stack: \n",
    "                    length = i - stack[-1]\n",
    "                    longest = max(longest, length)\n",
    "                    continue\n",
    "            stack.append(i)\n",
    "        return max(longest, length)"
   ]
  },
  {
   "cell_type": "markdown",
   "metadata": {},
   "source": [
    "## Submission result\n",
    "Time Submitted | Status | Runtime | Memory | Language\n",
    "---------- | ---------- | --------- | --------- | -----------\n",
    "08/25/2020 19:52 | Accepted | 52 ms | 14.4 MB | python3\n",
    "\n",
    "- Runtime: 52 ms, faster than 56.43% of Python3 online submissions for Longest Valid Parentheses.\n",
    "- Memory Usage: 14.4 MB, less than 48.42% of Python3 online submissions for Longest Valid Parentheses."
   ]
  },
  {
   "cell_type": "markdown",
   "metadata": {},
   "source": []
  }
 ],
 "metadata": {
  "kernelspec": {
   "display_name": "Python 3",
   "language": "python",
   "name": "python3"
  },
  "language_info": {
   "codemirror_mode": {
    "name": "ipython",
    "version": 3
   },
   "file_extension": ".py",
   "mimetype": "text/x-python",
   "name": "python",
   "nbconvert_exporter": "python",
   "pygments_lexer": "ipython3",
   "version": "3.6.3"
  }
 },
 "nbformat": 4,
 "nbformat_minor": 2
}
