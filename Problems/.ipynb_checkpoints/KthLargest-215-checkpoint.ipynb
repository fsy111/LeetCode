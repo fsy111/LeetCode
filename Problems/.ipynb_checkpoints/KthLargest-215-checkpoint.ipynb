{
 "cells": [
  {
   "cell_type": "markdown",
   "metadata": {},
   "source": [
    "# 215. Kth Largest Element in an Array\n",
    "## Description\n",
    "Find the kth largest element in an unsorted array. Note that it is the $k^{\\text{th}}$ largest element in the sorted order, not the $k^{\\text{th}}$ distinct element.\n",
    "\n",
    "### Example 1:\n",
    "```\n",
    "Input: [3,2,1,5,6,4] and k = 2\n",
    "Output: 5\n",
    "```\n",
    "\n",
    "### Example 2:\n",
    "```\n",
    "Input: [3,2,3,1,2,4,5,5,6] and k = 4\n",
    "Output: 4\n",
    "```\n",
    "\n",
    "### Note: \n",
    "You may assume `k` is always valid, `1 <= k <= len(array)`."
   ]
  },
  {
   "cell_type": "code",
   "execution_count": null,
   "metadata": {},
   "outputs": [],
   "source": [
    "class Solution:\n",
    "    def findKthLargest(self, nums: List[int], k: int) -> int:\n",
    "        def Partition(nums, left, right):\n",
    "            p = left\n",
    "            while left <= right:\n",
    "                if nums[left] >= nums[p]:\n",
    "                    left += 1\n",
    "                else:\n",
    "                    nums[left], nums[right] = nums[right], nums[left]\n",
    "                    right -= 1\n",
    "            nums[p], nums[right] = nums[right], nums[p]\n",
    "            return right\n",
    "        \n",
    "        def qsort(nums, start, end):\n",
    "            p = Partition(nums, start, end)\n",
    "            if p == k-1:\n",
    "                return nums[p]\n",
    "            elif p < k-1:\n",
    "                return qsort(nums, p+1, end)\n",
    "            else: return qsort(nums, start, p-1)\n",
    "            \n",
    "        return qsort(nums, 0, len(nums)-1)"
   ]
  },
  {
   "cell_type": "markdown",
   "metadata": {},
   "source": [
    "## Submission result\n",
    "Time Submitted | Status | Runtime | Memory | Language\n",
    "---------- | ---------- | --------- | --------- | -----------\n",
    "08/28/2020 04:24 | Accepted | 112 ms | 14.4 MB | python3\n",
    "\n",
    "Runtime: 112 ms, faster than 33.63% of Python3 online submissions for Kth Largest Element in an Array.\n",
    "Memory Usage: 14.4 MB, less than 92.00% of Python3 online submissions for Kth Largest Element in an Array."
   ]
  },
  {
   "cell_type": "code",
   "execution_count": null,
   "metadata": {},
   "outputs": [],
   "source": [
    "class Solution:\n",
    "    def findKthLargest(self, nums: List[int], k: int) -> int:\n",
    "        \n",
    "        minheap = []\n",
    "        for num in nums:\n",
    "            heapq.heappush(minheap, num)\n",
    "            \n",
    "        while len(minheap) > k:\n",
    "            heapq.heappop(minheap)\n",
    "            \n",
    "        return minheap[0]"
   ]
  },
  {
   "cell_type": "markdown",
   "metadata": {},
   "source": [
    "## Submission result\n",
    "Time Submitted | Status | Runtime | Memory | Language\n",
    "---------- | ---------- | --------- | --------- | -----------\n",
    "08/28/2020 04:31 | Accepted | 72 ms | 14.4 MB | python3\n",
    "\n",
    "Runtime: 72 ms, faster than 68.52% of Python3 online submissions for Kth Largest Element in an Array.\n",
    "Memory Usage: 14.4 MB, less than 95.24% of Python3 online submissions for Kth Largest Element in an Array."
   ]
  }
 ],
 "metadata": {
  "kernelspec": {
   "display_name": "Python 3",
   "language": "python",
   "name": "python3"
  },
  "language_info": {
   "codemirror_mode": {
    "name": "ipython",
    "version": 3
   },
   "file_extension": ".py",
   "mimetype": "text/x-python",
   "name": "python",
   "nbconvert_exporter": "python",
   "pygments_lexer": "ipython3",
   "version": "3.6.3"
  }
 },
 "nbformat": 4,
 "nbformat_minor": 2
}
