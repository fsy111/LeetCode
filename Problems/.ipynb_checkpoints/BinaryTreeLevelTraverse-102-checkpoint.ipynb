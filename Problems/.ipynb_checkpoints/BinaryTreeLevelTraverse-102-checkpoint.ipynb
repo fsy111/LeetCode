{
 "cells": [
  {
   "cell_type": "markdown",
   "metadata": {},
   "source": [
    "# 102. Binary Tree Level Order Traversal"
   ]
  },
  {
   "cell_type": "code",
   "execution_count": null,
   "metadata": {},
   "outputs": [],
   "source": [
    "# Definition for a binary tree node.\n",
    "# class TreeNode:\n",
    "#     def __init__(self, val=0, left=None, right=None):\n",
    "#         self.val = val\n",
    "#         self.left = left\n",
    "#         self.right = right\n",
    "class Solution:\n",
    "    def levelOrder(self, root: TreeNode) -> List[List[int]]:\n",
    "        ans = []\n",
    "        current_level = [root] if root else []\n",
    "        while current_level:\n",
    "            ans.append([])\n",
    "            nextlevel = []\n",
    "            for node in current_level:\n",
    "                ans[-1].append(node.val)\n",
    "                if node.left:\n",
    "                    nextlevel.append(node.left)\n",
    "                if node.right:\n",
    "                    nextlevel.append(node.right)    \n",
    "            current_level = nextlevel\n",
    "        return ans"
   ]
  },
  {
   "cell_type": "markdown",
   "metadata": {},
   "source": [
    "- Runtime: 28 ms, faster than 95.63% of Python3 online submissions for Binary Tree Level Order Traversal.\n",
    "- Memory Usage: 14 MB, less than 78.84% of Python3 online submissions for Binary Tree Level Order Traversal."
   ]
  }
 ],
 "metadata": {
  "kernelspec": {
   "display_name": "Python 3",
   "language": "python",
   "name": "python3"
  },
  "language_info": {
   "codemirror_mode": {
    "name": "ipython",
    "version": 3
   },
   "file_extension": ".py",
   "mimetype": "text/x-python",
   "name": "python",
   "nbconvert_exporter": "python",
   "pygments_lexer": "ipython3",
   "version": "3.6.3"
  }
 },
 "nbformat": 4,
 "nbformat_minor": 2
}
