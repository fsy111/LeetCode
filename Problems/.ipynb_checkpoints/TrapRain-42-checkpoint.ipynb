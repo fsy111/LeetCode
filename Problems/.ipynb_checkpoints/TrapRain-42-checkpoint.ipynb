{
 "cells": [
  {
   "cell_type": "markdown",
   "metadata": {},
   "source": [
    "# 42. Trapping Rain Water\n",
    "## Description\n",
    "Given n non-negative integers representing an elevation map where the width of each bar is 1, compute how much water it is able to trap after raining.\n",
    "\n",
    "## Example:\n",
    "```\n",
    "Input: [0,1,0,2,1,0,1,3,2,1,2,1]\n",
    "Output: 6\n",
    "```\n",
    "\n",
    "## Tags: Dynamic Programming, Simplification by Two Pointers, Stack"
   ]
  },
  {
   "cell_type": "markdown",
   "metadata": {},
   "source": [
    "## 1. Dynamic programming"
   ]
  },
  {
   "cell_type": "code",
   "execution_count": 12,
   "metadata": {},
   "outputs": [
    {
     "data": {
      "text/plain": [
       "6"
      ]
     },
     "execution_count": 12,
     "metadata": {},
     "output_type": "execute_result"
    }
   ],
   "source": [
    "class Solution:\n",
    "    def trap(self, height) -> int:\n",
    "        length = len(height)\n",
    "        \n",
    "        maxleft = height[:]\n",
    "        for i in range(1, length):    # maxleft = the maximum height of bars on the left\n",
    "            maxleft[i] = max(maxleft[i-1], height[i])\n",
    "           \n",
    "        maxright = 0\n",
    "        v = 0\n",
    "        for i in range(length - 1, -1, -1):\n",
    "            maxright = max(maxright, height[i])    # maxheight = the maximum height of bars on the right\n",
    "            v += min(maxleft[i], maxright) - height[i]    \n",
    "\n",
    "        return v    \n",
    "        "
   ]
  },
  {
   "cell_type": "markdown",
   "metadata": {},
   "source": [
    "### Submission result: dynamic programming\n",
    "Time Submitted | Status | Runtime | Memory | Language\n",
    "---------- | ---------- | --------- | --------- | -----------\n",
    "08/16/2020 08:59 | Accepted | 44 ms | 14.4 MB | python3\n",
    "\n",
    "- Runtime: 44 ms, faster than 97.42% of Python3 online submissions for Trapping Rain Water.\n",
    "- Memory Usage: 14.4 MB, less than 95.39%  of Python3 online submissions for Trapping Rain Water.\n",
    "\n",
    "- Time Complexity: $O(n)$.\n",
    "- Space Complexity: $O(n)$."
   ]
  },
  {
   "cell_type": "markdown",
   "metadata": {},
   "source": [
    "## 2. Stack"
   ]
  },
  {
   "cell_type": "code",
   "execution_count": 26,
   "metadata": {},
   "outputs": [
    {
     "data": {
      "text/plain": [
       "6"
      ]
     },
     "execution_count": 26,
     "metadata": {},
     "output_type": "execute_result"
    }
   ],
   "source": [
    "class Solution:\n",
    "    def trap(self, height) -> int:\n",
    "        length = len(height)\n",
    "        ind = []\n",
    "        v = 0\n",
    "        for i in range(length):    # \n",
    "            while ind:\n",
    "                if height[ind[-1]] >= height[i]: break\n",
    "                currind = ind.pop(-1)\n",
    "                if ind:\n",
    "                    width = i - ind[-1] - 1\n",
    "                    v += (min(height[i], height[ind[-1]]) - height[currind]) * width \n",
    "            ind.append(i)\n",
    "        return v\n"
   ]
  },
  {
   "cell_type": "markdown",
   "metadata": {},
   "source": [
    "### Algorithm:\n",
    "Use stack to store the indices of the bars.\n",
    "\n",
    "Iterate the array `height[i]`\n",
    " - While stack is not empty and `height[cur]>height[st[-1]]`, meaning that the stack element can be popped.\n",
    "   - Pop the top element as `currind`.\n",
    "   - If the stack is nonempty, then find the width between the current height `i` and the element at top of stack `st[-1]` , which is to be filled. `width = i - st[-1] - 1`.\n",
    "   - Find the bounded height `bounded_height = min(height[i], height[st[-1]]) - height[currind]`\n",
    "   - Add resulting trapped water to answer `v += width * bounded_height`\n",
    " - Push current index `i` to top of the stack\n",
    " - Move `i` to the next position\n",
    " \n",
    "Time Complexity: $O(n)$.\n",
    "Space Complexity: $O(n)$.\n",
    "\n",
    "### Submission result: dynamic programming\n",
    "Time Submitted | Status | Runtime | Memory | Language\n",
    "---------- | ---------- | --------- | --------- | -----------\n",
    "08/16/2020 11:22 | Accepted | 48 ms | 14.5 MB | python3\n",
    "\n",
    "Runtime: 48 ms, faster than 92.08% of Python3 online submissions for Trapping Rain Water.\n",
    "Memory Usage: 14.5 MB, less than 61.41% of Python3 online submissions for Trapping Rain Water."
   ]
  },
  {
   "cell_type": "markdown",
   "metadata": {},
   "source": [
    "## 3. Two pointers\n",
    "\n",
    "### Intuition:\n",
    "We can use two pointers to simplify the dynamic programming.\n",
    "When we iterate `i: length-1 -> 0`, since we only want the smaller height between `maxright` and `maxleft[i]`, if `maxright > maxleft[i]` and `maxleft[j] <= maxleft[i]` for all `j: i -> 0`, meaning that\n",
    "`min(maxright, maxleft[j]) = maxleft[j]`, i.e. the `bounded_height` depends on the left boundary, then we don't need go through `i -> 0` and the water trapped by `0 -> i` can be calculated in the first pass `i : 0 -> length-1`.\n",
    "This implies us that we can only keep two pointers `left` and `right`.\n",
    "When `height[left] < height[right]`, then if `height[left] < maxleft`, water will be trapped and the left boundary is lower than the right boundary (because the left pointer only stops when it reaches the first bar higher than the height of right pointer, which is also the highest height on the right so far.), hence add `maxleft - height[left]` to the answer; if `height[left] >= maxleft` then update `maxleft` and then `left` moves forward."
   ]
  },
  {
   "cell_type": "code",
   "execution_count": null,
   "metadata": {},
   "outputs": [],
   "source": [
    "class Solution:\n",
    "    def trap(self, height) -> int:\n",
    "        v = 0\n",
    "        length = len(height)\n",
    "        l, r = 0, length - 1\n",
    "        maxleft, maxright = 0, 0\n",
    "        while l < r:\n",
    "            if height[l] < height[r]:  # l moves forward until reaches the first bar higher than height[r]\n",
    "                maxleft = max(maxleft, height[l])\n",
    "                v += maxleft - height[l]\n",
    "                l += 1\n",
    "            else:\n",
    "                maxright = max(maxright, height[r])\n",
    "                v += maxright - height[r]\n",
    "                r -= 1\n",
    "        return v\n",
    "            "
   ]
  },
  {
   "cell_type": "markdown",
   "metadata": {},
   "source": [
    "### Submission result: dynamic programming\n",
    "Time Submitted | Status | Runtime | Memory | Language\n",
    "---------- | ---------- | --------- | --------- | -----------\n",
    "08/16/2020 16:41 | Accepted | 44 ms | 14.6 MB | python3\n",
    "\n",
    "Runtime: 48 ms, faster than 97.45% of Python3 online submissions for Trapping Rain Water.\n",
    "Memory Usage: 14.5 MB, less than 50.01% of Python3 online submissions for Trapping Rain Water.\n",
    "\n",
    "### Complexity\n",
    "- Time Complexity: $O(n)$.\n",
    "- Space Complexity: $O(n)$."
   ]
  }
 ],
 "metadata": {
  "kernelspec": {
   "display_name": "Python 3",
   "language": "python",
   "name": "python3"
  },
  "language_info": {
   "codemirror_mode": {
    "name": "ipython",
    "version": 3
   },
   "file_extension": ".py",
   "mimetype": "text/x-python",
   "name": "python",
   "nbconvert_exporter": "python",
   "pygments_lexer": "ipython3",
   "version": "3.6.3"
  }
 },
 "nbformat": 4,
 "nbformat_minor": 2
}
