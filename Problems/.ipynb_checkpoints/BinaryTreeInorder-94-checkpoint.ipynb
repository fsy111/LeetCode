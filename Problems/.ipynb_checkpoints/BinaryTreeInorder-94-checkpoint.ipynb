{
 "cells": [
  {
   "cell_type": "markdown",
   "metadata": {},
   "source": [
    "# 94. Binary Tree Inorder Traversal\n",
    "## Thread binary tree\n",
    "A binary tree is threaded by making all right child pointers that would normally be null point to the in-order successor of the node (if it exists), and all left child pointers that would normally be null point to the in-order predecessor of the node.\n",
    "\n",
    "Help inorder traversal."
   ]
  },
  {
   "cell_type": "code",
   "execution_count": null,
   "metadata": {},
   "outputs": [],
   "source": [
    "# Definition for a binary tree node.\n",
    "# class TreeNode:\n",
    "#     def __init__(self, val=0, left=None, right=None):\n",
    "#         self.val = val\n",
    "#         self.left = left\n",
    "#         self.right = right\n",
    "class Solution:\n",
    "    def inorderTraversal(self, root: TreeNode) -> List[int]:\n",
    "        # def inorderTraversalRec(root:TreeNode) -> List[int]:\n",
    "        #     if not root: return []\n",
    "        #     return inorderTraversalRec(root.left) + [root.val] + inorderTraversalRec(root.right)\n",
    "        \n",
    "        def inorderTraversalThread(root:TreeNode) -> List[int]:\n",
    "            ans = []\n",
    "            current = root\n",
    "            while current:\n",
    "                if not current.left:\n",
    "                    ans.append(current.val)\n",
    "                    current = current.right\n",
    "                else:\n",
    "                    RightMost(current.left).right = current\n",
    "                    current.left, current = None, current.left\n",
    "                    # temp = current.left\n",
    "                    # current.left = None\n",
    "                    # current = temp\n",
    "            return ans\n",
    "        \n",
    "        def RightMost(node:TreeNode) -> TreeNode:\n",
    "            while node.right:\n",
    "                node = node.right\n",
    "            return node\n",
    "        \n",
    "        return inorderTraversalThread(root)"
   ]
  },
  {
   "cell_type": "markdown",
   "metadata": {},
   "source": [
    "Approach 3: Morris Traversal\n",
    "In this method, we have to use a new data structure-Threaded Binary Tree, and the strategy is as follows:\n",
    "\n",
    "- Step 1: Initialize current as `root`\n",
    "- Step 2: While current is not `None`,\n",
    "\n",
    "  * If current does not have left child\n",
    "\n",
    "    a. Add current’s value\n",
    "\n",
    "    b. Go to the right, i.e., `current = current.right`\n",
    "\n",
    "  * Else\n",
    "  \n",
    "    a. In current's left subtree, make current the right child of the rightmost node\n",
    "\n",
    "    b. Go to this left child, i.e., `current = current.left`"
   ]
  }
 ],
 "metadata": {
  "kernelspec": {
   "display_name": "Python 3",
   "language": "python",
   "name": "python3"
  },
  "language_info": {
   "codemirror_mode": {
    "name": "ipython",
    "version": 3
   },
   "file_extension": ".py",
   "mimetype": "text/x-python",
   "name": "python",
   "nbconvert_exporter": "python",
   "pygments_lexer": "ipython3",
   "version": "3.6.3"
  }
 },
 "nbformat": 4,
 "nbformat_minor": 2
}
