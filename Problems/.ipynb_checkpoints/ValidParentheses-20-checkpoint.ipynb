{
 "cells": [
  {
   "cell_type": "markdown",
   "metadata": {},
   "source": [
    "# 20. Valid Parentheses\n",
    "## Description\n",
    "Given a string containing just the characters `'(', ')', '{', '}', '[' `and `']'`, determine if the input string is valid.\n",
    "\n",
    "An input string is valid if:\n",
    "\n",
    "- Open brackets must be closed by the same type of brackets.\n",
    "- Open brackets must be closed in the correct order.\n",
    "\n",
    "Note that an empty string is also considered valid.\n",
    "\n",
    "### Example 1:\n",
    "```\n",
    "Input: \"()\"\n",
    "Output: True\n",
    "```\n",
    "\n",
    "### Example 2:\n",
    "```\n",
    "Input: \"()[]{}\"\n",
    "Output: True\n",
    "```\n",
    "\n",
    "### Example 3:\n",
    "```\n",
    "Input: \"(]\"\n",
    "Output: False\n",
    "```\n",
    "\n",
    "### Example 4:\n",
    "```\n",
    "Input: \"([)]\"\n",
    "Output: False\n",
    "```\n",
    "\n",
    "### Example 5:\n",
    "```\n",
    "Input: \"{[]}\"\n",
    "Output: True\n",
    "```"
   ]
  },
  {
   "cell_type": "code",
   "execution_count": null,
   "metadata": {},
   "outputs": [],
   "source": [
    "class Solution:\n",
    "    def isValid(self, s: str) -> bool:\n",
    "        stack = []\n",
    "        pair = {')':'(', ']':'[', '}':'{'}\n",
    "        for ch in s:\n",
    "            if ch in {'{', '[', '('}:\n",
    "                stack.append(ch)\n",
    "                print(stack)\n",
    "            else:\n",
    "                if stack and stack[-1] == pair[ch]:\n",
    "                    stack.pop()\n",
    "                    print(stack)\n",
    "                else: return False\n",
    "        if stack: return False\n",
    "        return True\n",
    "                 "
   ]
  },
  {
   "cell_type": "markdown",
   "metadata": {},
   "source": [
    "## Submission result\n",
    "Time Submitted | Status | Runtime | Memory | Language\n",
    "---------- | ---------- | --------- | --------- | -----------\n",
    "08/23/2020 13:12 | Accepted | 364 ms | 19 MB | python3\n",
    "\n",
    "- Runtime: 28 ms, faster than 84.98% of Python3 online submissions for Valid Parentheses.\n",
    "- Memory Usage: 13.9 MB, less than 37.53% of Python3 online submissions for Valid Parentheses."
   ]
  }
 ],
 "metadata": {
  "kernelspec": {
   "display_name": "Python 3",
   "language": "python",
   "name": "python3"
  },
  "language_info": {
   "codemirror_mode": {
    "name": "ipython",
    "version": 3
   },
   "file_extension": ".py",
   "mimetype": "text/x-python",
   "name": "python",
   "nbconvert_exporter": "python",
   "pygments_lexer": "ipython3",
   "version": "3.6.3"
  }
 },
 "nbformat": 4,
 "nbformat_minor": 2
}
