{
 "cells": [
  {
   "cell_type": "markdown",
   "metadata": {},
   "source": [
    "# 3. Longest Substring Without Repeating Characters\n",
    "\n",
    "## Description\n",
    "Given a string, find the length of the longest substring without repeating characters.\n",
    "\n",
    "### Example 1:\n",
    "```\n",
    "Input: \"abcabcbb\"\n",
    "Output: 3 \n",
    "Explanation: The answer is \"abc\", with the length of 3. \n",
    "```\n",
    "\n",
    "### Example 2:\n",
    "```\n",
    "Input: \"bbbbb\"\n",
    "Output: 1\n",
    "Explanation: The answer is \"b\", with the length of 1.\n",
    "```\n",
    "\n",
    "### Example 3:\n",
    "```\n",
    "Input: \"pwwkew\"\n",
    "Output: 3\n",
    "Explanation: The answer is \"wke\", with the length of 3. \n",
    "```"
   ]
  },
  {
   "cell_type": "code",
   "execution_count": null,
   "metadata": {},
   "outputs": [],
   "source": [
    "### Direct search\n",
    "class Solution:\n",
    "    def lengthOfLongestSubstring(self, s: str) -> int:\n",
    "        if not s: return 0\n",
    "        longsub = []\n",
    "        length = len(s)\n",
    "        for i in range(length):\n",
    "            ch = s[i]\n",
    "            rep = set()\n",
    "            for ch in s[i:]:\n",
    "                if ch in rep:\n",
    "                    break\n",
    "                rep.add(ch)\n",
    "            longsub.append(len(rep))\n",
    "        return max(longsub)\n",
    "\n",
    "### Sliding window\n",
    "class Solution:\n",
    "    def lengthOfLongestSubstring(self, s: str) -> int:\n",
    "        if not s: return 0\n",
    "        rep = set()\n",
    "        longsub = [1]\n",
    "        length = len(s)\n",
    "        for i in range(1,length):\n",
    "            index = s[ i-longsub[i-1] : i ].find(s[i])\n",
    "            longsub.append(longsub[i-1] - index)\n",
    "        return max(longsub)\n",
    "                "
   ]
  },
  {
   "cell_type": "markdown",
   "metadata": {},
   "source": [
    "## Submission result\n",
    "Time Submitted | Status | Runtime | Memory | Language\n",
    "---------- | ---------- | --------- | --------- | -----------\n",
    "08/12/2020 12:58 | Accepted | 64 ms | 13.7 MB | python3\n",
    "\n",
    "- Runtime: 64 ms, faster than 77.07% of Python3 online submissions for Longest Substring Without Repeating Characters.\n",
    "- Memory Usage: 13.7 MB, less than 95.54% of Python3 online submissions for Longest Substring Without Repeating Characters."
   ]
  }
 ],
 "metadata": {
  "kernelspec": {
   "display_name": "Python 3",
   "language": "python",
   "name": "python3"
  },
  "language_info": {
   "codemirror_mode": {
    "name": "ipython",
    "version": 3
   },
   "file_extension": ".py",
   "mimetype": "text/x-python",
   "name": "python",
   "nbconvert_exporter": "python",
   "pygments_lexer": "ipython3",
   "version": "3.6.3"
  }
 },
 "nbformat": 4,
 "nbformat_minor": 2
}
