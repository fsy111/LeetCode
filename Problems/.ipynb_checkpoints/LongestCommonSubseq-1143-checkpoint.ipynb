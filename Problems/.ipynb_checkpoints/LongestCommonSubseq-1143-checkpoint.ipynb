{
 "cells": [
  {
   "cell_type": "markdown",
   "metadata": {},
   "source": [
    "# 1143. Longest Common Subsequence\n",
    "## Description\n",
    "Given two strings `text1` and `text2`, return the length of their longest common subsequence.\n",
    "\n",
    "A subsequence of a string is a new string generated from the original string with some characters(can be none) deleted without changing the relative order of the remaining characters. (eg, `\"ace\"` is a subsequence of `\"abcde\"` while `\"aec\"` is not). A common subsequence of two strings is a subsequence that is common to both strings.\n",
    "\n",
    "If there is no common subsequence, return $0$.\n",
    "\n",
    "## Constraints:\n",
    "- `1 <= text1.length <= 1000`\n",
    "- `1 <= text2.length <= 1000`\n",
    "- The input strings consist of lowercase English characters only.\n"
   ]
  },
  {
   "cell_type": "code",
   "execution_count": null,
   "metadata": {},
   "outputs": [],
   "source": [
    "class Solution:\n",
    "    def longestCommonSubsequence(self, text1: str, text2: str) -> int:\n",
    "        dp = [[0]*(len(text2)+1) for _ in range(len(text1)+1)]\n",
    "        for i, ch1 in enumerate(text1):\n",
    "            for j, ch2 in enumerate(text2):\n",
    "                if ch1==ch2:\n",
    "                    dp[i+1][j+1] = dp[i][j] + 1\n",
    "                else:\n",
    "                    dp[i+1][j+1] = max(dp[i][j+1], dp[i+1][j])\n",
    "        return dp[-1][-1]"
   ]
  },
  {
   "cell_type": "markdown",
   "metadata": {},
   "source": [
    "`dp[i][j]` is the length of longest common subsequences of `text1[:i]` and `text2[:j]`.\n",
    "$$ dp[i+1][j+1] =   \\left\\{\n",
    "\\begin{array}{ll}\n",
    "      dp[i][j] + 1 & text1[i]==text2[j] \\\\\n",
    "      \\max(dp[i][j+1], dp[i+1][j]) & text1[i]!=text2[j]\\\\\n",
    "\\end{array} \n",
    "\\right.  $$"
   ]
  }
 ],
 "metadata": {
  "kernelspec": {
   "display_name": "Python 3",
   "language": "python",
   "name": "python3"
  },
  "language_info": {
   "codemirror_mode": {
    "name": "ipython",
    "version": 3
   },
   "file_extension": ".py",
   "mimetype": "text/x-python",
   "name": "python",
   "nbconvert_exporter": "python",
   "pygments_lexer": "ipython3",
   "version": "3.6.3"
  }
 },
 "nbformat": 4,
 "nbformat_minor": 2
}
