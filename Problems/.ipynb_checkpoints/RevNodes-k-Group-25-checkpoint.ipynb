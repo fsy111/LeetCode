{
 "cells": [
  {
   "cell_type": "markdown",
   "metadata": {},
   "source": [
    "# 25. Reverse Nodes in k-Group\n",
    "\n",
    "## Description\n",
    "Given a linked list, reverse the nodes of a linked list $k$ at a time and return its modified list.\n",
    "\n",
    "$k$ is a positive integer and is less than or equal to the length of the linked list. \n",
    "If the number of nodes is not a multiple of $k$ then left-out nodes in the end should remain as it is.\n",
    "\n",
    "\n",
    "## Example:\n",
    "```\n",
    "Given this linked list: 1->2->3->4->5\n",
    "\n",
    "For k = 2, you should return: 2->1->4->3->5\n",
    "\n",
    "For k = 3, you should return: 3->2->1->4->5\n",
    "```\n",
    "\n",
    "\n",
    "## Note:\n",
    "Only constant extra memory is allowed.\n",
    "You may not alter the values in the list's nodes, only nodes itself may be changed.\n",
    "\n",
    "## Tags: Node, Pointer"
   ]
  }
 ],
 "metadata": {
  "kernelspec": {
   "display_name": "Python 3",
   "language": "python",
   "name": "python3"
  },
  "language_info": {
   "codemirror_mode": {
    "name": "ipython",
    "version": 3
   },
   "file_extension": ".py",
   "mimetype": "text/x-python",
   "name": "python",
   "nbconvert_exporter": "python",
   "pygments_lexer": "ipython3",
   "version": "3.6.3"
  }
 },
 "nbformat": 4,
 "nbformat_minor": 2
}
