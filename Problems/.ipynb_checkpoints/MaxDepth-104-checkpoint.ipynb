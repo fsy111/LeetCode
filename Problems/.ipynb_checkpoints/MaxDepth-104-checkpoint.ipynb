{
 "cells": [
  {
   "cell_type": "markdown",
   "metadata": {},
   "source": [
    "# 104. Maximum Depth of Binary Tree\n",
    "## Description\n",
    "Given a binary tree, find its maximum depth.\n",
    "\n",
    "The maximum depth is the number of nodes along the longest path from the root node down to the farthest leaf node.\n",
    "\n",
    "### Note: \n",
    "A leaf is a node with no children."
   ]
  },
  {
   "cell_type": "code",
   "execution_count": null,
   "metadata": {},
   "outputs": [],
   "source": [
    "# Definition for a binary tree node.\n",
    "# class TreeNode:\n",
    "#     def __init__(self, val=0, left=None, right=None):\n",
    "#         self.val = val\n",
    "#         self.left = left\n",
    "#         self.right = right\n",
    "\n",
    "\n",
    "### Recursive\n",
    "class Solution:\n",
    "    def maxDepth(self, root: TreeNode) -> int:\n",
    "        if not root: return 0\n",
    "        return 1 + max(self.maxDepth(root.left), self.maxDepth(root.right))"
   ]
  },
  {
   "cell_type": "code",
   "execution_count": null,
   "metadata": {},
   "outputs": [],
   "source": [
    "### backtracking by stack\n",
    "class Solution:\n",
    "    def maxDepth(self, root: TreeNode) -> int:\n",
    "        if not root: return 0\n",
    "        stack = [root]\n",
    "        visited = set()\n",
    "        current = root\n",
    "        level = 0\n",
    "        maxheight = 0\n",
    "        while stack:\n",
    "            current = stack[-1]\n",
    "            print(current.val)\n",
    "            if current not in visited:\n",
    "                visited.add(current)\n",
    "                level += 1\n",
    "                maxheight = max(maxheight, level)\n",
    "                print('level=', level)\n",
    "            if current.left and current.left not in visited:\n",
    "                current = current.left\n",
    "                stack.append(current)\n",
    "            elif current.right and current.right not in visited:\n",
    "                current = current.right\n",
    "                stack.append(current)\n",
    "            else:\n",
    "                stack.pop()\n",
    "                level -= 1\n",
    "        return maxheight"
   ]
  }
 ],
 "metadata": {
  "kernelspec": {
   "display_name": "Python 3",
   "language": "python",
   "name": "python3"
  },
  "language_info": {
   "codemirror_mode": {
    "name": "ipython",
    "version": 3
   },
   "file_extension": ".py",
   "mimetype": "text/x-python",
   "name": "python",
   "nbconvert_exporter": "python",
   "pygments_lexer": "ipython3",
   "version": "3.6.3"
  }
 },
 "nbformat": 4,
 "nbformat_minor": 2
}
