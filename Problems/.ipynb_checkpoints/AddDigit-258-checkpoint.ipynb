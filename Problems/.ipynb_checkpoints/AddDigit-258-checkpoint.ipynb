{
 "cells": [
  {
   "cell_type": "markdown",
   "metadata": {},
   "source": [
    "# 258. Add Digits\n",
    "## Dscription\n",
    "Given a non-negative integer num, repeatedly add all its digits until the result has only one digit.\n",
    "\n",
    "### Example:\n",
    "```\n",
    "Input: 38\n",
    "Output: 2\n",
    "```\n",
    "#### Explanation: \n",
    "The process is like: 3 + 8 = 11, 1 + 1 = 2. Since 2 has only one digit, return it.\n",
    "\n",
    "### Follow up:\n",
    "Could you do it without any loop/recursion in $O(1)$ runtime?"
   ]
  },
  {
   "cell_type": "code",
   "execution_count": null,
   "metadata": {},
   "outputs": [],
   "source": [
    "class Solution:\n",
    "    def addDigits(self, num: int) -> int:\n",
    "#        return num and (num-1) % 9 + 1\n",
    "#        return num and (num % 9 or 9)\n",
    "        if not num: return 0\n",
    "        return (num-1) % 9 +1"
   ]
  }
 ],
 "metadata": {
  "kernelspec": {
   "display_name": "Python 3",
   "language": "python",
   "name": "python3"
  },
  "language_info": {
   "codemirror_mode": {
    "name": "ipython",
    "version": 3
   },
   "file_extension": ".py",
   "mimetype": "text/x-python",
   "name": "python",
   "nbconvert_exporter": "python",
   "pygments_lexer": "ipython3",
   "version": "3.6.3"
  }
 },
 "nbformat": 4,
 "nbformat_minor": 2
}
