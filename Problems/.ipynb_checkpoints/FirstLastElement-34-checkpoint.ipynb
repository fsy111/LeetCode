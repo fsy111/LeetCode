{
 "cells": [
  {
   "cell_type": "markdown",
   "metadata": {},
   "source": [
    "# 34. Find First and Last Position of Element in Sorted Array\n",
    "## Description\n",
    "Given an array of integers nums sorted in ascending order, find the starting and ending position of a given target value.\n",
    "\n",
    "Your algorithm's runtime complexity must be in the order of $O(\\log n)$.\n",
    "\n",
    "If the target is not found in the array, return `[-1, -1]`.\n",
    "\n",
    "### Example 1:\n",
    "```\n",
    "Input: nums = [5,7,7,8,8,10], target = 8\n",
    "Output: [3,4]\n",
    "```\n",
    "\n",
    "### Example 2:\n",
    "```\n",
    "Input: nums = [5,7,7,8,8,10], target = 6\n",
    "Output: [-1,-1]\n",
    "```\n",
    "\n",
    "### Constraints:\n",
    "- `0 <= nums.length <= 10^5`\n",
    "- `-10^9 <= nums[i] <= 10^9`\n",
    "- nums is a non decreasing array.\n",
    "- `-10^9 <= target <= 10^9`"
   ]
  },
  {
   "cell_type": "code",
   "execution_count": null,
   "metadata": {},
   "outputs": [],
   "source": [
    "class Solution:\n",
    "    def searchRange(self, nums: List[int], target: int) -> List[int]:\n",
    "        l, r = 0, len(nums)-1\n",
    "        while l<=r:\n",
    "            end = (l+r) // 2\n",
    "            if nums[end] < target:\n",
    "                l = end + 1\n",
    "            elif nums[mid] > target:\n",
    "                r = end - 1\n",
    "            else: break\n",
    "        if l>r: return [-1, -1]\n",
    "            \n",
    "        start = end\n",
    "        while l < start:\n",
    "            m = (l + start) // 2\n",
    "            if nums[m] == target:\n",
    "                start = m\n",
    "            else:\n",
    "                l = m + 1\n",
    "            \n",
    "        while end < r:\n",
    "            m = (end + r) // 2 + 1\n",
    "            if nums[m] == target:\n",
    "                end = m\n",
    "            else:\n",
    "                r = m - 1\n",
    "        return [start, end]"
   ]
  },
  {
   "cell_type": "markdown",
   "metadata": {},
   "source": [
    "- Runtime: 80 ms, faster than 97.66% of Python3 online submissions for Find First and Last Position of Element in Sorted Array.\n",
    "- Memory Usage: 15.1 MB, less than 74.08% of Python3 online submissions for Find First and Last Position of Element in Sorted Array."
   ]
  }
 ],
 "metadata": {
  "kernelspec": {
   "display_name": "Python 3",
   "language": "python",
   "name": "python3"
  },
  "language_info": {
   "codemirror_mode": {
    "name": "ipython",
    "version": 3
   },
   "file_extension": ".py",
   "mimetype": "text/x-python",
   "name": "python",
   "nbconvert_exporter": "python",
   "pygments_lexer": "ipython3",
   "version": "3.6.3"
  }
 },
 "nbformat": 4,
 "nbformat_minor": 2
}
