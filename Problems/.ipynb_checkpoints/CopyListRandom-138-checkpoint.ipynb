{
 "cells": [
  {
   "cell_type": "markdown",
   "metadata": {},
   "source": [
    "# 138. Copy List with Random Pointer\n",
    "\n",
    "## Description\n",
    "A linked list is given such that each node contains an additional random pointer which could point to any node in the list or null.\n",
    "\n",
    "Return a [deep copy](https://en.wikipedia.org/wiki/Object_copying#Deep_copy) of the list.\n",
    "\n",
    "The Linked List is represented in the input/output as a list of $n$ nodes. Each node is represented as a pair of `[val, random_index]` where:\n",
    "\n",
    "- `val`: an integer representing `Node.val`\n",
    "- `random_index`: the index of the node (range from `0` to `n-1`) where random pointer points to, or `None` if it does not point to any node.\n",
    "\n",
    "\n",
    "### Example 1:\n",
    "```\n",
    "Input: head = [[7,null],[13,0],[11,4],[10,2],[1,0]]\n",
    "Output: [[7,null],[13,0],[11,4],[10,2],[1,0]]\n",
    "```\n",
    "\n",
    "\n",
    "### Example 2:\n",
    "```\n",
    "Input: head = [[1,1],[2,1]]\n",
    "Output: [[1,1],[2,1]]\n",
    "```\n",
    "\n",
    "\n",
    "### Example 3:\n",
    "```\n",
    "Input: head = [[3,null],[3,0],[3,null]]\n",
    "Output: [[3,null],[3,0],[3,null]]\n",
    "```\n",
    "\n",
    "\n",
    "### Example 4:\n",
    "```\n",
    "Input: head = []\n",
    "Output: []\n",
    "```\n",
    "**Explanation**: Given linked list is empty (`None` pointer), so return `None`.\n",
    "\n",
    "\n",
    "### Constraints:\n",
    "- `-10000 <= Node.val <= 10000`\n",
    "- `Node.random` is `None` or pointing to a node in the linked list.\n",
    "- Number of Nodes will not exceed 1000.\n"
   ]
  },
  {
   "cell_type": "code",
   "execution_count": null,
   "metadata": {},
   "outputs": [],
   "source": []
  }
 ],
 "metadata": {
  "kernelspec": {
   "display_name": "Python 3",
   "language": "python",
   "name": "python3"
  },
  "language_info": {
   "codemirror_mode": {
    "name": "ipython",
    "version": 3
   },
   "file_extension": ".py",
   "mimetype": "text/x-python",
   "name": "python",
   "nbconvert_exporter": "python",
   "pygments_lexer": "ipython3",
   "version": "3.6.3"
  }
 },
 "nbformat": 4,
 "nbformat_minor": 2
}
