{
 "cells": [
  {
   "cell_type": "markdown",
   "metadata": {},
   "source": [
    "# 40. Combination Sum II"
   ]
  },
  {
   "cell_type": "code",
   "execution_count": 139,
   "metadata": {},
   "outputs": [
    {
     "name": "stdout",
     "output_type": "stream",
     "text": [
      "[1, 1, 2, 5, 6, 7, 10]\n",
      "[[1, 1, 6], [1, 2, 5], [1, 7], [2, 6]]\n"
     ]
    }
   ],
   "source": [
    "class Solution:\n",
    "    def combinationSum2(self, candidates, target: int):\n",
    "        def decompsum(candidates, target):\n",
    "            if not candidates:\n",
    "                return None\n",
    "            ans = []\n",
    "            s = set()\n",
    "            for i, x in enumerate(candidates):\n",
    "                if x == target:\n",
    "                    return ans + [[x]]\n",
    "                elif x > target:\n",
    "                    if not ans: return None\n",
    "                    return ans\n",
    "                temp = decompsum(candidates[i+1:], target - x)\n",
    "                if temp is not None:\n",
    "                    for comb in temp:\n",
    "                        newlist = candidates[i:i+1] + comb\n",
    "                        if tuple(newlist) not in s:\n",
    "                            s.add(tuple(newlist))\n",
    "                            ans += [newlist]\n",
    "            if not ans: return None\n",
    "            return ans\n",
    "        candidates.sort()\n",
    "        return decompsum(candidates, target)\n",
    "print(Solution().combinationSum2([10,1,2,7,6,1,5], 8))\n",
    "                              "
   ]
  },
  {
   "cell_type": "code",
   "execution_count": null,
   "metadata": {},
   "outputs": [],
   "source": []
  },
  {
   "cell_type": "code",
   "execution_count": null,
   "metadata": {},
   "outputs": [],
   "source": []
  }
 ],
 "metadata": {
  "kernelspec": {
   "display_name": "Python 3",
   "language": "python",
   "name": "python3"
  },
  "language_info": {
   "codemirror_mode": {
    "name": "ipython",
    "version": 3
   },
   "file_extension": ".py",
   "mimetype": "text/x-python",
   "name": "python",
   "nbconvert_exporter": "python",
   "pygments_lexer": "ipython3",
   "version": "3.6.3"
  }
 },
 "nbformat": 4,
 "nbformat_minor": 2
}
