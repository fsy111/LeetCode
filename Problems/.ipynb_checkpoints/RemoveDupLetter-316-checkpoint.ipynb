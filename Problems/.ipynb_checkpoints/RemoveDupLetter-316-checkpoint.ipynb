{
 "cells": [
  {
   "cell_type": "markdown",
   "metadata": {},
   "source": [
    "# 316. Remove Duplicate Letters\n",
    "## Description\n",
    "Given a string which contains only lowercase letters, remove duplicate letters so that every letter appears once and only once. You must make sure your result is the smallest in lexicographical order among all possible results.\n",
    "\n",
    "### Example 1:\n",
    "```\n",
    "Input: \"bcabc\"\n",
    "Output: \"abc\"\n",
    "```\n",
    "\n",
    "### Example 2:\n",
    "```\n",
    "Input: \"cbacdcbc\"\n",
    "Output: \"acdb\"\n",
    "```"
   ]
  },
  {
   "cell_type": "code",
   "execution_count": null,
   "metadata": {},
   "outputs": [],
   "source": [
    "class Solution:\n",
    "    def removeDuplicateLetters(self, s: str) -> str:\n",
    "        count = collections.Counter(s)\n",
    "        stack = ''\n",
    "        letter = set()\n",
    "\n",
    "        for ch in s:\n",
    "            if ch not in letter:\n",
    "                while stack and stack[-1] > ch and count[stack[-1]]:\n",
    "                    letter.remove(stack[-1])\n",
    "                    stack = stack[:-1]\n",
    "                letter.add(ch)\n",
    "                stack += ch\n",
    "            count[ch] -= 1\n",
    "        return stack"
   ]
  },
  {
   "cell_type": "markdown",
   "metadata": {},
   "source": [
    "## Submission result\n",
    "Time Submitted | Status | Runtime | Memory | Language\n",
    "---------- | ---------- | --------- | --------- | -----------\n",
    "08/27/2020 19:53 | Accepted | 28 ms | 13.9 MB | python3\n",
    "\n",
    "- Runtime: 28 ms, faster than 97.44% of Python3 online submissions for Remove Duplicate Letters.\n",
    "- Memory Usage: 13.9 MB, less than 50.53% of Python3 online submissions for Remove Duplicate Letters."
   ]
  }
 ],
 "metadata": {
  "kernelspec": {
   "display_name": "Python 3",
   "language": "python",
   "name": "python3"
  },
  "language_info": {
   "codemirror_mode": {
    "name": "ipython",
    "version": 3
   },
   "file_extension": ".py",
   "mimetype": "text/x-python",
   "name": "python",
   "nbconvert_exporter": "python",
   "pygments_lexer": "ipython3",
   "version": "3.6.3"
  }
 },
 "nbformat": 4,
 "nbformat_minor": 2
}
