{
 "cells": [
  {
   "cell_type": "markdown",
   "metadata": {},
   "source": [
    "# 387. First Unique Character in a String\n",
    "## Description\n",
    "\n",
    "Given a string, find the first non-repeating character in it and return its index. If it doesn't exist, return -1.\n",
    "\n",
    "### Example:\n",
    "\n",
    "```\n",
    "s = \"leetcode\"\n",
    "return 0.\n",
    "\n",
    "s = \"loveleetcode\"\n",
    "return 2.\n",
    "```\n",
    "\n",
    "### Note: \n",
    "You may assume the string contains only lowercase English letters.\n"
   ]
  },
  {
   "cell_type": "code",
   "execution_count": 39,
   "metadata": {},
   "outputs": [
    {
     "data": {
      "text/plain": [
       "0"
      ]
     },
     "execution_count": 39,
     "metadata": {},
     "output_type": "execute_result"
    }
   ],
   "source": [
    "class Solution:\n",
    "    def firstUniqChar(self, s: str) -> int:\n",
    "        h = {}\n",
    "        p = {}    # dictionary of indices of unique characters\n",
    "        for i in range(len(s)):\n",
    "            ch = s[i]\n",
    "            if ch in h:    # ch appears already\n",
    "                h[ch] = False\n",
    "                p.pop(ch, None)\n",
    "            else:\n",
    "                h[ch] = True    # ch appears only once\n",
    "                p[ch] = i    # record the index of ch in dictionary p\n",
    "        if p:\n",
    "            return p[list(p)[0]]\n",
    "        else:\n",
    "            return -1\n",
    "        \n",
    "x = Solution()\n",
    "x.firstUniqChar('leetcode')\n",
    "            "
   ]
  },
  {
   "cell_type": "markdown",
   "metadata": {},
   "source": [
    "## Submission result\n",
    "Time Submitted | Status | Runtime | Memory | Language\n",
    "---------- | ---------- | --------- | --------- | -----------\n",
    "08/10/2020 23:12 | Accepted | 140 ms | 14 MB | python3\n",
    "\n",
    "- Runtime: 140 ms, faster than 53.06% of Python3 online submissions for First Unique Character in a String.\n",
    "- Memory Usage: 14 MB, less than 39.16% of Python3 online submissions for First Unique Character in a String.\n",
    "\n",
    "\n",
    "## Remark:\n",
    "- Use `enumerate[s]` to loop `index, ch` in `s` at the same time.\n",
    "- Use class `Counter` in library `collections` to count the occurrence of each element in a list `s`.\n",
    "It produces a dictionary where the keys are element in `s` and the values are the number of occurrence of the keys in `s`.\n",
    "\n",
    "## Complexity analysis\n",
    "\n",
    "- Time complexity : $O(N)$. $N=$`len(s)`.\n",
    "\n",
    "- Space complexity : $O(1)$.\n"
   ]
  },
  {
   "cell_type": "code",
   "execution_count": 52,
   "metadata": {},
   "outputs": [
    {
     "data": {
      "text/plain": [
       "0"
      ]
     },
     "execution_count": 52,
     "metadata": {},
     "output_type": "execute_result"
    }
   ],
   "source": [
    "class Solution:\n",
    "    def firstUniqChar(self, s: str) -> int:\n",
    "        from collections import Counter\n",
    "        occur = Counter(s)\n",
    "        for index, ch in enumerate(s):\n",
    "            if occur[ch] == 1:\n",
    "                return index\n",
    "        return -1\n",
    "        \n",
    "x = Solution()\n",
    "x.firstUniqChar('leetcode')\n",
    "            "
   ]
  },
  {
   "cell_type": "markdown",
   "metadata": {},
   "source": [
    "## Submission result of v2: \n",
    "Time Submitted | Status | Runtime | Memory | Language\n",
    "---------- | ---------- | --------- | --------- | -----------\n",
    "08/10/2020 23:36 | Accepted | 100 ms | 13.9 MB | python3\n",
    "\n",
    "- Runtime: 100 ms, faster than 80.88% of Python3 online submissions for First Unique Character in a String.\n",
    "- Memory Usage: 13.9 MB, less than 74.55% of Python3 online submissions for First Unique Character in a String."
   ]
  }
 ],
 "metadata": {
  "kernelspec": {
   "display_name": "Python 3",
   "language": "python",
   "name": "python3"
  },
  "language_info": {
   "codemirror_mode": {
    "name": "ipython",
    "version": 3
   },
   "file_extension": ".py",
   "mimetype": "text/x-python",
   "name": "python",
   "nbconvert_exporter": "python",
   "pygments_lexer": "ipython3",
   "version": "3.6.3"
  }
 },
 "nbformat": 4,
 "nbformat_minor": 2
}
