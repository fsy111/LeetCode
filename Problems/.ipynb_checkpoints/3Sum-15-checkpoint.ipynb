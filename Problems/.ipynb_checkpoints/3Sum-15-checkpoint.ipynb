{
 "cells": [
  {
   "cell_type": "markdown",
   "metadata": {},
   "source": [
    "# 15. 3Sum\n",
    "## Description\n",
    "Given an array nums of n integers, are there elements a, b, c in nums such that a + b + c = 0? Find all unique triplets in the array which gives the sum of zero.\n",
    "\n",
    "### Note:\n",
    "\n",
    "The solution set must not contain duplicate triplets.\n",
    "\n",
    "## Example:\n",
    "\n",
    "```\n",
    "Given array nums = [-1, 0, 1, 2, -1, -4],\n",
    "\n",
    "A solution set is:\n",
    "[\n",
    "  [-1, 0, 1],\n",
    "  [-1, -1, 2]\n",
    "]\n",
    "```\n",
    "\n",
    "## Tags: Sliding window, Two sum"
   ]
  },
  {
   "cell_type": "code",
   "execution_count": null,
   "metadata": {},
   "outputs": [],
   "source": [
    "class Solution:\n",
    "    def threeSum(self, nums: List[int]) -> List[List[int]]:\n",
    "        nums.sort()\n",
    "        length = len(nums)\n",
    "        comb = []\n",
    "        \n",
    "        for i in range(length):\n",
    "            if i > 0 and nums[i] == nums[i-1]: continue\n",
    "            \n",
    "            l, r = i + 1, length - 1\n",
    "            while l < r:\n",
    "                s = nums[l] + nums[r] + nums[i]\n",
    "                if s == 0:\n",
    "                    comb.append([nums[i], nums[l], nums[r]])\n",
    "                    l += 1\n",
    "                    r -= 1\n",
    "                    while l < r and nums[l] == nums[l-1]:\n",
    "                        l += 1\n",
    "                elif s > 0:\n",
    "                    r -= 1\n",
    "                else: l += 1\n",
    "                    \n",
    "        return comb"
   ]
  },
  {
   "cell_type": "markdown",
   "metadata": {},
   "source": [
    "## Submission result\n",
    "Time Submitted | Status | Runtime | Memory | Language\n",
    "---------- | ---------- | --------- | --------- | -----------\n",
    "08/14/2020 12:00 | Accepted | 972 ms | 17.1 MB | python3\n",
    "\n",
    "- Runtime: 972 ms, faster than 68.40% of Python3 online submissions for 3Sum.\n",
    "- Memory Usage: 17.1 MB, less than 82.49% of Python3 online submissions for 3Sum."
   ]
  }
 ],
 "metadata": {
  "kernelspec": {
   "display_name": "Python 3",
   "language": "python",
   "name": "python3"
  },
  "language_info": {
   "codemirror_mode": {
    "name": "ipython",
    "version": 3
   },
   "file_extension": ".py",
   "mimetype": "text/x-python",
   "name": "python",
   "nbconvert_exporter": "python",
   "pygments_lexer": "ipython3",
   "version": "3.6.3"
  }
 },
 "nbformat": 4,
 "nbformat_minor": 2
}
