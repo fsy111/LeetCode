{
 "cells": [
  {
   "cell_type": "markdown",
   "metadata": {},
   "source": [
    "# 7. Reverse Integer\n",
    "## Description\n",
    "Given a 32-bit signed integer, reverse digits of an integer.\n",
    "\n",
    "### Example 1:\n",
    "```\n",
    "Input: 123\n",
    "Output: 321\n",
    "```\n",
    "\n",
    "### Example 2:\n",
    "```\n",
    "Input: -123\n",
    "Output: -321\n",
    "```\n",
    "\n",
    "### Example 3:\n",
    "```\n",
    "Input: 120\n",
    "Output: 21\n",
    "```\n",
    "\n",
    "### Note:\n",
    "Assume we are dealing with an environment which could only store integers within the 32-bit signed integer range: $[−2^{31}, 2^{31}−1]$. For the purpose of this problem, assume that your function returns $0$ when the reversed integer overflows.\n",
    " "
   ]
  },
  {
   "cell_type": "code",
   "execution_count": null,
   "metadata": {},
   "outputs": [],
   "source": [
    "class Solution:\n",
    "    def reverse(self, x: int) -> int:\n",
    "        isPos = (x>0)\n",
    "        infi = 2**31 - isPos\n",
    "        x = abs(x)\n",
    "        rev = 0\n",
    "        while x > 0:\n",
    "            r = x % 10\n",
    "            if rev > (infi - r)//10: return 0\n",
    "            rev = rev * 10 + r\n",
    "            x = x // 10\n",
    "        if not isPos: rev = -rev\n",
    "        return rev\n",
    "        "
   ]
  },
  {
   "cell_type": "markdown",
   "metadata": {},
   "source": [
    "## Submission result\n",
    "Time Submitted | Status | Runtime | Memory | Language\n",
    "---------- | ---------- | --------- | --------- | -----------\n",
    "08/18/2020 17:38 | Accepted | 32 ms | 13.9 MB | python3\n",
    "\n",
    "- Runtime: 32 ms, faster than 75.27% of Python3 online submissions for Reverse Integer.\n",
    "- Memory Usage: 13.9 MB, less than 33.15% of Python3 online submissions for Reverse Integer."
   ]
  }
 ],
 "metadata": {
  "kernelspec": {
   "display_name": "Python 3",
   "language": "python",
   "name": "python3"
  },
  "language_info": {
   "codemirror_mode": {
    "name": "ipython",
    "version": 3
   },
   "file_extension": ".py",
   "mimetype": "text/x-python",
   "name": "python",
   "nbconvert_exporter": "python",
   "pygments_lexer": "ipython3",
   "version": "3.6.3"
  }
 },
 "nbformat": 4,
 "nbformat_minor": 2
}
