{
 "cells": [
  {
   "cell_type": "markdown",
   "metadata": {},
   "source": [
    "# 56. Merge Intervals\n",
    "## Description\n",
    "Given a collection of intervals, merge all overlapping intervals.\n",
    "\n",
    "### Example 1:\n",
    "``` python\n",
    "Input: intervals = [[1,3],[2,6],[8,10],[15,18]]\n",
    "Output: [[1,6],[8,10],[15,18]]\n",
    "    ```\n",
    "#### Explanation: \n",
    "Since intervals `[1,3]` and `[2,6]` overlaps, merge them into `[1,6]`.\n",
    "\n",
    "\n",
    "### Example 2:\n",
    "``` python\n",
    "Input: intervals = [[1,4],[4,5]]\n",
    "Output: [[1,5]]\n",
    "```\n",
    "#### Explanation: \n",
    "Intervals `[1,4]` and `[4,5]` are considered overlapping.\n",
    "\n",
    "\n",
    "### Constraints:\n",
    "```\n",
    "intervals[i][0] <= intervals[i][1]\n",
    "```"
   ]
  },
  {
   "cell_type": "code",
   "execution_count": null,
   "metadata": {},
   "outputs": [],
   "source": [
    "class Solution:\n",
    "    def merge(self, intervals):\n",
    "        \n",
    "        def BinSearch(x, intlist) -> int:\n",
    "            ### Return the smallest index of intervals in intlist of which right endpoint >= x\n",
    "            n = len(intlist)\n",
    "            if not intlist or x > intlist[-1][1]:\n",
    "                return n\n",
    "            \n",
    "            i, j = 0, n\n",
    "            while i < j:\n",
    "                mid = (i+j) // 2\n",
    "                if x > intlist[mid][1]:\n",
    "                    i = mid + 1\n",
    "                else:\n",
    "                    j = mid\n",
    "            return i        \n",
    "                           \n",
    "        merged_int = []\n",
    "        n = len(merged_int)\n",
    "        for i, intv in enumerate(intervals):\n",
    "            # Find by binary search the first interval of which right endpoint >= left endpoint of intv\n",
    "            pos = BinSearch(intv[0], merged_int) \n",
    "\n",
    "            # Pop the existing intervals that can be covered by intv\n",
    "            while pos < len(merged_int) and merged_int[pos][1] <= intv[1]:\n",
    "                intv[0] = min(intv[0], merged_int.pop(pos)[0])\n",
    "            \n",
    "            if pos < len(merged_int) and intv[1] >= merged_int[pos][0]:    # overlapping\n",
    "                merged_int[pos][0] = min(merged_int[pos][0], intv[0])\n",
    "            else:    # not overlapping\n",
    "                merged_int.insert(pos, intv)\n",
    "                \n",
    "        return merged_int\n"
   ]
  },
  {
   "cell_type": "markdown",
   "metadata": {},
   "source": [
    "## Submission result\n",
    "Time Submitted | Status | Runtime | Memory | Language\n",
    "---------- | ---------- | --------- | --------- | -----------\n",
    "08/17/2020 11:24 | Accepted | 88 ms | 15.6 MB | python3\n",
    "\n",
    "- Runtime: 88 ms, faster than 85.76% of Python3 online submissions for Merge Intervals.\n",
    "- Memory Usage: 15.6 MB, less than 67.61% of Python3 online submissions for Merge Intervals."
   ]
  }
 ],
 "metadata": {
  "kernelspec": {
   "display_name": "Python 3",
   "language": "python",
   "name": "python3"
  },
  "language_info": {
   "codemirror_mode": {
    "name": "ipython",
    "version": 3
   },
   "file_extension": ".py",
   "mimetype": "text/x-python",
   "name": "python",
   "nbconvert_exporter": "python",
   "pygments_lexer": "ipython3",
   "version": "3.6.3"
  }
 },
 "nbformat": 4,
 "nbformat_minor": 2
}
