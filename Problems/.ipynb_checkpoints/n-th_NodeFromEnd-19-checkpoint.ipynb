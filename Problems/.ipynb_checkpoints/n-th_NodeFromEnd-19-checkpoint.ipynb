{
 "cells": [
  {
   "cell_type": "markdown",
   "metadata": {},
   "source": [
    "# 19. Remove Nth Node From End of List\n",
    "\n",
    "## Description\n",
    "\n",
    "Given a linked list, remove the $n$-th node from the end of list and return its head.\n",
    "\n",
    "### Example:\n",
    "\n",
    "```\n",
    "Given linked list: 1->2->3->4->5, and n = 2.\n",
    "\n",
    "After removing the second node from the end, the linked list becomes 1->2->3->5.\n",
    "```\n",
    "\n",
    "### Note: \n",
    "Given n will always be valid.\n",
    "\n",
    "### Follow up:\n",
    "Could you do this in one pass?\n",
    "\n",
    "### Tags: Node, Pointer"
   ]
  },
  {
   "cell_type": "code",
   "execution_count": null,
   "metadata": {},
   "outputs": [],
   "source": [
    "# Definition for singly-linked list.\n",
    "# class ListNode:\n",
    "#     def __init__(self, val=0, next=None):\n",
    "#         self.val = val\n",
    "#         self.next = next\n",
    "class Solution:\n",
    "    def removeNthFromEnd(self, head: ListNode, n: int) -> ListNode:\n",
    "        p = 0;\n",
    "        dummyHead = ListNode(0, head)\n",
    "        current = dummyHead\n",
    "        pred = dummyHead\n",
    "        while current:\n",
    "            if p > n:\n",
    "                pred = pred.next\n",
    "            current = current.next\n",
    "            p += 1\n",
    "        pred.next = pred.next.next\n",
    "        return dummyHead.next\n",
    "        "
   ]
  },
  {
   "cell_type": "markdown",
   "metadata": {},
   "source": [
    "## Submission result\n",
    "Time Submitted | Status | Runtime | Memory | Language\n",
    "---------- | ---------- | --------- | --------- | -----------\n",
    "08/11/2020 00:19 | Accepted | 32 ms | 13.8 MB | python3\n",
    "\n",
    "- Runtime: 32 ms, faster than 82.54% of Python3 online submissions for First Unique Character in a String.\n",
    "- Memory Usage: 13.8 MB, less than 68.53% of Python3 online submissions for First Unique Character in a String.\n",
    "\n",
    "\n",
    "## Algorithm:\n",
    "\n",
    "First we will add an auxiliary \"dummy\" node, which points to the list head. The \"dummy\" node is used to simplify some corner cases such as a list with only one node, or removing the head of the list. \n",
    "\n",
    "Instead of one pointer, we could use two pointers, in order to finish in one pass. The first pointer advances the list by $n+1$ steps from the beginning, while the second pointer starts from the beginning of the list. Now, both pointers are exactly separated by $n$ nodes apart. We maintain this constant gap by advancing both pointers together until the first pointer arrives past the last node. The second pointer will be pointing at the $n^{\\text{th}}$ node counting from the last. We relink the next pointer of the node referenced by the second pointer to point to the node's next next node.\n",
    "\n",
    "\n",
    "## Complexity analysis\n",
    "\n",
    "- Time complexity : $O(L)$. $L$ is the length of the linked list.\n",
    "\n",
    "- Space complexity : $O(1)$.\n"
   ]
  }
 ],
 "metadata": {
  "kernelspec": {
   "display_name": "Python 3",
   "language": "python",
   "name": "python3"
  },
  "language_info": {
   "codemirror_mode": {
    "name": "ipython",
    "version": 3
   },
   "file_extension": ".py",
   "mimetype": "text/x-python",
   "name": "python",
   "nbconvert_exporter": "python",
   "pygments_lexer": "ipython3",
   "version": "3.6.3"
  }
 },
 "nbformat": 4,
 "nbformat_minor": 2
}
