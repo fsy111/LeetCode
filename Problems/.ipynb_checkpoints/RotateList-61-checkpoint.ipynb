{
 "cells": [
  {
   "cell_type": "markdown",
   "metadata": {},
   "source": [
    "# 61. Rotate List\n",
    "\n",
    "## Description\n",
    "Given a linked list, rotate the list to the right by k places, where k is non-negative.\n",
    "\n",
    "## Example 1:\n",
    "```\n",
    "Input: 1->2->3->4->5->NULL, k = 2\n",
    "Output: 4->5->1->2->3->NULL\n",
    "```\n",
    "\n",
    "### Explanation:\n",
    "```\n",
    "rotate 1 steps to the right: 5->1->2->3->4->NULL\n",
    "rotate 2 steps to the right: 4->5->1->2->3->NULL\n",
    "```\n",
    "\n",
    "\n",
    "## Example 2:\n",
    "```\n",
    "Input: 0->1->2->NULL, k = 4\n",
    "Output: 2->0->1->NULL\n",
    "```\n",
    "\n",
    "### Explanation:\n",
    "```\n",
    "rotate 1 steps to the right: 2->0->1->NULL\n",
    "rotate 2 steps to the right: 1->2->0->NULL\n",
    "rotate 3 steps to the right: 0->1->2->NULL\n",
    "rotate 4 steps to the right: 2->0->1->NULL\n",
    "```"
   ]
  },
  {
   "cell_type": "code",
   "execution_count": null,
   "metadata": {},
   "outputs": [],
   "source": [
    "# Definition for singly-linked list.\n",
    "# class ListNode:\n",
    "#     def __init__(self, val=0, next=None):\n",
    "#         self.val = val\n",
    "#         self.next = next\n",
    "class Solution:\n",
    "    def rotateRight(self, head: ListNode, k: int) -> ListNode:\n",
    "        if not k or not head:    # No change so exit at once\n",
    "            return head\n",
    "        \n",
    "        dummyHead = ListNode(0, head)\n",
    "        p = 0;\n",
    "        current = dummyHead\n",
    "        while current.next:     # Find the length of the linked list\n",
    "            current = current.next\n",
    "            p += 1\n",
    "        \n",
    "        k = k % p\n",
    "        if not k:    # No change if k % p == 0, so exit at once\n",
    "            return head\n",
    "        k = p - k\n",
    "        \n",
    "        current.next = head    # Connect the tail to the head\n",
    "\n",
    "        for p in range(k):     # Find the (p - k % p)th entry\n",
    "            dummyHead = dummyHead.next\n",
    "            \n",
    "        h = dummyHead.next       # (p - k % p + 1)st entry is the head\n",
    "        dummyHead.next = None    # (p - k % p)th entry is the tail\n",
    "        return h\n",
    "        "
   ]
  },
  {
   "cell_type": "markdown",
   "metadata": {},
   "source": [
    "## Submission result\n",
    "Time Submitted | Status | Runtime | Memory | Language\n",
    "---------- | ---------- | --------- | --------- | -----------\n",
    "08/11/2020 06:47 | Accepted | 32 ms | 13.7 MB | python3\n",
    "\n",
    "- Runtime: 32 ms, faster than 94.77% of Python3 online submissions for Rotate List.\n",
    "- Memory Usage: 13.7 MB, less than 81.01% of Python3 online submissions for Rotate List."
   ]
  },
  {
   "cell_type": "markdown",
   "metadata": {},
   "source": [
    "## Program v2, use list"
   ]
  },
  {
   "cell_type": "code",
   "execution_count": null,
   "metadata": {},
   "outputs": [],
   "source": [
    "class Solution:\n",
    "    def rotateRight(self, head: ListNode, k: int) -> ListNode:\n",
    "        if not k or not head:    # No change so exit at once\n",
    "            return head\n",
    "        \n",
    "        p = 0\n",
    "        s = []\n",
    "        current = head\n",
    "        while current:     # Find the length of the linked list\n",
    "            s.append(current)\n",
    "            current = current.next\n",
    "            p += 1\n",
    "        k = k % p \n",
    "        \n",
    "        s[-1].next = head    # Connect the tail to the head\n",
    "        s[-k-1].next = None  # (p - k % p)th entry is the tail\n",
    "        return s[-k]\n"
   ]
  },
  {
   "cell_type": "markdown",
   "metadata": {},
   "source": [
    "## Submission result\n",
    "Time Submitted | Status | Runtime | Memory | Language\n",
    "---------- | ---------- | --------- | --------- | -----------\n",
    "08/11/2020 07:33 | Accepted | 28 ms | 13.6 MB | python3\n",
    "\n",
    "- Runtime: 28 ms, faster than 98.88% of Python3 online submissions for Rotate List.\n",
    "- Memory Usage: 13.6 MB, less than 94.97% of Python3 online submissions for Rotate List."
   ]
  }
 ],
 "metadata": {
  "kernelspec": {
   "display_name": "Python 3",
   "language": "python",
   "name": "python3"
  },
  "language_info": {
   "codemirror_mode": {
    "name": "ipython",
    "version": 3
   },
   "file_extension": ".py",
   "mimetype": "text/x-python",
   "name": "python",
   "nbconvert_exporter": "python",
   "pygments_lexer": "ipython3",
   "version": "3.6.3"
  }
 },
 "nbformat": 4,
 "nbformat_minor": 2
}
