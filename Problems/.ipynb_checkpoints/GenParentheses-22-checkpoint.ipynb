{
 "cells": [
  {
   "cell_type": "markdown",
   "metadata": {},
   "source": [
    "# 22. Generate Parentheses\n",
    "## Description\n",
    "Given n pairs of parentheses, write a function to generate all combinations of well-formed parentheses.\n",
    "\n",
    "For example, given `n = 3`, a solution set is:\n",
    "``` python\n",
    "[\n",
    "  \"((()))\",\n",
    "  \"(()())\",\n",
    "  \"(())()\",\n",
    "  \"()(())\",\n",
    "  \"()()()\"\n",
    "]\n",
    "```"
   ]
  },
  {
   "cell_type": "code",
   "execution_count": null,
   "metadata": {},
   "outputs": [],
   "source": [
    "class Solution:\n",
    "    def generateParenthesis(self, n: int):\n",
    "        ans = []\n",
    "        s = \"(\"\n",
    "        stack = [-1]\n",
    "        while stack:\n",
    "            stack[-1] += 1\n",
    "            l = len(stack)\n",
    "            stack += [ stack[-1]+i+1 for i in range(n-l) ]\n",
    "            s += '(' * (n-l)\n",
    "            s += ')' * (len(stack)*2 - stack[-1] - 1)\n",
    "            ans.append(s)\n",
    "            \n",
    "            ## Backtrack\n",
    "            while stack and len(stack)*2 - stack[-1] - 1 == 1:\n",
    "                stack.pop()\n",
    "            if stack:\n",
    "                s = s[:stack[-1]] + ')('\n",
    "        return ans\n",
    "\n",
    "print(Solution().generateParenthesis(4))"
   ]
  },
  {
   "cell_type": "markdown",
   "metadata": {},
   "source": [
    "- Runtime: 28 ms, faster than 94.73% of Python3 online submissions for Generate Parentheses.\n",
    "- Memory Usage: 14 MB, less than 70.72% of Python3 online submissions for Generate Parentheses.\n",
    "\n",
    "### Complexity analysis\n",
    "\n",
    "Our complexity analysis rests on understanding how many elements there are in generateParenthesis(n). This analysis is outside the scope of this article, but it turns out this is the $n^{\\text{th}}$ Catalan number $\\dfrac{1}{n+1}\\binom{2n}{n}$, which is bounded asymptotically by $\\dfrac{4^n}{n\\sqrt{n}}$.\n",
    "- Time Complexity: $O(\\dfrac{4^n}{\\sqrt{n}})$. Each valid sequence has at most $n$ steps during the backtracking procedure.\n",
    "\n",
    "- Space Complexity: $O(\\dfrac{4^n}{\\sqrt{n}})$ as described above, and using $O(n)$ space to store the sequence."
   ]
  },
  {
   "cell_type": "code",
   "execution_count": null,
   "metadata": {},
   "outputs": [],
   "source": [
    "## Backtrack: recursive\n",
    "class Solution(object):\n",
    "    def generateParenthesis(self, N):\n",
    "        ans = []\n",
    "        def backtrack(S = '', left = 0, right = 0):\n",
    "            if len(S) == 2 * N:\n",
    "                ans.append(S)\n",
    "                return\n",
    "            if left < N:\n",
    "                backtrack(S+'(', left+1, right)\n",
    "            if right < left:\n",
    "                backtrack(S+')', left, right+1)\n",
    "\n",
    "        backtrack()\n",
    "        return ans"
   ]
  },
  {
   "cell_type": "code",
   "execution_count": null,
   "metadata": {},
   "outputs": [],
   "source": [
    "## Closure number\n",
    "## Any valid sequence can be decomposed to '(' + left_part + ')' + right_part\n",
    "class Solution(object):\n",
    "    def generateParenthesis(self, N):\n",
    "        if N == 0: return ['']\n",
    "        ans = []\n",
    "        for c in xrange(N):\n",
    "            for left in self.generateParenthesis(c):\n",
    "                for right in self.generateParenthesis(N-1-c):\n",
    "                    ans.append('({}){}'.format(left, right))\n",
    "        return ans"
   ]
  }
 ],
 "metadata": {
  "kernelspec": {
   "display_name": "Python 3",
   "language": "python",
   "name": "python3"
  },
  "language_info": {
   "codemirror_mode": {
    "name": "ipython",
    "version": 3
   },
   "file_extension": ".py",
   "mimetype": "text/x-python",
   "name": "python",
   "nbconvert_exporter": "python",
   "pygments_lexer": "ipython3",
   "version": "3.6.3"
  }
 },
 "nbformat": 4,
 "nbformat_minor": 2
}
