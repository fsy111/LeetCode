{
 "cells": [
  {
   "cell_type": "markdown",
   "metadata": {},
   "source": [
    "# 43. Multiply Strings\n",
    "## Description\n",
    "Given two non-negative integers num1 and num2 represented as strings, return the product of num1 and num2, also represented as a string.\n",
    "\n",
    "### Example 1:\n",
    "```\n",
    "Input: num1 = \"2\", num2 = \"3\"\n",
    "Output: \"6\"\n",
    "```\n",
    "\n",
    "### Example 2:\n",
    "```\n",
    "Input: num1 = \"123\", num2 = \"456\"\n",
    "Output: \"56088\"\n",
    "```\n",
    "\n",
    "### Note:\n",
    "- The length of both num1 and num2 is < 110.\n",
    "- Both num1 and num2 contain only digits 0-9.\n",
    "- Both num1 and num2 do not contain any leading zero, except the number 0 itself.\n",
    "- You must not use any **built-in BigInteger** library or convert the inputs to integer **directly**."
   ]
  },
  {
   "cell_type": "code",
   "execution_count": null,
   "metadata": {},
   "outputs": [],
   "source": [
    "class Solution:\n",
    "    def multiply(self, num1: str, num2: str) -> str:\n",
    "        # str2int = {'0':0, '1':1, '2':2, '3':3, '4':4, '5':5, '6':6, '7':7, '8':8, '9':9}\n",
    "        if num1 == '0' or num2 == '0': return '0'\n",
    "        len1 = len(num1)\n",
    "        len2 = len(num2)\n",
    "        prod = [0] * (len1 + len2)\n",
    "        for i in range(1, len1+1):\n",
    "            for j in range(1, len2+1):\n",
    "                prod[i + j - 2] += int(num1[len1 - i]) * int(num2[len2 - j])\n",
    "        length = len(prod)\n",
    "        s = ''\n",
    "        for i in range(length-1):\n",
    "            prod[i+1] += prod[i] // 10\n",
    "            s = str(prod[i] % 10) + s\n",
    "        if prod[length-1] != 0: s = str(prod[length-1]) + s\n",
    "        return s\n",
    "                "
   ]
  },
  {
   "cell_type": "markdown",
   "metadata": {},
   "source": [
    "## Submission result\n",
    "Time Submitted | Status | Runtime | Memory | Language\n",
    "---------- | ---------- | --------- | --------- | -----------\n",
    "08/18/2020 22:47 | Accepted | 128 ms | 13.9 MB | python3\n",
    "\n",
    "Runtime: 128 ms, faster than 46.01% of Python3 online submissions for Multiply Strings.\n",
    "Memory Usage: 13.9 MB, less than 32.79% of Python3 online submissions for Multiply Strings."
   ]
  }
 ],
 "metadata": {
  "kernelspec": {
   "display_name": "Python 3",
   "language": "python",
   "name": "python3"
  },
  "language_info": {
   "codemirror_mode": {
    "name": "ipython",
    "version": 3
   },
   "file_extension": ".py",
   "mimetype": "text/x-python",
   "name": "python",
   "nbconvert_exporter": "python",
   "pygments_lexer": "ipython3",
   "version": "3.6.3"
  }
 },
 "nbformat": 4,
 "nbformat_minor": 2
}
