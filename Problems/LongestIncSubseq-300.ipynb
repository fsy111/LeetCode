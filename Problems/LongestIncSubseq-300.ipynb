{
 "cells": [
  {
   "cell_type": "markdown",
   "metadata": {},
   "source": [
    "# 300. Longest Increasing Subsequence\n",
    "## Description\n",
    "Given an unsorted array of integers, find the length of longest increasing subsequence."
   ]
  },
  {
   "cell_type": "code",
   "execution_count": 7,
   "metadata": {},
   "outputs": [
    {
     "data": {
      "text/plain": [
       "(6, [0, 2, 6, 9, 11, 15])"
      ]
     },
     "execution_count": 7,
     "metadata": {},
     "output_type": "execute_result"
    }
   ],
   "source": [
    "class Solution:\n",
    "    def lengthOfLIS(self, nums) -> int:\n",
    "        \n",
    "        ### Method 1: Dynamic Programming\n",
    "        ###           dp[i] = length of IncSubseq ending with nums[i]\n",
    "        ###           dp[i] = max_{0<=j<=i-1 and nums[j]<nums[i]}(dp[j]) + 1\n",
    "        def DP(nums):\n",
    "            if not nums: return 0\n",
    "            maxl = 0\n",
    "            dp = []\n",
    "            for i in range(len(nums)):\n",
    "                m = 0\n",
    "                for j in range(i):\n",
    "                    if nums[j] < nums[i] and dp[j]>m:\n",
    "                        m = dp[j]\n",
    "                dp.append(m+1)\n",
    "                maxl = max(maxl, m+1)\n",
    "            return maxl    \n",
    "        \n",
    "        ### Method 2: Optimize by Binary Search\n",
    "        ### dp[i] = index_min{nums[k] : nums[k] is the i^th smallest value in nums[0:k+1]}\n",
    "        ### By definition, dp[i] must be the index of i^th element for a increasing subsequence.\n",
    "        ### Length of dp = length of the longest increasing subsequences.\n",
    "        def BinarySearch(nums, indices, target_ind):\n",
    "                if not indices: return 0\n",
    "                l, r = 0, len(indices)-1\n",
    "                while l < r:\n",
    "                    mid = (l+r)//2\n",
    "                    if nums[indices[mid]] < nums[target_ind]:\n",
    "                        l = mid + 1\n",
    "                    else: r = mid\n",
    "                if nums[indices[l]] >= nums[target_ind]:\n",
    "                    return l\n",
    "                else:\n",
    "                    return len(indices)            \n",
    "        \n",
    "        def DynamicProgramming(nums):\n",
    "            dp = []\n",
    "            for i,n in enumerate(nums):\n",
    "                pos = BinarySearch(nums, dp, i)\n",
    "                if pos == len(dp):\n",
    "                    dp.append(i)\n",
    "                else:\n",
    "                    dp[pos] = i\n",
    "            return len(dp)\n",
    "        \n",
    "          \n",
    "        \n",
    "        ### In order to record the longest increasing subsequence,\n",
    "        ### a little changes need to make in the method 2.\n",
    "        ### IN addition, we use array p.\n",
    "        ### p[k] records the index of the predesessor of nums[k]\n",
    "        def DynamicProgrammingSubseq(nums):\n",
    "            dp = []\n",
    "            p = []\n",
    "            for i,n in enumerate(nums):\n",
    "                pos = BinarySearch(nums, dp, i)\n",
    "                if pos == len(dp):\n",
    "                    dp.append(i)\n",
    "                else:\n",
    "                    dp[pos] = i\n",
    "                if pos > 0:\n",
    "                    p.append(dp[pos-1])\n",
    "                else: p.append(-1)\n",
    "            \n",
    "            s = [0]*len(dp)\n",
    "            i = dp[len(dp)-1]\n",
    "            for j in range(len(dp)-1,-1,-1):\n",
    "                s[j] = nums[i]\n",
    "                i = p[i]   \n",
    "            return len(dp),s\n",
    "        \n",
    "        return DynamicProgrammingSubseq(nums)            \n",
    "\n",
    "    \n",
    "nums = [10,9,2,5,3,7,101,18]\n",
    "nums = [0,8,4,12,2,10,6,14,1,9,5,13,3,11,7,15]\n",
    "Solution().lengthOfLIS(nums)                   \n",
    "        \n",
    "        "
   ]
  },
  {
   "cell_type": "code",
   "execution_count": null,
   "metadata": {},
   "outputs": [],
   "source": []
  }
 ],
 "metadata": {
  "kernelspec": {
   "display_name": "Python 3",
   "language": "python",
   "name": "python3"
  },
  "language_info": {
   "codemirror_mode": {
    "name": "ipython",
    "version": 3
   },
   "file_extension": ".py",
   "mimetype": "text/x-python",
   "name": "python",
   "nbconvert_exporter": "python",
   "pygments_lexer": "ipython3",
   "version": "3.6.3"
  }
 },
 "nbformat": 4,
 "nbformat_minor": 2
}
