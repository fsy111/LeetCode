{
 "cells": [
  {
   "cell_type": "markdown",
   "metadata": {},
   "source": [
    "# 215. Kth Largest Element in an Array\n",
    "## Description\n",
    "Find the kth largest element in an unsorted array. Note that it is the $k^{\\text{th}}$ largest element in the sorted order, not the $k^{\\text{th}}$ distinct element.\n",
    "\n",
    "### Example 1:\n",
    "```\n",
    "Input: [3,2,1,5,6,4] and k = 2\n",
    "Output: 5\n",
    "```\n",
    "\n",
    "### Example 2:\n",
    "```\n",
    "Input: [3,2,3,1,2,4,5,5,6] and k = 4\n",
    "Output: 4\n",
    "```\n",
    "\n",
    "### Note: \n",
    "You may assume `k` is always valid, `1 <= k <= len(array)`."
   ]
  },
  {
   "cell_type": "markdown",
   "metadata": {},
   "source": [
    "## Quick select\n",
    "1. Hoare's Partition\n",
    "\n",
    "- Move pivot at the beginning of the array using swap.\n",
    "\n",
    "- Set the pointer `right` at the end of the array.\n",
    "\n",
    "- Iterate over the array with pointer `left` and move all elements less than pivot to `right` swap(right, left). Move `right` one step to the left after each swap.\n",
    "\n",
    "- Move the pivot to its final place, and return this index as `pivot_index`.\n",
    "\n",
    "2. Compare `pivot_index` with `k`\n",
    "- If `pivot_index == k`, the pivot is $k^{\\text{th}}$ greatest element, and all elements on the right are less or equal to the pivot. Return the pivot.\n",
    "\n",
    "- Otherwise, choose the side of the array to proceed recursively.\n"
   ]
  },
  {
   "cell_type": "code",
   "execution_count": null,
   "metadata": {},
   "outputs": [],
   "source": [
    "### Quick select\n",
    "class Solution:\n",
    "    def findKthLargest(self, nums: List[int], k: int) -> int:\n",
    "        def Partition(nums, left, right):\n",
    "            p = left\n",
    "            while left <= right:\n",
    "                if nums[left] >= nums[p]:\n",
    "                    left += 1\n",
    "                else:\n",
    "                    nums[left], nums[right] = nums[right], nums[left]\n",
    "                    right -= 1\n",
    "            nums[p], nums[right] = nums[right], nums[p]\n",
    "            return right\n",
    "        \n",
    "        def qsort(nums, start, end):\n",
    "            p = Partition(nums, start, end)\n",
    "            if p == k-1:\n",
    "                return nums[p]\n",
    "            elif p < k-1:\n",
    "                return qsort(nums, p+1, end)\n",
    "            else: return qsort(nums, start, p-1)\n",
    "            \n",
    "        return qsort(nums, 0, len(nums)-1)"
   ]
  },
  {
   "cell_type": "markdown",
   "metadata": {},
   "source": [
    "## Submission result\n",
    "Time Submitted | Status | Runtime | Memory | Language\n",
    "---------- | ---------- | --------- | --------- | -----------\n",
    "08/28/2020 04:24 | Accepted | 112 ms | 14.4 MB | python3\n",
    "\n",
    "Runtime: 112 ms, faster than 33.63% of Python3 online submissions for Kth Largest Element in an Array.\n",
    "Memory Usage: 14.4 MB, less than 92.00% of Python3 online submissions for Kth Largest Element in an Array."
   ]
  },
  {
   "cell_type": "markdown",
   "metadata": {},
   "source": [
    "## Heap class"
   ]
  },
  {
   "cell_type": "code",
   "execution_count": null,
   "metadata": {},
   "outputs": [],
   "source": [
    "import heapq\n",
    "class Solution:\n",
    "    \n",
    "    def findKthLargestKeepK(self, nums, k: int) -> int:\n",
    "        minheap = nums[:k]\n",
    "        heapq.heapify(minheap)\n",
    "        \n",
    "        for i in range(k, len(nums)):\n",
    "            heapq.heappushpop(minheap, nums[i])\n",
    "            print(minheap)\n",
    "            \n",
    "        return minheap[0]"
   ]
  },
  {
   "cell_type": "markdown",
   "metadata": {},
   "source": [
    "## Submission result\n",
    "Time Submitted | Status | Runtime | Memory | Language\n",
    "---------- | ---------- | --------- | --------- | -----------\n",
    "08/29/2020 00:55 | Accepted | 72 ms | 14.4 MB | python3\n",
    "\n",
    "Runtime: 52 ms, faster than 99.87% of Python3 online submissions for Kth Largest Element in an Array.\n",
    "Memory Usage: 14.4 MB, less than 93.21% of Python3 online submissions for Kth Largest Element in an Array."
   ]
  },
  {
   "cell_type": "markdown",
   "metadata": {},
   "source": [
    "### Heap operations"
   ]
  },
  {
   "cell_type": "code",
   "execution_count": null,
   "metadata": {},
   "outputs": [],
   "source": [
    "\"\"\"\" \n",
    "    Build Heap from an array nums in-place\n",
    "\"\"\"\"\n",
    "class heap:\n",
    "    \n",
    "    def __init__(self, nums):\n",
    "        ### Initialize\n",
    "        self.MinHeap = nums\n",
    "        self.length = len(self.MinHeap)\n",
    "        self.MinHeapify()\n",
    "        \n",
    "    def siftup(self, i):\n",
    "        \"\"\"\" if a node is less than its parent, \n",
    "             then move it up and move its parent down\n",
    "        \"\"\"\"\n",
    "        num = self.MinHeap[i]\n",
    "        while i >= 0:\n",
    "            p = (i-1) // 2\n",
    "            if p >= 0 and self.MinHeap[p] > num:\n",
    "                self.MinHeap[i] = self.MinHeap[p]\n",
    "                i = p\n",
    "            else:\n",
    "                self.MinHeap[i] = num\n",
    "                break        \n",
    "        \n",
    "    def siftdown(self, i):\n",
    "        \"\"\"\" if a node is not the smallest one comparing with its children, \n",
    "             then swap the smallest one and the node\n",
    "        \"\"\"\"\n",
    "            num = self.MinHeap[i]\n",
    "            current = i\n",
    "            while True:\n",
    "                l, r = i+i+1, i+i+2\n",
    "                if l < self.length and num > self.MinHeap[l]:\n",
    "                    current = l\n",
    "                if r < self.length and num > self.MinHeap[r] and self.MinHeap[l] > self.MinHeap[r]:\n",
    "                    current = r\n",
    "                if current != i:\n",
    "                    self.MinHeap[i] = self.MinHeap[current]\n",
    "                    i = current\n",
    "                else:\n",
    "                    self.MinHeap[i] = num\n",
    "                    break   \n",
    "\n",
    "    def MinHeapify(self):\n",
    "        for i in range((self.length-1) // 2, -1, -1):\n",
    "            self.siftdown(i)\n",
    "        \n",
    "    def InsertMinHeap(self, num):\n",
    "        ### Add a node at the end and then sift it up until the heap is valid\n",
    "        self.MinHeap.append(num)\n",
    "        self.length += 1\n",
    "        self.siftup(self.length-1)\n",
    "        \n",
    "    def PopMinHeap(self):\n",
    "        ### Pop the root, move the end to the root, and then sift it down until the heap is valid\n",
    "        x = self.MinHeap[0]\n",
    "        self.MinHeap[0] = self.MinHeap.pop()\n",
    "        self.length -= 1\n",
    "        self.siftdown(0)\n",
    "        \n",
    "class Solution:\n",
    "    def findKthLargest(self, nums: List[int], k: int) -> int:\n",
    "        \n",
    "        h = heap(nums)\n",
    "            \n",
    "        while h.length > k:\n",
    "            h.PopMinHeap()\n",
    "            \n",
    "        return h.MinHeap[0]"
   ]
  }
 ],
 "metadata": {
  "kernelspec": {
   "display_name": "Python 3",
   "language": "python",
   "name": "python3"
  },
  "language_info": {
   "codemirror_mode": {
    "name": "ipython",
    "version": 3
   },
   "file_extension": ".py",
   "mimetype": "text/x-python",
   "name": "python",
   "nbconvert_exporter": "python",
   "pygments_lexer": "ipython3",
   "version": "3.6.3"
  }
 },
 "nbformat": 4,
 "nbformat_minor": 2
}
