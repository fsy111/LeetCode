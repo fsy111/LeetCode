{
 "cells": [
  {
   "cell_type": "markdown",
   "metadata": {},
   "source": [
    "# 101. Symmetric Tree\n",
    "## Description\n",
    "Given a binary tree, check whether it is a mirror of itself (ie, symmetric around its center).\n",
    "\n",
    "For example, this binary tree `[1,2,2,3,4,4,3]` is symmetric.\n",
    "But the following `[1,2,2,null,3,null,3]` is not."
   ]
  },
  {
   "cell_type": "code",
   "execution_count": null,
   "metadata": {},
   "outputs": [],
   "source": [
    "# Definition for a binary tree node.\n",
    "class TreeNode:\n",
    "    def __init__(self, val=0, left=None, right=None):\n",
    "        self.val = val\n",
    "        self.left = left\n",
    "        self.right = right\n",
    "        \n",
    "class Solution:\n",
    "    def isSymmetric(self, root: TreeNode) -> bool:\n",
    "        \n",
    "        def isSame(l, r) -> bool:\n",
    "            if (not l) or (not r):\n",
    "                return l == r\n",
    "            return l.val == r.val and isSame(l.left, r.right) and isSame(l.right, r.left)\n",
    "        \n",
    "        if not root: return True    \n",
    "        return isSame(root.left, root.right)\n",
    "    \n",
    "    def isSymmetricIter(self, root: TreeNode) -> bool:\n",
    "        if not root: return True\n",
    "        lqueue = [root.left]\n",
    "        rqueue = [root.right]\n",
    "        while lqueue:\n",
    "            l = lqueue.pop(0)\n",
    "            r = rqueue.pop(0)\n",
    "            if (not l) or (not r):\n",
    "                if l != r: return False\n",
    "                else:\n",
    "                    continue\n",
    "            if l.val != r.val: return False\n",
    "            lqueue.append(l.left)\n",
    "            lqueue.append(l.right)\n",
    "            rqueue.append(r.right)\n",
    "            rqueue.append(r.left)\n",
    "        return True\n"
   ]
  }
 ],
 "metadata": {
  "kernelspec": {
   "display_name": "Python 3",
   "language": "python",
   "name": "python3"
  },
  "language_info": {
   "codemirror_mode": {
    "name": "ipython",
    "version": 3
   },
   "file_extension": ".py",
   "mimetype": "text/x-python",
   "name": "python",
   "nbconvert_exporter": "python",
   "pygments_lexer": "ipython3",
   "version": "3.6.3"
  }
 },
 "nbformat": 4,
 "nbformat_minor": 2
}
