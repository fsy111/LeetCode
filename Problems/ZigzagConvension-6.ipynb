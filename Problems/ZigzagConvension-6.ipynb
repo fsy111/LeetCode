{
 "cells": [
  {
   "cell_type": "markdown",
   "metadata": {},
   "source": [
    "# 6. ZigZag Conversion\n",
    "## Description\n",
    "The string \"PAYPALISHIRING\" is written in a zigzag pattern on a given number of rows like this: (you may want to display this pattern in a fixed font for better legibility)\n",
    "```\n",
    "P   A   H   N\n",
    "A P L S I I G\n",
    "Y   I   R\n",
    "```\n",
    "And then read line by line: `\"PAHNAPLSIIGYIR\"`\n",
    "\n",
    "Write the code that will take a string and make this conversion given a number of rows:\n",
    "`string convert(string s, int numRows);`\n",
    "\n",
    "### Example 1:\n",
    "```\n",
    "Input: s = \"PAYPALISHIRING\", numRows = 3\n",
    "Output: \"PAHNAPLSIIGYIR\"\n",
    "```\n",
    "\n",
    "### Example 2:\n",
    "```\n",
    "Input: s = \"PAYPALISHIRING\", numRows = 4\n",
    "Output: \"PINALSIGYAHRPI\"\n",
    "```\n",
    "#### Explanation:\n",
    "```\n",
    "P     I    N\n",
    "A   L S  I G\n",
    "Y A   H R\n",
    "P     I\n",
    "```"
   ]
  },
  {
   "cell_type": "code",
   "execution_count": null,
   "metadata": {},
   "outputs": [],
   "source": [
    "class Solution:\n",
    "    def convert(self, s: str, numRows: int) -> str:\n",
    "        if numRows == 1: return s\n",
    "        n = len(s)\n",
    "        new = ''\n",
    "        j = 0\n",
    "        while j < n:\n",
    "            new += s[j]\n",
    "            j += 2 * numRows - 2\n",
    "        \n",
    "        for i in range(1, numRows-1):\n",
    "            j = i\n",
    "            direction = -1\n",
    "            while j < n:\n",
    "                new += s[j]\n",
    "                step = (i * direction) % (numRows-1) * 2\n",
    "                j += step\n",
    "                direction *= -1\n",
    "        \n",
    "        j = numRows - 1\n",
    "        while j < n:\n",
    "            new += s[j]\n",
    "            j += 2 * numRows - 2\n",
    "        \n",
    "        return new"
   ]
  },
  {
   "cell_type": "markdown",
   "metadata": {},
   "source": [
    "## Submission result\n",
    "Time Submitted | Status | Runtime | Memory | Language\n",
    "---------- | ---------- | --------- | --------- | -----------\n",
    "08/18/2020 03:43\t | Accepted | 52 ms | 13.8 MB | python3\n",
    "\n",
    "- Runtime: 52 ms, faster than 94.25% of Python3 online submissions for ZigZag Conversion.\n",
    "- Memory Usage: 13.8 MB, less than 74.73% of Python3 online submissions for ZigZag Conversion."
   ]
  }
 ],
 "metadata": {
  "kernelspec": {
   "display_name": "Python 3",
   "language": "python",
   "name": "python3"
  },
  "language_info": {
   "codemirror_mode": {
    "name": "ipython",
    "version": 3
   },
   "file_extension": ".py",
   "mimetype": "text/x-python",
   "name": "python",
   "nbconvert_exporter": "python",
   "pygments_lexer": "ipython3",
   "version": "3.6.3"
  }
 },
 "nbformat": 4,
 "nbformat_minor": 2
}
