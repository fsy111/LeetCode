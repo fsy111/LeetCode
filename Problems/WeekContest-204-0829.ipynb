{
 "cells": [
  {
   "cell_type": "markdown",
   "metadata": {},
   "source": [
    "# Week Contest 204\n",
    "Aug 29, 2020"
   ]
  },
  {
   "cell_type": "code",
   "execution_count": null,
   "metadata": {},
   "outputs": [],
   "source": [
    "class Solution:\n",
    "    def containsPattern(self, arr, m: int, k: int) -> bool:\n",
    "        \n",
    "        def Patterns(pattern, a, k) -> bool:\n",
    "            if not k: return True\n",
    "            n = len(a)\n",
    "            return pattern == a[:m] and Patterns(pattern, a[m:], k-1)\n",
    "            \n",
    "        n = len(arr)\n",
    "        for i in range(n - m * k + 1):\n",
    "            if Patterns(arr[i:i+m], arr[i+m:], k-1):\n",
    "                return True\n",
    "        return False\n",
    "print(Solution().containsPattern([2,2],1,2))"
   ]
  },
  {
   "cell_type": "code",
   "execution_count": null,
   "metadata": {},
   "outputs": [],
   "source": [
    "class Solution:\n",
    "    def getMaxLen(self, nums) -> int:\n",
    "        pos = [int(nums[0]>0)]\n",
    "        neg = [int(nums[0]<0)]\n",
    "        maxlen = pos[0]\n",
    "        n = len(nums)\n",
    "        for i in range(1, n):\n",
    "            if nums[i]>0:\n",
    "                pos.append(pos[i-1] + 1)\n",
    "                if neg[i-1] != 0: \n",
    "                    neg.append(neg[i-1] + 1)\n",
    "                else: neg.append(0)\n",
    "            elif nums[i] < 0:\n",
    "                if neg[i-1] != 0: \n",
    "                    pos.append(neg[i-1] + 1)\n",
    "                else: pos.append(0)\n",
    "                neg.append(pos[i-1] + 1)\n",
    "            else:\n",
    "                pos.append(0)\n",
    "                neg.append(0)\n",
    "            maxlen = max(pos[i], maxlen)\n",
    "            print(pos)\n",
    "            print(neg)\n",
    "        return maxlen\n",
    "Solution().getMaxLen([-16,0,-5,2,2,-13,11,8])\n",
    "                \n",
    "        \n",
    "                \n",
    "            "
   ]
  },
  {
   "cell_type": "code",
   "execution_count": null,
   "metadata": {},
   "outputs": [],
   "source": []
  }
 ],
 "metadata": {
  "kernelspec": {
   "display_name": "Python 3",
   "language": "python",
   "name": "python3"
  },
  "language_info": {
   "codemirror_mode": {
    "name": "ipython",
    "version": 3
   },
   "file_extension": ".py",
   "mimetype": "text/x-python",
   "name": "python",
   "nbconvert_exporter": "python",
   "pygments_lexer": "ipython3",
   "version": "3.6.3"
  }
 },
 "nbformat": 4,
 "nbformat_minor": 2
}
