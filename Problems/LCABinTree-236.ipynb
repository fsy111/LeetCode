{
 "cells": [
  {
   "cell_type": "markdown",
   "metadata": {},
   "source": [
    "# 236. Lowest Common Ancestor of a Binary Tree\n",
    "## Description\n",
    "Given a binary tree, find the lowest common ancestor (LCA) of two given nodes in the tree.\n",
    "\n",
    "According to the [definition of LCA on Wikipedia](https://en.wikipedia.org/wiki/Lowest_common_ancestor): “The lowest common ancestor is defined between two nodes p and q as the lowest node in T that has both p and q as descendants (where we allow a node to be a descendant of itself).”\n",
    "\n",
    "Given the following binary tree:  `root = [3,5,1,6,2,0,8,null,null,7,4]`\n",
    "\n",
    "### Example 1:\n",
    "```\n",
    "Input: root = [3,5,1,6,2,0,8,null,null,7,4], p = 5, q = 1\n",
    "Output: 3\n",
    "```\n",
    "#### Explanation:\n",
    "The LCA of nodes 5 and 1 is 3.\n",
    "\n",
    "### Example 2:\n",
    "```\n",
    "Input: root = [3,5,1,6,2,0,8,null,null,7,4], p = 5, q = 4\n",
    "Output: 5\n",
    "```\n",
    "#### Explanation:\n",
    "The LCA of nodes 5 and 4 is 5, since a node can be a descendant of itself according to the LCA definition."
   ]
  },
  {
   "cell_type": "code",
   "execution_count": null,
   "metadata": {},
   "outputs": [],
   "source": [
    "### Recursive, traverse ALL nodes\n",
    "\n",
    "# Definition for a binary tree node.\n",
    "# class TreeNode:\n",
    "#     def __init__(self, x):\n",
    "#         self.val = x\n",
    "#         self.left = None\n",
    "#         self.right = None\n",
    "\n",
    "class Solution:\n",
    "    def __init__(self):\n",
    "        self.ans = None\n",
    "        \n",
    "    def lowestCommonAncestor(self, root: 'TreeNode', p: 'TreeNode', q: 'TreeNode') -> 'TreeNode':\n",
    "        \n",
    "        def found(root):\n",
    "            if not root: return False\n",
    "            \n",
    "            current = (root == p or root == q)\n",
    "            l = found(root.left)\n",
    "            r = found(root.right)\n",
    "            \n",
    "            if current + l + r >= 2:\n",
    "                self.ans = root\n",
    "                \n",
    "            return current or l or r\n",
    "        \n",
    "        found(root)\n",
    "        return self.ans"
   ]
  },
  {
   "cell_type": "markdown",
   "metadata": {},
   "source": [
    "- Runtime: 76 ms, faster than 79.91% of Python3 online submissions for Lowest Common Ancestor of a Binary Tree.\n",
    "- Memory Usage: 26.8 MB, less than 29.61% of Python3 online submissions for Lowest Common Ancestor of a Binary Tree."
   ]
  },
  {
   "cell_type": "code",
   "execution_count": null,
   "metadata": {},
   "outputs": [],
   "source": [
    "### Backtracking, stack, return immediately once found both p and q\n",
    "class Solution:\n",
    "    pd = 0\n",
    "    ld = 1\n",
    "    rd = 2\n",
    "        \n",
    "    def lowestCommonAncestor(self, root: 'TreeNode', p: 'TreeNode', q: 'TreeNode') -> 'TreeNode':\n",
    "        stack = [(root, Solution.pd)]\n",
    "        found_one = False\n",
    "        lca = -1\n",
    "        while stack:\n",
    "            node, state = stack[-1]\n",
    "            if state == Solution.rd:\n",
    "                if found_one and lca == len(stack) - 1:\n",
    "                    lca -= 1\n",
    "                stack.pop()\n",
    "                continue\n",
    "            if state == Solution.pd:\n",
    "                if node == p or node == q:\n",
    "                    if found_one: return stack[lca][0]\n",
    "                    else:\n",
    "                        lca = len(stack) - 1\n",
    "                        found_one = True\n",
    "                child = node.left\n",
    "            else:\n",
    "                child = node.right\n",
    "            stack.pop()\n",
    "            stack.append((node, state+1))\n",
    "            if child:\n",
    "                stack.append((child, Solution.pd))\n",
    "                "
   ]
  },
  {
   "cell_type": "markdown",
   "metadata": {},
   "source": [
    "- Runtime: 72 ms, faster than 90.08% of Python3 online submissions for Lowest Common Ancestor of a Binary Tree.\n",
    "- Memory Usage: 18 MB, less than 87.40% of Python3 online submissions for Lowest Common Ancestor of a Binary Tree."
   ]
  }
 ],
 "metadata": {
  "kernelspec": {
   "display_name": "Python 3",
   "language": "python",
   "name": "python3"
  },
  "language_info": {
   "codemirror_mode": {
    "name": "ipython",
    "version": 3
   },
   "file_extension": ".py",
   "mimetype": "text/x-python",
   "name": "python",
   "nbconvert_exporter": "python",
   "pygments_lexer": "ipython3",
   "version": "3.6.3"
  }
 },
 "nbformat": 4,
 "nbformat_minor": 2
}
