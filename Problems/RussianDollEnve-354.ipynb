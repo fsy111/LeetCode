{
 "cells": [
  {
   "cell_type": "markdown",
   "metadata": {},
   "source": [
    "# 354. Russian Doll Envelopes\n",
    "## Description\n",
    "You have a number of envelopes with widths and heights given as a pair of integers (w, h). One envelope can fit into another if and only if both the width and height of one envelope is greater than the width and height of the other envelope.\n",
    "\n",
    "What is the maximum number of envelopes can you Russian doll? (put one inside other)\n",
    "\n",
    "### Note:\n",
    "Rotation is not allowed.\n",
    "\n",
    "### Example:\n",
    "```\n",
    "Input: [[5,4],[6,4],[6,7],[2,3]]\n",
    "Output: 3 \n",
    "```\n",
    "#### Explanation: \n",
    "The maximum number of envelopes you can Russian doll is 3 (`[2,3] => [5,4] => [6,7]`)."
   ]
  },
  {
   "cell_type": "code",
   "execution_count": null,
   "metadata": {},
   "outputs": [],
   "source": [
    "# from operator import itemgetter\n",
    "from bisect import bisect_left\n",
    "class Solution:\n",
    "    def maxEnvelopes(self, envelopes: List[List[int]]) -> int:\n",
    "        # A little different: double sort, first component primary key\n",
    "        # envelopes.sort(key = (itemgetter(0,1)))\n",
    "        envelopes.sort(key = lambda x: (x[0], -x[1]))\n",
    "        ### The second component is sorted reversely\n",
    "        ### because the next step we will use the second component to find the increasing subsequence.\n",
    "        ### This assures that if a subsequence of h is increasing \n",
    "        ### then the envelopes are Russian doll \n",
    "        ### (since the first component is automatically increasing, different h means different in w).\n",
    "        dp = []\n",
    "        for w,h in envelopes:\n",
    "            ### bisect_left assures every h are unique, no repeated h in dp.\n",
    "            index = bisect_left(dp, h)\n",
    "            if index == len(dp):\n",
    "                dp.append(h)\n",
    "            else:\n",
    "                dp[index] = h\n",
    "        return len(dp)\n",
    "        "
   ]
  }
 ],
 "metadata": {
  "kernelspec": {
   "display_name": "Python 3",
   "language": "python",
   "name": "python3"
  },
  "language_info": {
   "codemirror_mode": {
    "name": "ipython",
    "version": 3
   },
   "file_extension": ".py",
   "mimetype": "text/x-python",
   "name": "python",
   "nbconvert_exporter": "python",
   "pygments_lexer": "ipython3",
   "version": "3.6.3"
  }
 },
 "nbformat": 4,
 "nbformat_minor": 2
}
