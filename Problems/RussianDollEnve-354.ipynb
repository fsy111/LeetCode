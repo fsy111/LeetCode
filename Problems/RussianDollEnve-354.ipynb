{
 "cells": [
  {
   "cell_type": "markdown",
   "metadata": {},
   "source": [
    "# 354. Russian Doll Envelopes\n",
    "## Description\n",
    "You have a number of envelopes with widths and heights given as a pair of integers (w, h). One envelope can fit into another if and only if both the width and height of one envelope is greater than the width and height of the other envelope.\n",
    "\n",
    "What is the maximum number of envelopes can you Russian doll? (put one inside other)\n",
    "\n",
    "### Note:\n",
    "Rotation is not allowed.\n",
    "\n",
    "### Example:\n",
    "```\n",
    "Input: [[5,4],[6,4],[6,7],[2,3]]\n",
    "Output: 3 \n",
    "```\n",
    "#### Explanation: \n",
    "The maximum number of envelopes you can Russian doll is 3 (`[2,3] => [5,4] => [6,7]`)."
   ]
  }
 ],
 "metadata": {
  "kernelspec": {
   "display_name": "Python 3",
   "language": "python",
   "name": "python3"
  },
  "language_info": {
   "codemirror_mode": {
    "name": "ipython",
    "version": 3
   },
   "file_extension": ".py",
   "mimetype": "text/x-python",
   "name": "python",
   "nbconvert_exporter": "python",
   "pygments_lexer": "ipython3",
   "version": "3.6.3"
  }
 },
 "nbformat": 4,
 "nbformat_minor": 2
}
