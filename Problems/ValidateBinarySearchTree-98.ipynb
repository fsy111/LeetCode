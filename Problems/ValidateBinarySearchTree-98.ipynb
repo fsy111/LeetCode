{
 "cells": [
  {
   "cell_type": "markdown",
   "metadata": {},
   "source": [
    "# 98. Validate Binary Search Tree\n",
    "## Description\n",
    "Given a binary tree, determine if it is a valid binary search tree (BST).\n",
    "### Definition of Bineary Search Tree\n",
    "* The left subtree of a node contains only nodes with keys less than the node's key.\n",
    "* The right subtree of a node contains only nodes with keys greater than the node's key.\n",
    "* Both the left and right subtrees must also be binary search trees."
   ]
  },
  {
   "cell_type": "code",
   "execution_count": null,
   "metadata": {},
   "outputs": [],
   "source": [
    "# Definition for a binary tree node.\n",
    "# class TreeNode:\n",
    "#     def __init__(self, val=0, left=None, right=None):\n",
    "#         self.val = val\n",
    "#         self.left = left\n",
    "#         self.right = right\n",
    "class Solution:\n",
    "    def isValidBST(self, root: TreeNode) -> bool:\n",
    "        \n",
    "        def isValidMinMax(root:TreeNode):\n",
    "            if not root: return True, 0, 0\n",
    "            if root.left:\n",
    "                l_order, l_min, l_max = isValidMinMax(root.left)\n",
    "                l_order = l_order and l_max < root.val\n",
    "            else:\n",
    "                l_order, l_min = True, root.val\n",
    "            \n",
    "            if root.right:\n",
    "                r_order, r_min, r_max = isValidMinMax(root.right)\n",
    "                r_order = r_order and r_min > root.val\n",
    "            else:\n",
    "                r_order, r_max = True, root.val\n",
    "                \n",
    "            return l_order and r_order, l_min, r_max\n",
    "        \n",
    "        \n",
    "        ### METHOD 2:\n",
    "        ### upper limit of left subtree is root.val\n",
    "        ### lower limit of right subtree is root.val\n",
    "        def helper(root:TreeNode, lower=-math.inf, upper=math.inf):\n",
    "            if not root: return True\n",
    "            val = root.val\n",
    "            \n",
    "            return lower<val<upper and helper(root.left, lower, val) and helper(root.right, val, upper)\n",
    "        \n",
    "        \n",
    "        ### METHOD 3: INORDER TRAVERSE\n",
    "        ### The element in the traversal stack is in ascending order\n",
    "        def inorderTraverse(root:TreeNode):\n",
    "            last = -math.inf\n",
    "            current = root\n",
    "            while current:\n",
    "                if not current.left:\n",
    "                    if last >= current.val: return False\n",
    "                    last = current.val\n",
    "                    current = current.right\n",
    "                else:\n",
    "                    RightMost(current.left).right = current\n",
    "                    current.left, current = None, current.left\n",
    "            return True\n",
    "        \n",
    "        def RightMost(node:TreeNode) -> TreeNode:\n",
    "            while node.right:\n",
    "                node = node.right\n",
    "            return node\n",
    "        \n",
    "\n",
    "        return inorderTraverse(root)"
   ]
  }
 ],
 "metadata": {
  "kernelspec": {
   "display_name": "Python 3",
   "language": "python",
   "name": "python3"
  },
  "language_info": {
   "codemirror_mode": {
    "name": "ipython",
    "version": 3
   },
   "file_extension": ".py",
   "mimetype": "text/x-python",
   "name": "python",
   "nbconvert_exporter": "python",
   "pygments_lexer": "ipython3",
   "version": "3.6.3"
  }
 },
 "nbformat": 4,
 "nbformat_minor": 2
}
