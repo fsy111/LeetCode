{
 "cells": [
  {
   "cell_type": "markdown",
   "metadata": {},
   "source": [
    "# 887. Super Egg Drop\n",
    "## Description\n",
    "You are given `K` eggs, and you have access to a building with `N` floors from `1` to `N`. \n",
    "\n",
    "Each egg is identical in function, and if an egg breaks, you cannot drop it again.\n",
    "\n",
    "You know that there exists a floor `F` with `0 <= F <= N` such that any egg dropped at a floor higher than `F` will break, and any egg dropped at or below floor `F` will not break.\n",
    "\n",
    "Each move, you may take an egg (if you have an unbroken one) and drop it from any floor `X` (with `1 <= X <= N`). \n",
    "\n",
    "Your goal is to know with certainty what the value of `F` is.\n",
    "\n",
    "What is the minimum number of moves that you need to know with certainty what `F` is, regardless of the initial value of `F`?\n",
    "\n",
    "### Note:\n",
    "- `1 <= K <= 100`\n",
    "- `1 <= N <= 10000`"
   ]
  },
  {
   "cell_type": "markdown",
   "metadata": {},
   "source": [
    "### METHOD 1: Dynamic Programming with Binary Search\n",
    "`MinDrop(k,n) = 1 + min( max(MinDrop(k-1, drop-1), MinDrop(k, n-drop)) for drop in range(1, n+1))`\n",
    "However, since `MinDrop(k-1, drop-1)` increases while `MinDrop(k, n-drop)` decreases as `drop` increases,\n",
    "the minimum of the larger one of them happens when (`MinDrop(k-1, drop-1) == MinDrop(k, n-drop)` or almost equal).\n",
    "We can use binary search to find the optimal drop.\n",
    "Time complexity: $O(k*N*\\log N)$"
   ]
  },
  {
   "cell_type": "code",
   "execution_count": null,
   "metadata": {},
   "outputs": [],
   "source": [
    "class Solution:\n",
    "    def superEggDrop(self, K: int, N: int) -> int:\n",
    "        f = {}\n",
    "\n",
    "        def MinDrop(k, n):\n",
    "            if (k,n) not in f:\n",
    "                if n == 0: \n",
    "                    move = 0\n",
    "                elif k == 1:\n",
    "                    move = n\n",
    "                else:\n",
    "                    low_floor = 1\n",
    "                    hi_floor = n\n",
    "                    while low_floor + 1 < hi_floor:\n",
    "                        mid = (low_floor + hi_floor) // 2\n",
    "                        t1 = MinDrop(k-1, mid-1)\n",
    "                        t2 = MinDrop(k, n-mid)\n",
    "                        if t1 < t2:\n",
    "                            low_floor = mid\n",
    "                        elif t1 > t2:\n",
    "                            hi_floor = mid\n",
    "                        else:\n",
    "                            low_floor = hi_floor = mid\n",
    "\n",
    "                    move = 1 + min( max(MinDrop(k-1, drop-1), MinDrop(k, n-drop)) for drop in range(low_floor, hi_floor+1))\n",
    "                \n",
    "                f[k,n] = move\n",
    "            return f[k,n]\n",
    "        return MinDrop(K,N)"
   ]
  },
  {
   "cell_type": "code",
   "execution_count": null,
   "metadata": {},
   "outputs": [],
   "source": [
    "### Dynamic Programming with optimal drop\n",
    "### As N increases, MinDrop(k-1, drop-1) constant and MinDrop(k, n-drop) increases.\n",
    "### And the optimal drop increases as N increases.\n",
    "### So we keep track on the optimal drop and \n",
    "### when N increases, we start our search at the previous optimal drop instead of 1.\n",
    "\n",
    "class Solution:\n",
    "    def superEggDrop(self, K: int, N: int) -> int:\n",
    "        dp = list(range(N+1))\n",
    "        \n",
    "        for k in range(2, K+1):\n",
    "            dp2 = [0]\n",
    "            drop = 1\n",
    "            for floor in range(1, N+1):\n",
    "                while drop < floor and max(dp[drop-1], dp2[floor-drop]) > max(dp[drop], dp2[floor-drop-1]):\n",
    "                    drop += 1\n",
    "                    \n",
    "                dp2.append(1+max(dp[drop-1], dp2[floor-drop]))\n",
    "            dp = dp2\n",
    "        return dp[-1]"
   ]
  },
  {
   "cell_type": "markdown",
   "metadata": {},
   "source": [
    "### METHOD 3: Mathematical method\n",
    "Let `f(T,K) =` the greatest floors that can be determined with certainty for `T` tries and `K` eggs.\n",
    "We want to find the smallest `T` such that `f(T,k) >= N`.\n",
    "Since `f(T,K)` is an increasing function with respect to `T`, we can use binary search to find the smallest `T`.\n",
    "\n",
    "To calculate $f(T,K)$,\n",
    "Note that $f(T,K)>=n$ if and only if there exists an `drop` between 1 and $n$ such that\n",
    "- f(T-1, K-1) >= drop-1\n",
    "- f(T-1, K) >= n-drop\n",
    "\n",
    "Hence `n-f(T-1, K) <= drop <= f(T-1, K-1)+1`, so `n <= f(T-1, K) + f(T-1, K-1) + 1`.\n",
    "Therefore $f(T,K)$, which is the greatest possible $n$, equal to $f(T-1, K) + f(T-1, K-1) + 1$.\n",
    "We can easily see that $f(0, K) = f(T, 0) = 0$ and $f(T, 1) = T$.\n",
    "To solve $f(T,K) = f(T-1, K) + f(T-1, K-1) + 1$, let $g(T,K) = f(T, K) - f(T, K-1)$.\n",
    "Then $g(T, K) = g(T-1, K) + g(T-1, K-1)$ with $g(T, 1) = T$. \n",
    "This means $g(T,K) = \\binom(T,K)$ so $f(T,K) = \\sum\\limits_{i=1}^K \\binom(T,i)$.\n",
    "\n",
    "Another approach to find this is any $T$ tries is a $T$-sequence of 'success' and 'failure'.\n",
    "$K$ eggs means number of 'failure' must be less than or equal to $K$.\n",
    "* $T$ tries with i failure has $\\binom(T,i)$ number of states, for any $0 \\leq i \\leq K$.\n",
    "Hence $\\sum\\limits_{i=0}^K \\binom(T,i)$ is the total number of states we can distinguish with $T$ tries and $K$ eggs. Note that this includes floor 0. This shows that $f(T,K) \\leq \\sum\\limits_{i=1}^K \\binom(T,i)$.\n",
    "\n",
    "On the other hand, each drop at floor $i$ will show that the answer is either at most $i$ (if the egg breaks) or greater than $i$ (if the egg doesn't break). Hence, in an optimal throwing strategy, each such sequence actually maps to a unique answer.\n"
   ]
  },
  {
   "cell_type": "code",
   "execution_count": null,
   "metadata": {},
   "outputs": [],
   "source": [
    "class Solution:\n",
    "    def superEggDrop(self, K: int, N: int) -> int:        \n",
    "        def binom(t):\n",
    "            ans = 0\n",
    "            r = 1\n",
    "            for i in range(1, K+1):\n",
    "                r *= t-i+1\n",
    "                r //= i\n",
    "                ans += r\n",
    "                if ans >= N: break\n",
    "            return ans\n",
    "            \n",
    "        low, high = 1, N\n",
    "        while low < high:\n",
    "            mid = (low + high) // 2\n",
    "            if binom(mid) < N:\n",
    "                low = mid + 1\n",
    "            else:\n",
    "                high = mid\n",
    "                \n",
    "        return low\n",
    "        "
   ]
  }
 ],
 "metadata": {
  "kernelspec": {
   "display_name": "Python 3",
   "language": "python",
   "name": "python3"
  },
  "language_info": {
   "codemirror_mode": {
    "name": "ipython",
    "version": 3
   },
   "file_extension": ".py",
   "mimetype": "text/x-python",
   "name": "python",
   "nbconvert_exporter": "python",
   "pygments_lexer": "ipython3",
   "version": "3.6.3"
  }
 },
 "nbformat": 4,
 "nbformat_minor": 2
}
