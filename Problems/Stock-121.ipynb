{
 "cells": [
  {
   "cell_type": "markdown",
   "metadata": {},
   "source": [
    "# 121. Best Time to Buy and Sell Stock\n",
    "## Description\n",
    "Say you have an array for which the $i^{\\text{th}}$ element is the price of a given stock on day $i$.\n",
    "\n",
    "If you were only permitted to complete at most one transaction (i.e., buy one and sell one share of the stock), design an algorithm to find the maximum profit.\n",
    "\n",
    "Note that you cannot sell a stock before you buy one.\n",
    "\n",
    "### Example 1:\n",
    "```\n",
    "Input: [7,1,5,3,6,4]\n",
    "Output: 5\n",
    "```\n",
    "Explanation: Buy on day 2 (`price = 1`) and sell on day 5 (`price = 6`), profit = 6-1 = 5.\n",
    "             Not 7-1 = 6, as selling price needs to be larger than buying price.\n",
    "\n",
    "### Example 2:\n",
    "```\n",
    "Input: [7,6,4,3,1]\n",
    "Output: 0\n",
    "```\n",
    "Explanation: In this case, no transaction is done, i.e. `max profit = 0`."
   ]
  },
  {
   "cell_type": "code",
   "execution_count": 3,
   "metadata": {},
   "outputs": [
    {
     "data": {
      "text/plain": [
       "0"
      ]
     },
     "execution_count": 3,
     "metadata": {},
     "output_type": "execute_result"
    }
   ],
   "source": [
    "class Solution:\n",
    "    def maxProfit(self, prices: List[int]) -> int:\n",
    "        length = len(prices)\n",
    "        sell = 0\n",
    "        profit = 0\n",
    "        for i in range(length-1, -1, -1):\n",
    "            profit = max(profit, sell - prices[i])\n",
    "            sell = max(sell, prices[i])\n",
    "        return profit\n",
    "Solution().maxProfit([7,6,4,3,1])"
   ]
  },
  {
   "cell_type": "markdown",
   "metadata": {},
   "source": [
    "### Submission result: dynamic programming\n",
    "Time Submitted | Status | Runtime | Memory | Language\n",
    "---------- | ---------- | --------- | --------- | -----------\n",
    "08/16/2020 17:17 | Accepted | 68 ms | 15.1 MB | python3\n",
    "\n",
    "- Runtime: 68 ms, faster than 65.46% of Python3 online submissions for Best Time to Buy and Sell Stock.\n",
    "- Memory Usage: 15.1 MB, less than 71.22% of Python3 online submissions for Best Time to Buy and Sell Stock.\n",
    "\n",
    "### Complexity\n",
    "- Time Complexity: $O(n)$.\n",
    "- Space Complexity: $O(1)$.\n"
   ]
  }
 ],
 "metadata": {
  "kernelspec": {
   "display_name": "Python 3",
   "language": "python",
   "name": "python3"
  },
  "language_info": {
   "codemirror_mode": {
    "name": "ipython",
    "version": 3
   },
   "file_extension": ".py",
   "mimetype": "text/x-python",
   "name": "python",
   "nbconvert_exporter": "python",
   "pygments_lexer": "ipython3",
   "version": "3.6.3"
  }
 },
 "nbformat": 4,
 "nbformat_minor": 2
}
