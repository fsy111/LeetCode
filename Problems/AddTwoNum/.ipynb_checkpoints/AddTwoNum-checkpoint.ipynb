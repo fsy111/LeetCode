{
 "cells": [
  {
   "cell_type": "code",
   "execution_count": null,
   "metadata": {
    "collapsed": true
   },
   "outputs": [],
   "source": [
    "# Definition for singly-linked list.\n",
    "# class ListNode(object):\n",
    "#     def __init__(self, val=0, next=None):\n",
    "#         self.val = val\n",
    "#         self.next = next\n",
    "class Solution(object):\n",
    "    def addTwoNumbers(self, l1, l2):\n",
    "        \"\"\"\n",
    "        :type l1: ListNode\n",
    "        :type l2: ListNode\n",
    "        :rtype: ListNode\n",
    "        \"\"\"\n",
    "        if l1 == None and l2 == None:\n",
    "            return None\n",
    "        if l1 == None:\n",
    "            l1 = ListNode()\n",
    "        if l2 == None:\n",
    "            l2 = ListNode()\n",
    "        digitsum = l1.val + l2.val\n",
    "        s = ListNode(digitsum % 10, None)\n",
    "        if l1.next == None and l2.next == None:\n",
    "            if digitsum > 9:\n",
    "                s.next = ListNode(digitsum // 10, None)\n",
    "            return s\n",
    "        if l1.next == None:\n",
    "            l2.next.val = l2.next.val + digitsum // 10\n",
    "        else:\n",
    "            l1.next.val = l1.next.val + digitsum // 10\n",
    "        s.next = self.addTwoNumbers(l1.next, l2.next)\n",
    "        return s\n",
    "                "
   ]
  },
  {
   "cell_type": "markdown",
   "metadata": {},
   "source": [
    "# Submission result\n",
    "Time Submitted | Status | Runtime | Memory | Language\n",
    "---------- | ---------- | --------- | --------- | -----------\n",
    "08/10/2020 01:59 | Accepted | 60 ms | 13 MB | python\n",
    "\n",
    "- Runtime: 60 ms, faster than 83.82% of Python online submissions for Add Two Numbers.\n",
    "- Memory Usage: 13 MB, less than 6.77% of Python online submissions for Add Two Numbers."
   ]
  },
  {
   "cell_type": "markdown",
   "metadata": {},
   "source": [
    "### The pseudocode is as following:\n",
    "\n",
    "- Initialize current node to dummy head of the returning list.\n",
    "- Initialize carry to _0_.\n",
    "- Initialize _p_ and _q_ to head of _l1_ and _l2_ respectively.\n",
    "- Loop through lists _l1_ and _l2_ until you reach both ends.\n",
    "  - Set _x_ to node _p_'s value. If _p_ has reached the end of _11_, set to _0_.\n",
    "  - Set _y_ to node _q_'s value. If _q_ has reached the end of _l2_, set to _0_.\n",
    "  - Set _sum = x + y + carry_.\n",
    "  - Update _carry = sum / 10_.\n",
    "  - Create a new node with the digit value of _(sum \\bmod 10)(sum mod 10)_ and set it to current node's next, then advance current node to next.\n",
    "  - Advance both _p_ and _q_.\n",
    "- Check if _carry = 1_. \n",
    "If so append a new node with digit 11 to the returning list.\n",
    "- Return dummy head's next node.\n",
    "\n",
    "Note that we use a **_dummy head_** to simplify the code. \n",
    "Without a dummy head, you would have to write extra conditional statements to initialize the head's value.\n",
    "\n",
    "\n",
    "### Complexity analysis\n",
    "\n",
    "- Time complexity : $O(\\max(m, n))$. Assume that mm and nn represents the length of _l1_ and _l2_ respectively, the algorithm above iterates at most $\\max(m, n)$ times.\n",
    "\n",
    "- Space complexity : $O(\\max(m, n)$)$. The length of the new list is at most $\\max(m,n)+1$."
   ]
  },
  {
   "cell_type": "markdown",
   "metadata": {},
   "source": [
    "### Program v2 (from LeetCode)\n",
    "\n",
    "``` python\n",
    "# Definition for singly-linked list.\n",
    "# class ListNode(object):\n",
    "#     def __init__(self, val=0, next=None):\n",
    "#         self.val = val\n",
    "#         self.next = next\n",
    "class Solution(object):\n",
    "    def addTwoNumbers(self, l1, l2):\n",
    "        \"\"\"\n",
    "        :type l1: ListNode\n",
    "        :type l2: ListNode\n",
    "        :rtype: ListNode\n",
    "        \"\"\"\n",
    "        dummyHead = ListNode(0)\n",
    "        current = dummyHead\n",
    "        carry = 0\n",
    "        \n",
    "        while l1 or l2 or carry:\n",
    "            v1  = (l1.val if l1 else 0)\n",
    "            v2  = (l2.val if l2 else 0)\n",
    "            carry, remainder = divmod(v1 + v2 + carry, 10)\n",
    "            current.next = ListNode(remainder)\n",
    "            current = current.next\n",
    "            \n",
    "            l1 = (l1.next if l1 else None)\n",
    "            l2 = (l2.next if l2 else None)\n",
    "            \n",
    "        return dummyHead.next\n",
    "```\n",
    "\n",
    "Time Submitted | Status | Runtime | Memory | Language\n",
    "---------- | ---------- | --------- | --------- | -----------\n",
    "08/10/2020 03:56 | Accepted | 56 ms | 12.7 MB | python\n",
    "\n",
    "- Runtime: 56 ms, faster than 91.80% of Python online submissions for Add Two Numbers.\n",
    "- Memory Usage: 12.7 MB, less than 56.27% of Python online submissions for Add Two Numbers."
   ]
  },
  {
   "cell_type": "markdown",
   "metadata": {},
   "source": [
    "## Solution (java)\n",
    "\n",
    "``` java\n",
    "public ListNode addTwoNumbers(ListNode l1, ListNode l2) {\n",
    "    ListNode dummyHead = new ListNode(0);\n",
    "    ListNode p = l1, q = l2, curr = dummyHead;\n",
    "    int carry = 0;\n",
    "    while (p != null || q != null) {\n",
    "        int x = (p != null) ? p.val : 0;\n",
    "        int y = (q != null) ? q.val : 0;\n",
    "        int sum = carry + x + y;\n",
    "        carry = sum / 10;\n",
    "        curr.next = new ListNode(sum % 10);\n",
    "        curr = curr.next;\n",
    "        if (p != null) p = p.next;\n",
    "        if (q != null) q = q.next;\n",
    "    }\n",
    "    if (carry > 0) {\n",
    "        curr.next = new ListNode(carry);\n",
    "    }\n",
    "    return dummyHead.next;\n",
    "}\n",
    "```"
   ]
  },
  {
   "cell_type": "markdown",
   "metadata": {},
   "source": [
    "## Remark:\n",
    "- `divmod(x,y) = (x // y, x % y)` when _x_ and _y_ are integers.\n",
    "`divmod(x,y) = (q, x % y)` when _x_ and _y_ are floats.\n",
    "\n",
    "- Class objects support two kinds of operations: **_attribute references_** and **_instantiation_**.\n",
    "\n",
    "  - Attribute references use the standard syntax used for all attribute references in Python: obj.name. Valid attribute names are all the names that were in the class’s namespace when the class object was created. \n",
    "\n",
    "  - Class instantiation uses function notation. Just pretend that the class object is a parameterless function that returns a new instance of the class. For example (assuming the above class):"
   ]
  },
  {
   "cell_type": "code",
   "execution_count": 8,
   "metadata": {
    "collapsed": true
   },
   "outputs": [],
   "source": [
    "class MyClass:\n",
    "    \"\"\"A simple example class\"\"\"  # __doc__ attribute\n",
    "    num = 12345    # data attribute, need NOT to be declared. \n",
    "    \n",
    "    def __init__(self, real, imag):    # an instance takes parameters  \n",
    "        self.r = real                  # by __init__ method.\n",
    "        self.i = imag                  \n",
    "\n",
    "    def f(self):    # method\n",
    "        return 'hello world'\n",
    "\n",
    "x = MyClass(2,3)\n",
    "y = MyClass(5,6)"
   ]
  },
  {
   "cell_type": "markdown",
   "metadata": {},
   "source": [
    "creates new _instances_ of the class `MyClass` and assigns these object to the local variables `x` and `y`."
   ]
  },
  {
   "cell_type": "code",
   "execution_count": 11,
   "metadata": {},
   "outputs": [
    {
     "name": "stdout",
     "output_type": "stream",
     "text": [
      "12345\n",
      "12345\n",
      "2 3\n",
      "5 6\n"
     ]
    }
   ],
   "source": [
    "print(x.num)     # It's a class variable for attibutes and methods,\n",
    "print(y.num)     # shared by all instances of this class.\n",
    "\n",
    "print(x.r, x.i)  # Instance variable. Unique for each instance.\n",
    "print(y.r, y.i)"
   ]
  }
 ],
 "metadata": {
  "kernelspec": {
   "display_name": "Python 3",
   "language": "python",
   "name": "python3"
  },
  "language_info": {
   "codemirror_mode": {
    "name": "ipython",
    "version": 3
   },
   "file_extension": ".py",
   "mimetype": "text/x-python",
   "name": "python",
   "nbconvert_exporter": "python",
   "pygments_lexer": "ipython3",
   "version": "3.6.3"
  }
 },
 "nbformat": 4,
 "nbformat_minor": 2
}
