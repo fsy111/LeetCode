{
 "cells": [
  {
   "cell_type": "markdown",
   "metadata": {},
   "source": [
    "# 152. Maximum Product Subarray\n",
    "## Description\n",
    "Given an integer array nums, find the contiguous subarray within an array (containing at least one number) which has the largest product.\n",
    "\n",
    "### Example 1:\n",
    "```\n",
    "Input: [2,3,-2,4]\n",
    "Output: 6\n",
    "```\n",
    "#### Explanation: \n",
    "`[2,3]` has the largest product 6.\n",
    "\n",
    "### Example 2:\n",
    "```\n",
    "Input: [-2,0,-1]\n",
    "Output: 0\n",
    "```\n",
    "#### Explanation: \n",
    "The result cannot be 2, because `[-2,-1]` is not a subarray."
   ]
  },
  {
   "cell_type": "code",
   "execution_count": null,
   "metadata": {},
   "outputs": [],
   "source": [
    "class Solution:\n",
    "    def maxProduct(self, nums: List[int]) -> int:\n",
    "        if not nums: return 0\n",
    "        maxp = nums[0]\n",
    "        minp = nums[0]\n",
    "        maxprod = nums[0]\n",
    "        for num in nums[1:]:\n",
    "            maxp = maxp * num\n",
    "            minp = minp * num\n",
    "            maxp, minp = max(num, maxp, minp), min(num, maxp, minp)\n",
    "            maxprod = max(maxp, maxprod)\n",
    "        return maxprod"
   ]
  }
 ],
 "metadata": {
  "kernelspec": {
   "display_name": "Python 3",
   "language": "python",
   "name": "python3"
  },
  "language_info": {
   "codemirror_mode": {
    "name": "ipython",
    "version": 3
   },
   "file_extension": ".py",
   "mimetype": "text/x-python",
   "name": "python",
   "nbconvert_exporter": "python",
   "pygments_lexer": "ipython3",
   "version": "3.6.3"
  }
 },
 "nbformat": 4,
 "nbformat_minor": 2
}
