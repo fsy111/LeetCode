{
 "cells": [
  {
   "cell_type": "markdown",
   "metadata": {},
   "source": [
    "53. Maximum Subarray\n",
    "Given an integer array nums, find the contiguous subarray (containing at least one number) which has the largest sum and return its sum.\n",
    "\n",
    "Follow up: If you have figured out the O(n) solution, try coding another solution using the divide and conquer approach, which is more subtle."
   ]
  },
  {
   "cell_type": "code",
   "execution_count": null,
   "metadata": {},
   "outputs": [],
   "source": [
    "### Kadane's algorithm\n",
    "class Solution:\n",
    "    def maxSubArray(self, nums: List[int]) -> int:\n",
    "        maxs, s = nums[0], 0\n",
    "        for num in nums:\n",
    "            s = max(s+num, num)\n",
    "            maxs = max(maxs, s)\n",
    "        return maxs"
   ]
  },
  {
   "cell_type": "markdown",
   "metadata": {},
   "source": [
    "`s` denotes the max sum ending at current element.\n",
    "If the previous `s` is positive, then the max sum ending at current element is just add current element to the previous `s`.\n",
    "Otherwise, `s` is non-positive, meaning the max sum subarray will restart at current element.\n",
    "- Time complexity: $O(n)$.\n",
    "- Space complexity: $O(1)$."
   ]
  },
  {
   "cell_type": "code",
   "execution_count": null,
   "metadata": {},
   "outputs": [],
   "source": [
    "### If empty subarray is allowd (in which case the sum is defined to be zero),\n",
    "### then the algorithm can be modified as follows:\n",
    "def maxSubArray(self, nums: List[int]) -> int:\n",
    "    maxs, s = 0, 0\n",
    "    for num in nums:\n",
    "        s = max(s+num, 0)\n",
    "        maxs = max(maxs, s)\n",
    "    return maxs"
   ]
  }
 ],
 "metadata": {
  "kernelspec": {
   "display_name": "Python 3",
   "language": "python",
   "name": "python3"
  },
  "language_info": {
   "codemirror_mode": {
    "name": "ipython",
    "version": 3
   },
   "file_extension": ".py",
   "mimetype": "text/x-python",
   "name": "python",
   "nbconvert_exporter": "python",
   "pygments_lexer": "ipython3",
   "version": "3.6.3"
  }
 },
 "nbformat": 4,
 "nbformat_minor": 2
}
