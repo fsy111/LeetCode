{
 "cells": [
  {
   "cell_type": "markdown",
   "metadata": {},
   "source": [
    "# 33. Search in Rotated Sorted Array\n",
    "## Description\n",
    "Given an integer array nums sorted in ascending order, and an integer target.\n",
    "\n",
    "Suppose that nums is rotated at some pivot unknown to you beforehand (i.e., `[0,1,2,4,5,6,7]` might become `[4,5,6,7,0,1,2]`).\n",
    "\n",
    "You should search for target in nums and if you found return its index, otherwise return -1.\n",
    "### Example 1:\n",
    "```\n",
    "Input: nums = [4,5,6,7,0,1,2], target = 0\n",
    "Output: 4\n",
    "```\n",
    "\n",
    "### Example 2:\n",
    "```\n",
    "Input: nums = [4,5,6,7,0,1,2], target = 3\n",
    "Output: -1\n",
    "```\n",
    "\n",
    "### Example 3:\n",
    "```\n",
    "Input: nums = [1], target = 0\n",
    "Output: -1\n",
    "``` \n",
    "\n",
    "### Constraints:\n",
    "- `1 <= nums.length <= 5000`\n",
    "- `-10^4 <= nums[i] <= 10^4`\n",
    "- All values of nums are unique.\n",
    "- nums is guranteed to be rotated at some pivot.\n",
    "- `-10^4 <= target <= 10^4`"
   ]
  },
  {
   "cell_type": "code",
   "execution_count": null,
   "metadata": {},
   "outputs": [],
   "source": [
    "class Solution:\n",
    "    def search(self, nums: List[int], target: int) -> int:\n",
    "        l, r = 0, len(nums)-1\n",
    "        while l<=r:\n",
    "            mid = (l+r)//2\n",
    "            num_mid = nums[mid]\n",
    "            if target == num_mid: return mid\n",
    "            if num_mid >= nums[l]:\n",
    "                if nums[l] <= target < num_mid:\n",
    "                    r = mid\n",
    "                else:\n",
    "                    l = mid + 1\n",
    "            else:\n",
    "                if num_mid < target <= nums[r]:\n",
    "                    l = mid + 1\n",
    "                else: \n",
    "                    r = mid-1\n",
    "                \n",
    "        return -1"
   ]
  },
  {
   "cell_type": "markdown",
   "metadata": {},
   "source": [
    "- Runtime: 40 ms, faster than 81.58% of Python3 online submissions for Search in Rotated Sorted Array.\n",
    "- Memory Usage: 14.1 MB, less than 55.33% of Python3 online submissions for Search in Rotated Sorted Array."
   ]
  },
  {
   "cell_type": "code",
   "execution_count": null,
   "metadata": {},
   "outputs": [],
   "source": [
    "class Solution:\n",
    "    def search(self, nums: List[int], target: int) -> int:\n",
    "        try:\n",
    "            return nums.index(target)\n",
    "        except ValueError:\n",
    "            return -1"
   ]
  }
 ],
 "metadata": {
  "kernelspec": {
   "display_name": "Python 3",
   "language": "python",
   "name": "python3"
  },
  "language_info": {
   "codemirror_mode": {
    "name": "ipython",
    "version": 3
   },
   "file_extension": ".py",
   "mimetype": "text/x-python",
   "name": "python",
   "nbconvert_exporter": "python",
   "pygments_lexer": "ipython3",
   "version": "3.6.3"
  }
 },
 "nbformat": 4,
 "nbformat_minor": 2
}
