{
 "cells": [
  {
   "cell_type": "markdown",
   "metadata": {},
   "source": [
    "# 138. Copy List with Random Pointer\n",
    "\n",
    "## Description\n",
    "A linked list is given such that each node contains an additional random pointer which could point to any node in the list or null.\n",
    "\n",
    "Return a [deep copy](https://en.wikipedia.org/wiki/Object_copying#Deep_copy) of the list.\n",
    "\n",
    "The Linked List is represented in the input/output as a list of $n$ nodes. Each node is represented as a pair of `[val, random_index]` where:\n",
    "\n",
    "- `val`: an integer representing `Node.val`\n",
    "- `random_index`: the index of the node (range from `0` to `n-1`) where random pointer points to, or `None` if it does not point to any node.\n",
    "\n",
    "\n",
    "### Example 1:\n",
    "```\n",
    "Input: head = [[7,null],[13,0],[11,4],[10,2],[1,0]]\n",
    "Output: [[7,null],[13,0],[11,4],[10,2],[1,0]]\n",
    "```\n",
    "\n",
    "\n",
    "### Example 2:\n",
    "```\n",
    "Input: head = [[1,1],[2,1]]\n",
    "Output: [[1,1],[2,1]]\n",
    "```\n",
    "\n",
    "\n",
    "### Example 3:\n",
    "```\n",
    "Input: head = [[3,null],[3,0],[3,null]]\n",
    "Output: [[3,null],[3,0],[3,null]]\n",
    "```\n",
    "\n",
    "\n",
    "### Example 4:\n",
    "```\n",
    "Input: head = []\n",
    "Output: []\n",
    "```\n",
    "**Explanation**: Given linked list is empty (`None` pointer), so return `None`.\n",
    "\n",
    "\n",
    "### Constraints:\n",
    "- `-10000 <= Node.val <= 10000`\n",
    "- `Node.random` is `None` or pointing to a node in the linked list.\n",
    "- Number of Nodes will not exceed 1000.\n"
   ]
  },
  {
   "cell_type": "code",
   "execution_count": null,
   "metadata": {},
   "outputs": [],
   "source": []
  },
  {
   "cell_type": "markdown",
   "metadata": {},
   "source": [
    "## Remark\n",
    "- copy and deepcopy:\n",
    "The difference between shallow and deep copying is only relevant for compound objects (objects that contain other objects, like lists or class instances):\n",
    "\n",
    "  - A shallow copy constructs a new compound object and then (to the extent possible) inserts references into it to the objects found in the original.\n",
    "\n",
    "  - A deep copy constructs a new compound object and then, recursively, inserts copies into it of the objects found in the original.\n",
    "  \n",
    "  * shallow copy of a dictionary: dict.copy()\n",
    "  * shallow copy of a list: new_list = original_list[:]\n",
    "  * deep copy: copy.deepcopy()\n",
    "  \n",
    "When the copy object is immutable (value, string , tuple), then assignment, shallow copy and deep copy are exactly the same.\n",
    "\n",
    "When the copy object is mutable (list, dictionary), then assignment is only to create another reference to the original object, while shallow copy and deep copy both generate new objects.\n",
    "\n",
    "When the mutable object is a compound object, then \n",
    "  - changing the object that is not compound one in the original object, or adding new objects to, or deleting existing objects from the orginal object, will NOT affect the shallow copy or deep copy.\n",
    "  - changeing the object that is a compound object in the original object, however, has different effect on shallow copy and deep copy. \n",
    "    * Since shallow copy is copy the reference of the compound object, changing either shallow copy or original object will affect both. \n",
    "    * On the contrary, deep copy and original object are totally independent, so change either one will NOT affect the other.\n",
    "\n",
    "**Example**:"
   ]
  },
  {
   "cell_type": "code",
   "execution_count": 115,
   "metadata": {},
   "outputs": [
    {
     "name": "stdout",
     "output_type": "stream",
     "text": [
      "Immutable object, equivalent\n",
      "id(a)= 4369074224   id(b)= 4369074224  \n",
      "id(c)= 4369074224   id(d)= 4369074224  \n"
     ]
    }
   ],
   "source": [
    "import copy\n",
    "a = 1\n",
    "b = a\n",
    "c = copy.copy(a)\n",
    "d = copy.deepcopy(a)\n",
    "print('Immutable object, equivalent')\n",
    "print('id(a)=',id(a),' ','id(b)=',id(b),' ')\n",
    "print('id(c)=',id(c),' ','id(d)=',id(d),' ')"
   ]
  },
  {
   "cell_type": "code",
   "execution_count": 116,
   "metadata": {},
   "outputs": [
    {
     "name": "stdout",
     "output_type": "stream",
     "text": [
      "mutable object, copy (shallow or deep) creates new object\n",
      "id(a)= 140462683903752   id(b)= 140462683903752  \n",
      "id(c)= 140462683883720   id(d)= 140462683902344  \n"
     ]
    }
   ],
   "source": [
    "a = [10, 20, 30, ['old', 'new']]\n",
    "b = a\n",
    "c = a[:]\n",
    "d = copy.deepcopy(a)\n",
    "print('mutable object, copy (shallow or deep) creates new objects')\n",
    "print('id(a)=',id(a),' ','id(b)=',id(b),' ')\n",
    "print('id(c)=',id(c),' ','id(d)=',id(d),' ')"
   ]
  },
  {
   "cell_type": "code",
   "execution_count": 119,
   "metadata": {},
   "outputs": [
    {
     "name": "stdout",
     "output_type": "stream",
     "text": [
      "copy (shallow or deep) and the original object are independent of changing immutable entries\n",
      "['new', 20, 30, ['old', 'new'], 'add']\n",
      "['new', 20, 30, ['old', 'new'], 'add']\n",
      "[10, 30, ['old', 'new']]\n",
      "[10, 20, ['old', 'new']]\n"
     ]
    }
   ],
   "source": [
    "a = [10, 20, 30, ['old', 'new']]\n",
    "b = a\n",
    "c = a[:]\n",
    "d = copy.deepcopy(a)\n",
    "\n",
    "a[0] = 'new'\n",
    "b.append('add')\n",
    "c.pop(1)\n",
    "d.remove(30)\n",
    "print('copy (shallow or deep) and the original object are independent of changing immutable entries')\n",
    "print(a)\n",
    "print(b)\n",
    "print(c)\n",
    "print(d)"
   ]
  },
  {
   "cell_type": "code",
   "execution_count": 120,
   "metadata": {},
   "outputs": [
    {
     "name": "stdout",
     "output_type": "stream",
     "text": [
      "Changing mutable entries in orginal object will affect shallow copy, but not deep copy\n",
      "[10, 20, 30, ['changed', 'new', 'add more']]\n",
      "[10, 20, 30, ['changed', 'new', 'add more']]\n",
      "[10, 20, 30, ['changed', 'new', 'add more']]\n",
      "[10, 20, 30, ['old', 'new']]\n",
      "Changing mutable entries in shallow copy will affect original object, but deep copy will not.\n",
      "[10, 20, 30, ['changed', 'new']]\n",
      "[10, 20, 30, ['changed', 'new']]\n",
      "[10, 20, 30, ['changed', 'new']]\n",
      "[10, 20, 30, ['old']]\n"
     ]
    }
   ],
   "source": [
    "a = [10, 20, 30, ['old', 'new']]\n",
    "b = a\n",
    "c = a[:]\n",
    "d = copy.deepcopy(a)\n",
    "\n",
    "a[3].append('add more')\n",
    "b[3][0] = 'changed'\n",
    "print('Changing mutable entries in orginal object will affect shallow copy, but not deep copy')\n",
    "print(a)\n",
    "print(b)\n",
    "print(c)\n",
    "print(d)\n",
    "\n",
    "c[3].pop(2)\n",
    "d[3].remove('new')\n",
    "print('Changing mutable entries in shallow copy will affect original object, but deep copy will not.')\n",
    "print(a)\n",
    "print(b)\n",
    "print(c)\n",
    "print(d)\n"
   ]
  }
 ],
 "metadata": {
  "kernelspec": {
   "display_name": "Python 3",
   "language": "python",
   "name": "python3"
  },
  "language_info": {
   "codemirror_mode": {
    "name": "ipython",
    "version": 3
   },
   "file_extension": ".py",
   "mimetype": "text/x-python",
   "name": "python",
   "nbconvert_exporter": "python",
   "pygments_lexer": "ipython3",
   "version": "3.6.3"
  }
 },
 "nbformat": 4,
 "nbformat_minor": 2
}
