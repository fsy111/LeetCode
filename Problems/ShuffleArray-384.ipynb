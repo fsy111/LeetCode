{
 "cells": [
  {
   "cell_type": "markdown",
   "metadata": {},
   "source": [
    "# 384. Shuffle an Array\n",
    "## Description\n",
    "Shuffle a set of numbers without duplicates.\n",
    "\n",
    "### Example:\n",
    "``` python\n",
    "# Initialize an array with set 1, 2, and 3.\n",
    "nums = [1,2,3];\n",
    "sol = Solution(nums);\n",
    "\n",
    "# Shuffle the array [1,2,3] and return its result. Any permutation of [1,2,3] must equally likely to be returned.\n",
    "sol.shuffle();\n",
    "\n",
    "# Resets the array back to its original configuration [1,2,3].\n",
    "sol.reset();\n",
    "\n",
    "# Returns the random shuffling of array [1,2,3].\n",
    "sol.shuffle();\n",
    "```"
   ]
  },
  {
   "cell_type": "code",
   "execution_count": null,
   "metadata": {},
   "outputs": [],
   "source": [
    "class Solution:\n",
    "\n",
    "    def __init__(self, nums: List[int]):\n",
    "        self.array = nums\n",
    "        self.original = nums[:]\n",
    "\n",
    "    def reset(self) -> List[int]:\n",
    "        \"\"\"\n",
    "        Resets the array to its original configuration and return it.\n",
    "        \"\"\"\n",
    "        self.array = self.original[:]\n",
    "        return self.array\n",
    "        \n",
    "        \n",
    "\n",
    "    def shuffle(self) -> List[int]:\n",
    "        \"\"\"\n",
    "        Returns a random shuffling of the array.\n",
    "        \"\"\"\n",
    "        n = len(self.array)\n",
    "        for i in range(n-1):\n",
    "            ind = random.randrange(i, n)\n",
    "            self.array[i], self.array[ind] = self.array[ind], self.array[i]\n",
    "        return self.array\n",
    "\n",
    "\n",
    "# Your Solution object will be instantiated and called as such:\n",
    "# obj = Solution(nums)\n",
    "# param_1 = obj.reset()\n",
    "# param_2 = obj.shuffle()"
   ]
  },
  {
   "cell_type": "markdown",
   "metadata": {},
   "source": [
    "## Submission result\n",
    "Time Submitted | Status | Runtime | Memory | Language\n",
    "---------- | ---------- | --------- | --------- | -----------\n",
    "08/22/2020 17:00 | Accepted | 324 ms | 19.1 MB | python3\n",
    "\n",
    "- Runtime: 324 ms, faster than 77.03% of Python3 online submissions for Shuffle an Array.\n",
    "- Memory Usage: 19.1 MB, less than 37.28% of Python3 online submissions for Shuffle an Array."
   ]
  }
 ],
 "metadata": {
  "kernelspec": {
   "display_name": "Python 3",
   "language": "python",
   "name": "python3"
  },
  "language_info": {
   "codemirror_mode": {
    "name": "ipython",
    "version": 3
   },
   "file_extension": ".py",
   "mimetype": "text/x-python",
   "name": "python",
   "nbconvert_exporter": "python",
   "pygments_lexer": "ipython3",
   "version": "3.6.3"
  }
 },
 "nbformat": 4,
 "nbformat_minor": 2
}
