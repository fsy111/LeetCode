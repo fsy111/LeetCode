{
 "cells": [
  {
   "cell_type": "markdown",
   "metadata": {},
   "source": [
    "# 14. Longest Common Prefix\n",
    "## Description\n",
    "Write a function to find the longest common prefix string amongst an array of strings.\n",
    "\n",
    "If there is no common prefix, return an empty string `\"\"`.\n",
    "\n",
    "### Example 1:\n",
    "```\n",
    "Input: [\"flower\",\"flow\",\"flight\"]\n",
    "Output: \"fl\"\n",
    "```\n",
    "\n",
    "### Example 2:\n",
    "```\n",
    "Input: [\"dog\",\"racecar\",\"car\"]\n",
    "Output: \"\"\n",
    "```\n",
    "#### Explanation: \n",
    "There is no common prefix among the input strings.\n",
    "\n",
    "### Note:\n",
    "All given inputs are in lowercase letters a-z."
   ]
  },
  {
   "cell_type": "code",
   "execution_count": null,
   "metadata": {},
   "outputs": [],
   "source": [
    "class Solution:\n",
    "    def longestCommonPrefix(self, strs: List[str]) -> str:\n",
    "        n = len(strs)\n",
    "        if not n: return ''\n",
    "        length = len(strs[0])\n",
    "        common = ''\n",
    "        k = 0\n",
    "        for k in range(length):\n",
    "            curr = strs[0][k]\n",
    "            for i in range(1, n):\n",
    "                if k >= len(strs[i]) or strs[i][k] != curr:\n",
    "                    return common\n",
    "            common += curr\n",
    "        return common"
   ]
  },
  {
   "cell_type": "markdown",
   "metadata": {},
   "source": [
    "## Submission result\n",
    "Time Submitted | Status | Runtime | Memory | Language\n",
    "---------- | ---------- | --------- | --------- | -----------\n",
    "08/18/2020 04:16 | Accepted | 32 ms | 13.9 MB | python3\n",
    "\n",
    "- Runtime: 32 ms, faster than 84.70% of Python3 online submissions for Longest Common Prefix.\n",
    "- Memory Usage: 13.9 MB, less than 72.15% of Python3 online submissions for Longest Common Prefix."
   ]
  }
 ],
 "metadata": {
  "kernelspec": {
   "display_name": "Python 3",
   "language": "python",
   "name": "python3"
  },
  "language_info": {
   "codemirror_mode": {
    "name": "ipython",
    "version": 3
   },
   "file_extension": ".py",
   "mimetype": "text/x-python",
   "name": "python",
   "nbconvert_exporter": "python",
   "pygments_lexer": "ipython3",
   "version": "3.6.3"
  }
 },
 "nbformat": 4,
 "nbformat_minor": 2
}
