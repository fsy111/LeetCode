{
 "cells": [
  {
   "cell_type": "markdown",
   "metadata": {},
   "source": [
    "# 141. Linked List Cycle\n",
    "## Description\n",
    "Given a linked list, determine if it has a cycle in it.\n",
    "\n",
    "To represent a cycle in the given linked list, we use an integer pos which represents the position (0-indexed) in the linked list where tail connects to. If pos is -1, then there is no cycle in the linked list.\n",
    "\n",
    "### Example 1:\n",
    "``` python\n",
    "Input: head = [3,2,0,-4], pos = 1\n",
    "Output: True\n",
    "```\n",
    "#### Explanation: \n",
    "There is a cycle in the linked list, where tail connects to the second node.\n",
    "\n",
    "\n",
    "### Example 2:\n",
    "``` python\n",
    "Input: head = [1,2], pos = 0\n",
    "Output: True\n",
    "```\n",
    "#### Explanation: \n",
    "There is a cycle in the linked list, where tail connects to the first node.\n",
    "\n",
    "\n",
    "### Example 3:\n",
    "``` python\n",
    "Input: head = [1], pos = -1\n",
    "Output: False\n",
    "```\n",
    "#### Explanation: \n",
    "There is no cycle in the linked list.\n",
    "\n",
    "### Follow up:\n",
    "Can you solve it using $O(1)$ (i.e. constant) memory?"
   ]
  },
  {
   "cell_type": "code",
   "execution_count": null,
   "metadata": {},
   "outputs": [],
   "source": [
    "# Definition for singly-linked list.\n",
    "# class ListNode:\n",
    "#     def __init__(self, x):\n",
    "#         self.val = x\n",
    "#         self.next = None\n",
    "\n",
    "class Solution:\n",
    "    def hasCycle(self, head: ListNode) -> bool:\n",
    "        "
   ]
  }
 ],
 "metadata": {
  "kernelspec": {
   "display_name": "Python 3",
   "language": "python",
   "name": "python3"
  },
  "language_info": {
   "codemirror_mode": {
    "name": "ipython",
    "version": 3
   },
   "file_extension": ".py",
   "mimetype": "text/x-python",
   "name": "python",
   "nbconvert_exporter": "python",
   "pygments_lexer": "ipython3",
   "version": "3.6.3"
  }
 },
 "nbformat": 4,
 "nbformat_minor": 2
}
