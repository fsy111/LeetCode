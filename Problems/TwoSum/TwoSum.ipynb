{
 "cells": [
  {
   "cell_type": "markdown",
   "metadata": {},
   "source": [
    "# Two Sum\n",
    "\n",
    "## Description:\n",
    "Given an array of integers, \n",
    "return indices of the two numbers such that they add up to a specific target.\n",
    "\n",
    "You may assume that each input would have **_exactly_** one solution, \n",
    "and you may not use the same element twice.\n",
    "\n",
    "### Example:\n",
    "Given `nums = [2, 7, 11, 15]`, `target = 9`,\n",
    "\n",
    "Because `nums[0] + nums[1] = 2 + 7 = 9`,\n",
    "`return [0, 1]`.\n",
    "\n",
    "## Solution\n",
    "We use hash table to reduce the look up time from O(n) to O(1) by trading space for speed.\n",
    "\n",
    "## Complexity Analysis:\n",
    "\n",
    "Time complexity: O(n)\n",
    ".\n",
    "- We traverse the list containing n elements only once.\n",
    "Each look up in the table costs only O(1) time.\n",
    "\n",
    "- Space complexity : O(n).\n",
    "The extra space required depends on the number of items stored in the hash table,\n",
    "which stores at most n elements.\n",
    "\n",
    "## Remark:\n",
    "`Enumerate` is a built-in function of Python.\n",
    "Its usefulness can not be summarized in a single line.\n",
    "Yet most of the newcomers and even some advanced programmers are unaware of it.\n",
    "It allows us to loop over something and have an automatic counter.\n",
    "Here is an example:\n",
    "\n",
    "``` python\n",
    "my_list = ['apple', 'banana', 'grapes', 'pear']\n",
    "for c, value in enumerate(my_list, 1):\n",
    "    print(c, value)\n",
    "\n",
    "# Output:\n",
    "# 1 apple\n",
    "# 2 banana\n",
    "# 3 grapes\n",
    "# 4 pear\n",
    "```\n"
   ]
  },
  {
   "cell_type": "code",
   "execution_count": 2,
   "metadata": {},
   "outputs": [
    {
     "data": {
      "text/plain": [
       "[0, 1]"
      ]
     },
     "execution_count": 2,
     "metadata": {},
     "output_type": "execute_result"
    }
   ],
   "source": [
    "class Solution:\n",
    "    def twoSum(self, nums, target):\n",
    "        \"\"\"\n",
    "        :type nums: List[int]\n",
    "        :type target: int\n",
    "        :rtype: List[int]\n",
    "        \"\"\"\n",
    "        h = {}\n",
    "        for i, num in enumerate(nums):\n",
    "            n = target - num\n",
    "            if n not in h:\n",
    "                h[num] = i\n",
    "            else:\n",
    "                return [h[n], i]\n",
    "\n",
    "x = Solution()\n",
    "x.twoSum(nums=[2,7,11,5],target=9)\n"
   ]
  }
 ],
 "metadata": {
  "kernelspec": {
   "display_name": "Python 3",
   "language": "python",
   "name": "python3"
  },
  "language_info": {
   "codemirror_mode": {
    "name": "ipython",
    "version": 3
   },
   "file_extension": ".py",
   "mimetype": "text/x-python",
   "name": "python",
   "nbconvert_exporter": "python",
   "pygments_lexer": "ipython3",
   "version": "3.6.3"
  }
 },
 "nbformat": 4,
 "nbformat_minor": 2
}
