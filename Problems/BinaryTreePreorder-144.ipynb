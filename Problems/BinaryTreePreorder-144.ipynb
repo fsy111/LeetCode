{
 "cells": [
  {
   "cell_type": "markdown",
   "metadata": {},
   "source": [
    "# 144. Binary Tree Preorder Traversal"
   ]
  },
  {
   "cell_type": "code",
   "execution_count": null,
   "metadata": {},
   "outputs": [],
   "source": [
    "# Definition for a binary tree node.\n",
    "# class TreeNode:\n",
    "#     def __init__(self, val=0, left=None, right=None):\n",
    "#         self.val = val\n",
    "#         self.left = left\n",
    "#         self.right = right\n",
    "class Solution:\n",
    "    def preorderTraversal(self, root: TreeNode) -> List[int]:\n",
    "        \n",
    "        ### Recursive\n",
    "        def preorder_Recursion(root: TreeNode):\n",
    "            if not root: return []\n",
    "            return [root.val] + self.preorderTraversal(root.left) + self.preorderTraversal(root.right)\n",
    "\n",
    "        ### Iterative\n",
    "        def preorder_Iteration(root: TreeNode):\n",
    "            if not root: return []\n",
    "            ans = []\n",
    "            stack = [root]\n",
    "            while stack:\n",
    "                current = stack.pop()\n",
    "                ans.append(current.val)\n",
    "                if current.right:\n",
    "                    stack.append(current.right) \n",
    "                if current.left:\n",
    "                    stack.append(current.left)\n",
    "            return ans\n",
    "        \n",
    "        ### Morris traverse\n",
    "        def preorder_Morris(root: TreeNode):\n",
    "            ans = []\n",
    "            current = root\n",
    "            while current:\n",
    "                ans.append(current.val)\n",
    "                if not current.left:\n",
    "                    current = current.right\n",
    "                else:\n",
    "                    RightMost(current.left).right = current.right\n",
    "                    current.right, current = None, current.left\n",
    "            return ans\n",
    "        \n",
    "        def RightMost(node:TreeNode) -> TreeNode:\n",
    "            while node.right:\n",
    "                node = node.right\n",
    "            return node\n",
    "        \n",
    "        return preorder_Morris(root)\n"
   ]
  },
  {
   "cell_type": "markdown",
   "metadata": {},
   "source": [
    "Morris traverse:\n",
    "If left subtree is non-empty, then connect the right subtree to the rightmost node in the left subtree.\n",
    "\n",
    "- Runtime: 24 ms, faster than 94.28% of Python3 online submissions for Binary Tree Preorder Traversal.\n",
    "- Memory Usage: 13.6 MB, less than 94.27% of Python3 online submissions for Binary Tree Preorder Traversal."
   ]
  }
 ],
 "metadata": {
  "kernelspec": {
   "display_name": "Python 3",
   "language": "python",
   "name": "python3"
  },
  "language_info": {
   "codemirror_mode": {
    "name": "ipython",
    "version": 3
   },
   "file_extension": ".py",
   "mimetype": "text/x-python",
   "name": "python",
   "nbconvert_exporter": "python",
   "pygments_lexer": "ipython3",
   "version": "3.6.3"
  }
 },
 "nbformat": 4,
 "nbformat_minor": 2
}
