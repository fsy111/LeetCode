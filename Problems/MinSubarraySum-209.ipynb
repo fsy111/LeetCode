{
 "cells": [
  {
   "cell_type": "markdown",
   "metadata": {},
   "source": [
    "# 209. Minimum Size Subarray Sum\n",
    "## Description\n",
    "Given an array of $n$ positive integers and a positive integer $s$, find the minimal length of a contiguous subarray of which the `sum ≥ s`. If there isn't one, return 0 instead.\n",
    "\n",
    "### Example: \n",
    "```\n",
    "Input: s = 7, nums = [2,3,1,2,4,3]\n",
    "Output: 2\n",
    "```\n",
    "#### Explanation: the subarray `[4,3]` has the minimal length under the problem constraint.\n",
    "\n",
    "### Follow up:\n",
    "If you have figured out the $O(n)$ solution, try coding another solution of which the time complexity is $O(n \\log n)$. "
   ]
  },
  {
   "cell_type": "code",
   "execution_count": null,
   "metadata": {},
   "outputs": [],
   "source": [
    "class Solution:\n",
    "    def minSubArrayLen(self, s: int, nums: List[int]) -> int:\n",
    "        "
   ]
  }
 ],
 "metadata": {
  "kernelspec": {
   "display_name": "Python 3",
   "language": "python",
   "name": "python3"
  },
  "language_info": {
   "codemirror_mode": {
    "name": "ipython",
    "version": 3
   },
   "file_extension": ".py",
   "mimetype": "text/x-python",
   "name": "python",
   "nbconvert_exporter": "python",
   "pygments_lexer": "ipython3",
   "version": "3.6.3"
  }
 },
 "nbformat": 4,
 "nbformat_minor": 2
}
