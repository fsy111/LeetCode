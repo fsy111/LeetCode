{
 "cells": [
  {
   "cell_type": "markdown",
   "metadata": {},
   "source": [
    "# 224. Basic Calculator\n",
    "## Description\n",
    "Implement a basic calculator to evaluate a simple expression string.\n",
    "\n",
    "The expression string may contain open `(` and closing parentheses `)`, the plus `+` or minus sign `-`, **non-negative** integers and empty spaces.\n",
    "\n",
    "### Example 1:\n",
    "```\n",
    "Input: \"1 + 1\"\n",
    "Output: 2\n",
    "```\n",
    "\n",
    "### Example 2:\n",
    "```\n",
    "Input: \" 2-1 + 2 \"\n",
    "Output: 3\n",
    "```\n",
    "\n",
    "### Example 3:\n",
    "```\n",
    "Input: \"(1+(4+5+2)-3)+(6+8)\"\n",
    "Output: 23\n",
    "```\n",
    "\n",
    "### Note:\n",
    "- You may assume that the given expression is always valid.\n",
    "- Do not use the `eval` built-in library function."
   ]
  },
  {
   "cell_type": "markdown",
   "metadata": {},
   "source": [
    "## Stack, forward"
   ]
  },
  {
   "cell_type": "code",
   "execution_count": null,
   "metadata": {},
   "outputs": [],
   "source": [
    "class Solution:\n",
    "## Using Stack\n",
    "    def calculateStack(self, s: str) -> int:\n",
    "        formula = []\n",
    "        sign = []\n",
    "        num = 0\n",
    "        isPos = 1\n",
    "        for ch in s:\n",
    "            if ch == ' ': continue\n",
    "            if '0' <= ch <= '9':\n",
    "                num = num * 10 + int(ch)\n",
    "                continue\n",
    "            if num != 0:\n",
    "                formula.append( isPos * num )\n",
    "            num = 0\n",
    "            if ch == ')':\n",
    "                while formula[-1] != '(':\n",
    "                    num += formula.pop()\n",
    "                formula.pop()\n",
    "                isPos = sign.pop()\n",
    "                continue\n",
    "            if ch == '(':\n",
    "                sign.append(isPos)\n",
    "                formula.append('(')\n",
    "            if ch == '-':\n",
    "                isPos = -1\n",
    "            else: isPos = 1\n",
    "\n",
    "        formula.append( isPos*num )\n",
    "        return sum(formula)\n",
    "##  96 ms, 75.53%\n",
    "##  15.1 MB, 98.32%"
   ]
  },
  {
   "cell_type": "markdown",
   "metadata": {},
   "source": [
    "## Submission result\n",
    "Time Submitted | Status | Runtime | Memory | Language\n",
    "---------- | ---------- | --------- | --------- | -----------\n",
    "08/27/2020 02:24 | Accepted | 96 ms | 15.1 MB | python3\n",
    "- Runtime: 96 ms, faster than 75.53% of Python3 online submissions for Basic Calculator.\n",
    "- Memory Usage: 15.1 MB, less than 98.32% of Python3 online submissions for Basic Calculator."
   ]
  },
  {
   "cell_type": "markdown",
   "metadata": {},
   "source": [
    "## Stack, backward"
   ]
  },
  {
   "cell_type": "code",
   "execution_count": null,
   "metadata": {},
   "outputs": [],
   "source": [
    "class Solution:\n",
    "## Using Stack, reverse order\n",
    "    def calculateStackReverse(self, s: str) -> int:\n",
    "        \n",
    "        def evaluate(stack) -> int:\n",
    "            ans = stack.pop() if stack else 0\n",
    "            while stack and stack[-1] != ')':\n",
    "                sign = stack.pop()\n",
    "                if sign == '-':\n",
    "                    ans -= stack.pop()\n",
    "                else:\n",
    "                    ans += stack.pop()\n",
    "            return ans\n",
    "                     \n",
    "        formula = []\n",
    "        num, digit = 0, 1\n",
    "        for ch in s[::-1]:\n",
    "            if ch == ' ': continue\n",
    "            if '0' <= ch <= '9':\n",
    "                num += int(ch) * digit\n",
    "                digit *= 10\n",
    "                continue\n",
    "            if digit != 1:\n",
    "                formula.append( num )\n",
    "            num, digit = 0, 1\n",
    "            if ch == '(':\n",
    "                num = evaluate(formula)\n",
    "                formula.pop()\n",
    "                formula.append(num)\n",
    "                num = 0\n",
    "            else:\n",
    "                formula.append(ch)\n",
    "\n",
    "        if digit != 1: formula.append( num )\n",
    "        return evaluate(formula)\n",
    "##  108 ms, 68.84%\n",
    "##  15.3 MB, 78.77%"
   ]
  },
  {
   "cell_type": "markdown",
   "metadata": {},
   "source": [
    "## Submission result\n",
    "Time Submitted | Status | Runtime | Memory | Language\n",
    "---------- | ---------- | --------- | --------- | -----------\n",
    "08/27/2020 03:31 | Accepted | 108 ms | 15.3 MB | python3\n",
    "- Runtime: 108 ms, faster than 68.84% of Python3 online submissions for Basic Calculatore.\n",
    "- Memory Usage: 15.3 MB, less than 78.77% of Python3 online submissions for Basic Calculator."
   ]
  }
 ],
 "metadata": {
  "kernelspec": {
   "display_name": "Python 3",
   "language": "python",
   "name": "python3"
  },
  "language_info": {
   "codemirror_mode": {
    "name": "ipython",
    "version": 3
   },
   "file_extension": ".py",
   "mimetype": "text/x-python",
   "name": "python",
   "nbconvert_exporter": "python",
   "pygments_lexer": "ipython3",
   "version": "3.6.3"
  }
 },
 "nbformat": 4,
 "nbformat_minor": 2
}
