{
 "cells": [
  {
   "cell_type": "markdown",
   "metadata": {},
   "source": [
    "# 763. Partition Labels\n",
    "## Description\n",
    "A string S of lowercase English letters is given. We want to partition this string into as many parts as possible so that each letter appears in at most one part, and return a list of integers representing the size of these parts.\n",
    "\n",
    "### Example:\n",
    "```\n",
    "Input: S = \"ababcbacadefegdehijhklij\"\n",
    "Output: [9,7,8]\n",
    "```\n",
    "#### Explanation:\n",
    "The partition is `\"ababcbaca\"`, `\"defegde\"`, `\"hijhklij\"`.\n",
    "This is a partition so that each letter appears in at most one part.\n",
    "A partition like `\"ababcbacadefegde\"`, `\"hijhklij\" `is incorrect, because it splits `S` into less parts.\n",
    "\n",
    "### Note:\n",
    "- `S` will have length in range `[1, 500]`.\n",
    "- `S` will consist of lowercase English letters ('a' to 'z') only."
   ]
  },
  {
   "cell_type": "code",
   "execution_count": null,
   "metadata": {},
   "outputs": [],
   "source": [
    "class Solution:\n",
    "    def partitionLabels(self, S: str) -> List[int]:\n",
    "        last = {ch: i for i, ch in enumerate(S)}\n",
    "        split = []\n",
    "        start = 0\n",
    "        for i, ch in enumerate(S):\n",
    "            j = max(j, last[ch])\n",
    "            if j==i:\n",
    "                split.append(j - start + 1)\n",
    "                start = i+1\n",
    "        return split"
   ]
  },
  {
   "cell_type": "markdown",
   "metadata": {},
   "source": [
    "## Submission result\n",
    "Time Submitted | Status | Runtime | Memory | Language\n",
    "---------- | ---------- | --------- | --------- | -----------\n",
    "08/18/2020 17:13 | Accepted | 40 ms | 13.9 MB | python3\n",
    "\n",
    "- Runtime: 40 ms, faster than 78.58% of Python3 online submissions for Partition Labels.\n",
    "- Memory Usage: 13.9 MB, less than 36.36% of Python3 online submissions for Partition Labels."
   ]
  }
 ],
 "metadata": {
  "kernelspec": {
   "display_name": "Python 3",
   "language": "python",
   "name": "python3"
  },
  "language_info": {
   "codemirror_mode": {
    "name": "ipython",
    "version": 3
   },
   "file_extension": ".py",
   "mimetype": "text/x-python",
   "name": "python",
   "nbconvert_exporter": "python",
   "pygments_lexer": "ipython3",
   "version": "3.6.3"
  }
 },
 "nbformat": 4,
 "nbformat_minor": 2
}
