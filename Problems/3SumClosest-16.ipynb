{
 "cells": [
  {
   "cell_type": "markdown",
   "metadata": {},
   "source": [
    "# 16. 3Sum Closest\n",
    "## Description\n",
    "Given an array nums of n integers and an integer target, find three integers in nums such that the sum is closest to target. Return the sum of the three integers. You may assume that each input would have exactly one solution.\n",
    "\n",
    "\n",
    "### Example 1:\n",
    "```\n",
    "Input: nums = [-1,2,1,-4], target = 1\n",
    "Output: 2\n",
    "Explanation: The sum that is closest to the target is 2. (-1 + 2 + 1 = 2).\n",
    "```\n",
    "\n",
    "### Constraints:\n",
    "- 3 `<= nums.length <=` 10^3\n",
    "- -10^3 `<= nums[i] <=` 10^3\n",
    "- -10^4 `<= target <=` 10^4"
   ]
  },
  {
   "cell_type": "code",
   "execution_count": null,
   "metadata": {},
   "outputs": [],
   "source": [
    "class Solution:\n",
    "    def threeSumClosest(self, nums: List[int], target: int) -> int:\n",
    "        nums.sort()\n",
    "        length = len(nums)\n",
    "        for i in range(length - 2):\n",
    "            a = nums[i]\n",
    "            l, r = i + 1, length - 1\n",
    "            while l < r:\n",
    "                s = nums[l] + nums[r] + a\n",
    "                if s == target: return target\n",
    "                if abs(s - target) < abs(closest - target):\n",
    "                    closest = s\n",
    "                if s < target: l += 1\n",
    "                else: r -= 1\n",
    "                              \n",
    "        return closest"
   ]
  },
  {
   "cell_type": "markdown",
   "metadata": {},
   "source": [
    "## Submission result\n",
    "Time Submitted | Status | Runtime | Memory | Language\n",
    "---------- | ---------- | --------- | --------- | -----------\n",
    "08/14/2020 19:33 | Accepted | 156 ms | 13.8 MB | python3\n",
    "\n",
    "- Runtime: 156 ms, faster than 56.72% of Python3 online submissions for 3Sum Closest.\n",
    "- Memory Usage: 13.8 MB, less than 75.94% of Python3 online submissions for 3Sum Closest."
   ]
  }
 ],
 "metadata": {
  "kernelspec": {
   "display_name": "Python 3",
   "language": "python",
   "name": "python3"
  },
  "language_info": {
   "codemirror_mode": {
    "name": "ipython",
    "version": 3
   },
   "file_extension": ".py",
   "mimetype": "text/x-python",
   "name": "python",
   "nbconvert_exporter": "python",
   "pygments_lexer": "ipython3",
   "version": "3.6.3"
  }
 },
 "nbformat": 4,
 "nbformat_minor": 2
}
