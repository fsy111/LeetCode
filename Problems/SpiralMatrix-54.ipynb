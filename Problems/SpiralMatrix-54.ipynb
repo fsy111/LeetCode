{
 "cells": [
  {
   "cell_type": "markdown",
   "metadata": {},
   "source": [
    "# 54. Spiral Matrix\n",
    "## Description\n",
    "Given a matrix of m x n elements (m rows, n columns), return all elements of the matrix in spiral order.\n",
    "\n",
    "### Example 1:\n",
    "```\n",
    "Input:\n",
    "[\n",
    " [ 1, 2, 3 ],\n",
    " [ 4, 5, 6 ],\n",
    " [ 7, 8, 9 ]\n",
    "]\n",
    "Output: [1,2,3,6,9,8,7,4,5]\n",
    "```\n",
    "\n",
    "### Example 2:\n",
    "```\n",
    "Input:\n",
    "[\n",
    "  [1, 2, 3, 4],\n",
    "  [5, 6, 7, 8],\n",
    "  [9,10,11,12]\n",
    "]\n",
    "Output: [1,2,3,4,8,12,11,10,9,5,6,7]\n",
    "```"
   ]
  },
  {
   "cell_type": "code",
   "execution_count": null,
   "metadata": {},
   "outputs": [],
   "source": [
    "class Solution:\n",
    "    def spiralOrder(self, matrix):\n",
    "        \n",
    "        def around(left, right, up, down, spiral):\n",
    "            if left >= right or up >= down: return\n",
    "            for i in range(left, right-1):\n",
    "                spiral.append(matrix[up][i])\n",
    "            for i in range(up, down-1):\n",
    "                spiral.append(matrix[i][right-1])\n",
    "            if down-1 > up:\n",
    "                for i in range(right-1, left, -1):\n",
    "                    spiral.append(matrix[down-1][i])\n",
    "            else:\n",
    "                spiral.append(matrix[down-1][right-1])\n",
    "                return\n",
    "            if right-1 > left:\n",
    "                for i in range(down-1, up, -1):\n",
    "                    spiral.append(matrix[i][left])\n",
    "            else:\n",
    "                spiral.append(matrix[down-1][left])\n",
    "                return\n",
    "            \n",
    "            around(left+1, right-1, up+1, down-1, spiral)\n",
    "            \n",
    "        \n",
    "        spiral = []\n",
    "        if matrix:\n",
    "            around(0, len(matrix[0]), 0, len(matrix), spiral)\n",
    "        return spiral\n"
   ]
  },
  {
   "cell_type": "markdown",
   "metadata": {},
   "source": [
    "## Submission result\n",
    "Time Submitted | Status | Runtime | Memory | Language\n",
    "---------- | ---------- | --------- | --------- | -----------\n",
    "08/22/2020 00:31 | Accepted | 28 ms | 13.7 MB | python3\n",
    "\n",
    "- Runtime: 28 ms, faster than 82.74% of Python3 online submissions for Spiral Matrix.\n",
    "- Memory Usage: 13.7 MB, less than 90.22% of Python3 online submissions for Spiral Matrix."
   ]
  },
  {
   "cell_type": "markdown",
   "metadata": {},
   "source": [
    "### Solution from LeetCode( use yield when iterate)"
   ]
  },
  {
   "cell_type": "code",
   "execution_count": null,
   "metadata": {},
   "outputs": [],
   "source": [
    "def spiral_coords(r1, c1, r2, c2):\n",
    "            for c in range(c1, c2 + 1):\n",
    "                yield r1, c\n",
    "            for r in range(r1 + 1, r2 + 1):\n",
    "                yield r, c2\n",
    "            if r1 < r2 and c1 < c2:\n",
    "                for c in range(c2 - 1, c1, -1):\n",
    "                    yield r2, c\n",
    "                for r in range(r2, r1, -1):\n",
    "                    yield r, c1\n",
    "\n",
    "        if not matrix: return []\n",
    "        ans = []\n",
    "        r1, r2 = 0, len(matrix) - 1\n",
    "        c1, c2 = 0, len(matrix[0]) - 1\n",
    "        while r1 <= r2 and c1 <= c2:\n",
    "            for r, c in spiral_coords(r1, c1, r2, c2):\n",
    "                ans.append(matrix[r][c])\n",
    "            r1 += 1; r2 -= 1\n",
    "            c1 += 1; c2 -= 1\n",
    "        return ans"
   ]
  }
 ],
 "metadata": {
  "kernelspec": {
   "display_name": "Python 3",
   "language": "python",
   "name": "python3"
  },
  "language_info": {
   "codemirror_mode": {
    "name": "ipython",
    "version": 3
   },
   "file_extension": ".py",
   "mimetype": "text/x-python",
   "name": "python",
   "nbconvert_exporter": "python",
   "pygments_lexer": "ipython3",
   "version": "3.6.3"
  }
 },
 "nbformat": 4,
 "nbformat_minor": 2
}
