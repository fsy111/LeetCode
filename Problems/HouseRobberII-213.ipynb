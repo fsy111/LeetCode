{
 "cells": [
  {
   "cell_type": "markdown",
   "metadata": {},
   "source": [
    "# 213. House Robber II\n",
    "## Description\n",
    "You are a professional robber planning to rob houses along a street. Each house has a certain amount of money stashed. All houses at this place are **arranged in a circle**. That means the first house is the neighbor of the last one. Meanwhile, adjacent houses have a security system connected, and **it will automatically contact the police if two adjacent houses were broken into on the same night**.\n",
    "\n",
    "Given a list of non-negative integers nums representing the amount of money of each house, return the maximum amount of money you can rob tonight **without alerting the police**."
   ]
  },
  {
   "cell_type": "code",
   "execution_count": null,
   "metadata": {},
   "outputs": [],
   "source": [
    "class Solution:\n",
    "    def rob(self, nums: List[int]) -> int:\n",
    "#         if not nums: \n",
    "#             return 0\n",
    "#         n = len(nums)\n",
    "#         if n <=3: \n",
    "#             return max(nums)\n",
    "        \n",
    "#         dp1 = [nums[0], nums[1], nums[0] + nums[2]]\n",
    "#         dp2 = [nums[-1], 0, nums[-1] + nums[1]]\n",
    "            \n",
    "#         for i in range(3, len(nums)-1):\n",
    "#             dp1.append(max(dp1[i-2], dp1[i-3]) + nums[i])\n",
    "#             dp2.append(max(dp2[i-2], dp2[i-3]) + nums[i-1])\n",
    "            \n",
    "#         return max(max(dp2), max(dp1))\n",
    "        \n",
    "\n",
    "###    METHOD 2\n",
    "        def rob_helper(nums):\n",
    "#         if not nums: \n",
    "#             return 0\n",
    "#         n = len(nums)\n",
    "        \n",
    "        \n",
    "#         if n == 1: \n",
    "#             return nums[0]\n",
    "#         dp = [nums[0], nums[1]]\n",
    "#         if n >= 3: \n",
    "#             dp.append(nums[0] + nums[2])\n",
    "            \n",
    "#         ### EQUIVALENTLY for the last paragraph\n",
    "#         ### if n <= 2: \n",
    "#         ###     return max(nums)\n",
    "#         ### dp = [nums[0], nums[1], nums[0]+nums[2]]\n",
    "            \n",
    "#         for i in range(3, len(nums)):\n",
    "#             dp.append(max(dp[i-2], dp[i-3]) + nums[i])\n",
    "#         return max(dp[-1], dp[-2])\n",
    "\n",
    "\n",
    "            dp1, dp2 = 0, 0\n",
    "            for num in nums:\n",
    "                dp1, dp2 = dp2, max(dp1 + num, dp2)\n",
    "            return dp2\n",
    "        \n",
    "        return max(nums[0] + rob_helper(nums[2:-1]), rob_helper(nums[1:]))"
   ]
  }
 ],
 "metadata": {
  "kernelspec": {
   "display_name": "Python 3",
   "language": "python",
   "name": "python3"
  },
  "language_info": {
   "codemirror_mode": {
    "name": "ipython",
    "version": 3
   },
   "file_extension": ".py",
   "mimetype": "text/x-python",
   "name": "python",
   "nbconvert_exporter": "python",
   "pygments_lexer": "ipython3",
   "version": "3.6.3"
  }
 },
 "nbformat": 4,
 "nbformat_minor": 2
}
