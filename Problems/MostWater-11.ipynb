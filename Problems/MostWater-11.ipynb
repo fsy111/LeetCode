{
 "cells": [
  {
   "cell_type": "markdown",
   "metadata": {},
   "source": [
    "# 11. Container With Most Water\n",
    "\n",
    "## Description\n",
    "Given $n$ non-negative integers $a_1, a_2, \\ldots, a_n$, where each represents a point at coordinate $(i, a_i)$. $n$ vertical lines are drawn such that the two endpoints of line $i$ is at $(i, a_i)$ and $(i, 0)$. Find two lines, which together with x-axis forms a container, such that the container contains the most water.\n",
    "\n",
    "Note: You may not slant the container and $n$ is at least 2.\n",
    "\n",
    "## Tags: Double pointer"
   ]
  },
  {
   "cell_type": "code",
   "execution_count": null,
   "metadata": {},
   "outputs": [],
   "source": [
    "class Solution:\n",
    "    def maxArea(self, height: List[int]) -> int:\n",
    "        l, r = 0, len(height)\n",
    "        V = 0\n",
    "        while l < r:\n",
    "            V = max((r - l) * min(height[l], height[r]), V)\n",
    "            if height[l] < height[r]:\n",
    "                s = l + 1\n",
    "                while height[s] <= height[l] and s < r : s += 1\n",
    "                l = s\n",
    "            else:\n",
    "                s = r - 1\n",
    "                while height[s] <= height[r] and s > l : s -= 1\n",
    "                r = s\n",
    "        return V\n",
    "\n"
   ]
  },
  {
   "cell_type": "markdown",
   "metadata": {},
   "source": [
    "## Algorithm\n",
    "We start at the endpoints of the interval and move pointers inward gradually. The only way to increase volume is to increase `min(height[l], height[r])`, so we move the lower pointer inward and skip all calculations for even lower height, until it becomes higher than the present height. Then we can update the volume if it is bigger.\n",
    "\n",
    "## Submission result\n",
    "Time Submitted | Status | Runtime | Memory | Language\n",
    "---------- | ---------- | --------- | --------- | -----------\n",
    "08/12/2020 20:34 | Accepted | 120 ms | 15.3 MB | python3\n",
    "\n",
    "- Runtime: 120 ms, faster than 97.37% of Python3 online submissions for Container With Most Water.\n",
    "- Memory Usage: 15.3 MB, less than 80.34% of Python3 online submissions for Container With Most Water."
   ]
  }
 ],
 "metadata": {
  "kernelspec": {
   "display_name": "Python 3",
   "language": "python",
   "name": "python3"
  },
  "language_info": {
   "codemirror_mode": {
    "name": "ipython",
    "version": 3
   },
   "file_extension": ".py",
   "mimetype": "text/x-python",
   "name": "python",
   "nbconvert_exporter": "python",
   "pygments_lexer": "ipython3",
   "version": "3.6.3"
  }
 },
 "nbformat": 4,
 "nbformat_minor": 2
}
